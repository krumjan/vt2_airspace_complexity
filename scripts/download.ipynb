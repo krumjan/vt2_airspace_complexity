{
 "cells": [
  {
   "cell_type": "code",
   "execution_count": 1,
   "metadata": {},
   "outputs": [],
   "source": [
    "import os\n",
    "import functions as fn\n",
    "import pandas as pd\n",
    "from pathlib import Path\n",
    "from tqdm.auto import tqdm\n",
    "from traffic.core import Traffic"
   ]
  },
  {
   "attachments": {},
   "cell_type": "markdown",
   "metadata": {},
   "source": [
    "### Fetching data in daily packages"
   ]
  },
  {
   "cell_type": "code",
   "execution_count": 2,
   "metadata": {},
   "outputs": [],
   "source": [
    "# Fetching data in daily chunks\n",
    "dates = pd.date_range('2022-01-01', '2022-12-01', freq='D', tz=\"UTC\")\n",
    "area = fn.query_bound((47.48891, 8.85743), 20, 20)\n",
    "path_raw = 'data/rectangle_1/2022/raw'\n",
    "path_combined = 'data/rectangle_1/2022/combined'\n",
    "\n",
    "fn.download_adsb_para(dates, path_raw, fn.query_bound((47.48891, 8.85743), 20, 20))\n",
    "\n",
    "# Combining all the data into one file\n",
    "check_file = Path(f\"{path_combined}/combined.parquet\",\n",
    "                      use_deprecated_int96_timestamps=True)\n",
    "if check_file.is_file() == False:\n",
    "\n",
    "    files = os.listdir(path_raw)\n",
    "\n",
    "    for i in tqdm(range(len(files))):\n",
    "        if i == 0:\n",
    "            alldata = Traffic.from_file(f'{path_raw}/{files[i]}').data\n",
    "        else:\n",
    "            alldata = pd.concat([alldata, Traffic.from_file(f'{path_raw}/{files[i]}').data])\n",
    "\n",
    "    alldata = Traffic(alldata)\n",
    "\n",
    "    if os.path.isdir(path_combined) == False:\n",
    "            os.mkdir(path_combined)\n",
    "\n",
    "    alldata.to_parquet(f'{path_combined}/combined.parquet', use_deprecated_int96_timestamps=True)"
   ]
  }
 ],
 "metadata": {
  "kernelspec": {
   "display_name": "vt1_env",
   "language": "python",
   "name": "python3"
  },
  "language_info": {
   "codemirror_mode": {
    "name": "ipython",
    "version": 3
   },
   "file_extension": ".py",
   "mimetype": "text/x-python",
   "name": "python",
   "nbconvert_exporter": "python",
   "pygments_lexer": "ipython3",
   "version": "3.9.13"
  },
  "orig_nbformat": 4,
  "vscode": {
   "interpreter": {
    "hash": "a4306af9fc8325fc7c1bea53e9c03ca4ebd8a199763b5a2c4b85d5801b6dc0d8"
   }
  }
 },
 "nbformat": 4,
 "nbformat_minor": 2
}
