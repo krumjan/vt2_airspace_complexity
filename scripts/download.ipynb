{
 "cells": [
  {
   "cell_type": "code",
   "execution_count": 1,
   "metadata": {},
   "outputs": [],
   "source": [
    "from traffic.data import nm_airspaces\n",
    "from traffic.data import opensky\n",
    "from tqdm.auto import tqdm\n",
    "import functions as fn\n",
    "import numpy as np\n",
    "import os\n",
    "from traffic.core import Traffic\n",
    "import pandas as pd\n",
    "from ipyleaflet import Map, basemaps\n",
    "from ipywidgets import Layout\n",
    "from pathlib import Path"
   ]
  },
  {
   "attachments": {},
   "cell_type": "markdown",
   "metadata": {},
   "source": [
    "### Fetching data in daily packages"
   ]
  },
  {
   "cell_type": "code",
   "execution_count": 2,
   "metadata": {},
   "outputs": [
    {
     "name": "stdout",
     "output_type": "stream",
     "text": [
      "Downloading 2022-01-05...Downloading 2022-01-01...Downloading 2022-01-03...Downloading 2022-01-07...Downloading 2022-01-11...Downloading 2022-01-09...Downloading 2022-01-15...Downloading 2022-01-13...\n",
      "\n",
      "\n",
      "\n",
      "\n",
      "\n",
      "\n",
      "\n"
     ]
    },
    {
     "data": {
      "application/vnd.jupyter.widget-view+json": {
       "model_id": "4b1bda7cc44c4c6b91dad9a96167042c",
       "version_major": 2,
       "version_minor": 0
      },
      "text/plain": [
       "  0%|          | 0/24 [00:00<?, ?it/s]"
      ]
     },
     "metadata": {},
     "output_type": "display_data"
    },
    {
     "data": {
      "application/vnd.jupyter.widget-view+json": {
       "model_id": "1dae1d17005049a7a208ef43f0ed395d",
       "version_major": 2,
       "version_minor": 0
      },
      "text/plain": [
       "  0%|          | 0/24 [00:00<?, ?it/s]"
      ]
     },
     "metadata": {},
     "output_type": "display_data"
    },
    {
     "data": {
      "application/vnd.jupyter.widget-view+json": {
       "model_id": "6abee6aabb35487a8fc0c6d9f9ab7d28",
       "version_major": 2,
       "version_minor": 0
      },
      "text/plain": [
       "  0%|          | 0/24 [00:00<?, ?it/s]"
      ]
     },
     "metadata": {},
     "output_type": "display_data"
    },
    {
     "data": {
      "application/vnd.jupyter.widget-view+json": {
       "model_id": "5ee9fe4909184eed8afa40b00dd27839",
       "version_major": 2,
       "version_minor": 0
      },
      "text/plain": [
       "  0%|          | 0/24 [00:00<?, ?it/s]"
      ]
     },
     "metadata": {},
     "output_type": "display_data"
    },
    {
     "data": {
      "application/vnd.jupyter.widget-view+json": {
       "model_id": "d7e5c5be054a4610a5aa4eab3c475cac",
       "version_major": 2,
       "version_minor": 0
      },
      "text/plain": [
       "  0%|          | 0/24 [00:00<?, ?it/s]"
      ]
     },
     "metadata": {},
     "output_type": "display_data"
    },
    {
     "data": {
      "application/vnd.jupyter.widget-view+json": {
       "model_id": "8a75cd5389544bedb92ec2792337c93c",
       "version_major": 2,
       "version_minor": 0
      },
      "text/plain": [
       "  0%|          | 0/24 [00:00<?, ?it/s]"
      ]
     },
     "metadata": {},
     "output_type": "display_data"
    },
    {
     "data": {
      "application/vnd.jupyter.widget-view+json": {
       "model_id": "4e1f9b86c0854bf0b90942551ac185ff",
       "version_major": 2,
       "version_minor": 0
      },
      "text/plain": [
       "  0%|          | 0/24 [00:00<?, ?it/s]"
      ]
     },
     "metadata": {},
     "output_type": "display_data"
    },
    {
     "data": {
      "application/vnd.jupyter.widget-view+json": {
       "model_id": "8731ed115cca4d1981e91958b8db0191",
       "version_major": 2,
       "version_minor": 0
      },
      "text/plain": [
       "  0%|          | 0/24 [00:00<?, ?it/s]"
      ]
     },
     "metadata": {},
     "output_type": "display_data"
    },
    {
     "name": "stdout",
     "output_type": "stream",
     "text": [
      "Downloading 2022-01-14...\n"
     ]
    },
    {
     "data": {
      "application/vnd.jupyter.widget-view+json": {
       "model_id": "d628c577dcb44a3a86be13315b0bcc09",
       "version_major": 2,
       "version_minor": 0
      },
      "text/plain": [
       "  0%|          | 0/24 [00:00<?, ?it/s]"
      ]
     },
     "metadata": {},
     "output_type": "display_data"
    },
    {
     "name": "stdout",
     "output_type": "stream",
     "text": [
      "Downloading 2022-01-12...\n",
      "Downloading 2022-01-06...\n"
     ]
    },
    {
     "data": {
      "application/vnd.jupyter.widget-view+json": {
       "model_id": "9d7997665f4f4a158eb4b84982968508",
       "version_major": 2,
       "version_minor": 0
      },
      "text/plain": [
       "  0%|          | 0/24 [00:00<?, ?it/s]"
      ]
     },
     "metadata": {},
     "output_type": "display_data"
    },
    {
     "data": {
      "application/vnd.jupyter.widget-view+json": {
       "model_id": "dbe8034d6c0f49958806258a8d819483",
       "version_major": 2,
       "version_minor": 0
      },
      "text/plain": [
       "  0%|          | 0/24 [00:00<?, ?it/s]"
      ]
     },
     "metadata": {},
     "output_type": "display_data"
    },
    {
     "name": "stdout",
     "output_type": "stream",
     "text": [
      "Downloading 2022-01-02...\n",
      "Downloading 2022-01-08...\n"
     ]
    },
    {
     "data": {
      "application/vnd.jupyter.widget-view+json": {
       "model_id": "cea6cb126ca641cd94e0391009bbfd0f",
       "version_major": 2,
       "version_minor": 0
      },
      "text/plain": [
       "  0%|          | 0/24 [00:00<?, ?it/s]"
      ]
     },
     "metadata": {},
     "output_type": "display_data"
    },
    {
     "data": {
      "application/vnd.jupyter.widget-view+json": {
       "model_id": "541fea2edaac4ed487ed42317e279fa3",
       "version_major": 2,
       "version_minor": 0
      },
      "text/plain": [
       "  0%|          | 0/24 [00:00<?, ?it/s]"
      ]
     },
     "metadata": {},
     "output_type": "display_data"
    },
    {
     "name": "stdout",
     "output_type": "stream",
     "text": [
      "Downloading 2022-01-04...\n"
     ]
    },
    {
     "data": {
      "application/vnd.jupyter.widget-view+json": {
       "model_id": "6d18922a711542a1b2bb32c5a5a5122a",
       "version_major": 2,
       "version_minor": 0
      },
      "text/plain": [
       "  0%|          | 0/24 [00:00<?, ?it/s]"
      ]
     },
     "metadata": {},
     "output_type": "display_data"
    },
    {
     "name": "stdout",
     "output_type": "stream",
     "text": [
      "Downloading 2022-01-10...\n"
     ]
    },
    {
     "data": {
      "application/vnd.jupyter.widget-view+json": {
       "model_id": "00a2e2d096464e1985f3223dc05186f6",
       "version_major": 2,
       "version_minor": 0
      },
      "text/plain": [
       "  0%|          | 0/24 [00:00<?, ?it/s]"
      ]
     },
     "metadata": {},
     "output_type": "display_data"
    },
    {
     "name": "stdout",
     "output_type": "stream",
     "text": [
      "Downloading 2022-01-16...\n"
     ]
    },
    {
     "data": {
      "application/vnd.jupyter.widget-view+json": {
       "model_id": "47c8e8ee6ff647f6869a2b0931ee6d03",
       "version_major": 2,
       "version_minor": 0
      },
      "text/plain": [
       "  0%|          | 0/24 [00:00<?, ?it/s]"
      ]
     },
     "metadata": {},
     "output_type": "display_data"
    },
    {
     "name": "stdout",
     "output_type": "stream",
     "text": [
      "Downloading 2022-01-17...\n"
     ]
    },
    {
     "data": {
      "application/vnd.jupyter.widget-view+json": {
       "model_id": "c3332d39196f4c439d71abc70a49bd24",
       "version_major": 2,
       "version_minor": 0
      },
      "text/plain": [
       "  0%|          | 0/24 [00:00<?, ?it/s]"
      ]
     },
     "metadata": {},
     "output_type": "display_data"
    },
    {
     "name": "stdout",
     "output_type": "stream",
     "text": [
      "Downloading 2022-01-19...\n"
     ]
    },
    {
     "data": {
      "application/vnd.jupyter.widget-view+json": {
       "model_id": "e7236077ac8a4444a0426251458485bb",
       "version_major": 2,
       "version_minor": 0
      },
      "text/plain": [
       "  0%|          | 0/24 [00:00<?, ?it/s]"
      ]
     },
     "metadata": {},
     "output_type": "display_data"
    },
    {
     "name": "stdout",
     "output_type": "stream",
     "text": [
      "Downloading 2022-01-21...\n"
     ]
    },
    {
     "data": {
      "application/vnd.jupyter.widget-view+json": {
       "model_id": "285e83e4b48a401fb65543a9f299735e",
       "version_major": 2,
       "version_minor": 0
      },
      "text/plain": [
       "  0%|          | 0/24 [00:00<?, ?it/s]"
      ]
     },
     "metadata": {},
     "output_type": "display_data"
    },
    {
     "name": "stdout",
     "output_type": "stream",
     "text": [
      "Downloading 2022-01-23...\n"
     ]
    },
    {
     "data": {
      "application/vnd.jupyter.widget-view+json": {
       "model_id": "6d90276a822d4b329dde190f7d6d53c5",
       "version_major": 2,
       "version_minor": 0
      },
      "text/plain": [
       "  0%|          | 0/24 [00:00<?, ?it/s]"
      ]
     },
     "metadata": {},
     "output_type": "display_data"
    },
    {
     "name": "stdout",
     "output_type": "stream",
     "text": [
      "Downloading 2022-01-25...\n",
      "Downloading 2022-01-27...\n"
     ]
    },
    {
     "data": {
      "application/vnd.jupyter.widget-view+json": {
       "model_id": "56f0da94d11c417d81a82d4a5c1d8da6",
       "version_major": 2,
       "version_minor": 0
      },
      "text/plain": [
       "  0%|          | 0/24 [00:00<?, ?it/s]"
      ]
     },
     "metadata": {},
     "output_type": "display_data"
    },
    {
     "name": "stdout",
     "output_type": "stream",
     "text": [
      "Downloading 2022-01-29...\n"
     ]
    },
    {
     "data": {
      "application/vnd.jupyter.widget-view+json": {
       "model_id": "49c7c2fcc6ff41a0b56cd89bc36c344d",
       "version_major": 2,
       "version_minor": 0
      },
      "text/plain": [
       "  0%|          | 0/24 [00:00<?, ?it/s]"
      ]
     },
     "metadata": {},
     "output_type": "display_data"
    },
    {
     "data": {
      "application/vnd.jupyter.widget-view+json": {
       "model_id": "5e000d85ea3143038d1e9176e050abba",
       "version_major": 2,
       "version_minor": 0
      },
      "text/plain": [
       "  0%|          | 0/24 [00:00<?, ?it/s]"
      ]
     },
     "metadata": {},
     "output_type": "display_data"
    },
    {
     "name": "stdout",
     "output_type": "stream",
     "text": [
      "Downloading 2022-01-31...\n"
     ]
    },
    {
     "data": {
      "application/vnd.jupyter.widget-view+json": {
       "model_id": "024948f87ba44cc0b73ef9f283606e68",
       "version_major": 2,
       "version_minor": 0
      },
      "text/plain": [
       "  0%|          | 0/24 [00:00<?, ?it/s]"
      ]
     },
     "metadata": {},
     "output_type": "display_data"
    },
    {
     "name": "stdout",
     "output_type": "stream",
     "text": [
      "Downloading 2022-01-18...\n"
     ]
    },
    {
     "data": {
      "application/vnd.jupyter.widget-view+json": {
       "model_id": "eec23070eb3a4f74b68a136620aee5c8",
       "version_major": 2,
       "version_minor": 0
      },
      "text/plain": [
       "  0%|          | 0/24 [00:00<?, ?it/s]"
      ]
     },
     "metadata": {},
     "output_type": "display_data"
    },
    {
     "name": "stdout",
     "output_type": "stream",
     "text": [
      "Downloading 2022-01-20...\n",
      "Downloading 2022-01-30...\n"
     ]
    },
    {
     "data": {
      "application/vnd.jupyter.widget-view+json": {
       "model_id": "e650a8e9750b4c8ba093ca8db538c68d",
       "version_major": 2,
       "version_minor": 0
      },
      "text/plain": [
       "  0%|          | 0/24 [00:00<?, ?it/s]"
      ]
     },
     "metadata": {},
     "output_type": "display_data"
    },
    {
     "data": {
      "application/vnd.jupyter.widget-view+json": {
       "model_id": "0d69274dca9d4621a824a3c147528fc8",
       "version_major": 2,
       "version_minor": 0
      },
      "text/plain": [
       "  0%|          | 0/24 [00:00<?, ?it/s]"
      ]
     },
     "metadata": {},
     "output_type": "display_data"
    },
    {
     "name": "stdout",
     "output_type": "stream",
     "text": [
      "Downloading 2022-01-22...\n"
     ]
    },
    {
     "data": {
      "application/vnd.jupyter.widget-view+json": {
       "model_id": "4c559755dbb84134ab723ad5c1356b69",
       "version_major": 2,
       "version_minor": 0
      },
      "text/plain": [
       "  0%|          | 0/24 [00:00<?, ?it/s]"
      ]
     },
     "metadata": {},
     "output_type": "display_data"
    },
    {
     "name": "stdout",
     "output_type": "stream",
     "text": [
      "Downloading 2022-01-28...\n"
     ]
    },
    {
     "data": {
      "application/vnd.jupyter.widget-view+json": {
       "model_id": "c1ec34c16f4d4d9d8299eab5d4a24f30",
       "version_major": 2,
       "version_minor": 0
      },
      "text/plain": [
       "  0%|          | 0/24 [00:00<?, ?it/s]"
      ]
     },
     "metadata": {},
     "output_type": "display_data"
    },
    {
     "name": "stdout",
     "output_type": "stream",
     "text": [
      "Downloading 2022-01-24...\n",
      "Downloading 2022-01-26...\n"
     ]
    },
    {
     "data": {
      "application/vnd.jupyter.widget-view+json": {
       "model_id": "a7119941f6874fea95e6d5a06d47852d",
       "version_major": 2,
       "version_minor": 0
      },
      "text/plain": [
       "  0%|          | 0/24 [00:00<?, ?it/s]"
      ]
     },
     "metadata": {},
     "output_type": "display_data"
    },
    {
     "data": {
      "application/vnd.jupyter.widget-view+json": {
       "model_id": "a43e74b0e9ac4f4087f6c3839b59f05d",
       "version_major": 2,
       "version_minor": 0
      },
      "text/plain": [
       "  0%|          | 0/24 [00:00<?, ?it/s]"
      ]
     },
     "metadata": {},
     "output_type": "display_data"
    },
    {
     "name": "stdout",
     "output_type": "stream",
     "text": [
      "Downloading 2022-02-01...\n"
     ]
    },
    {
     "data": {
      "application/vnd.jupyter.widget-view+json": {
       "model_id": "fa69c3ab4480459e91785d5b62c28732",
       "version_major": 2,
       "version_minor": 0
      },
      "text/plain": [
       "  0%|          | 0/24 [00:00<?, ?it/s]"
      ]
     },
     "metadata": {},
     "output_type": "display_data"
    },
    {
     "name": "stdout",
     "output_type": "stream",
     "text": [
      "Downloading 2022-02-02...\n"
     ]
    },
    {
     "data": {
      "application/vnd.jupyter.widget-view+json": {
       "model_id": "dcb0f1c1d1de46fe999f61f69475c8a9",
       "version_major": 2,
       "version_minor": 0
      },
      "text/plain": [
       "  0%|          | 0/24 [00:00<?, ?it/s]"
      ]
     },
     "metadata": {},
     "output_type": "display_data"
    },
    {
     "name": "stdout",
     "output_type": "stream",
     "text": [
      "Downloading 2022-02-04...\n"
     ]
    },
    {
     "data": {
      "application/vnd.jupyter.widget-view+json": {
       "model_id": "7247e0c2ed444145996c645ef55f176c",
       "version_major": 2,
       "version_minor": 0
      },
      "text/plain": [
       "  0%|          | 0/24 [00:00<?, ?it/s]"
      ]
     },
     "metadata": {},
     "output_type": "display_data"
    },
    {
     "name": "stdout",
     "output_type": "stream",
     "text": [
      "Downloading 2022-02-06...\n"
     ]
    },
    {
     "data": {
      "application/vnd.jupyter.widget-view+json": {
       "model_id": "59ea4fa78f094bde9ef7fa15616cd83e",
       "version_major": 2,
       "version_minor": 0
      },
      "text/plain": [
       "  0%|          | 0/24 [00:00<?, ?it/s]"
      ]
     },
     "metadata": {},
     "output_type": "display_data"
    },
    {
     "name": "stdout",
     "output_type": "stream",
     "text": [
      "Downloading 2022-02-08...\n"
     ]
    },
    {
     "data": {
      "application/vnd.jupyter.widget-view+json": {
       "model_id": "d2f512bce0df4aa782cc83bf9b216aaa",
       "version_major": 2,
       "version_minor": 0
      },
      "text/plain": [
       "  0%|          | 0/24 [00:00<?, ?it/s]"
      ]
     },
     "metadata": {},
     "output_type": "display_data"
    },
    {
     "name": "stdout",
     "output_type": "stream",
     "text": [
      "Downloading 2022-02-10...\n"
     ]
    },
    {
     "data": {
      "application/vnd.jupyter.widget-view+json": {
       "model_id": "3c30247cd5ea46809359f5f112c88bbb",
       "version_major": 2,
       "version_minor": 0
      },
      "text/plain": [
       "  0%|          | 0/24 [00:00<?, ?it/s]"
      ]
     },
     "metadata": {},
     "output_type": "display_data"
    },
    {
     "name": "stdout",
     "output_type": "stream",
     "text": [
      "Downloading 2022-02-12...\n"
     ]
    },
    {
     "data": {
      "application/vnd.jupyter.widget-view+json": {
       "model_id": "d96a2fd5282845f489d03fb3c1e9bff2",
       "version_major": 2,
       "version_minor": 0
      },
      "text/plain": [
       "  0%|          | 0/24 [00:00<?, ?it/s]"
      ]
     },
     "metadata": {},
     "output_type": "display_data"
    },
    {
     "name": "stdout",
     "output_type": "stream",
     "text": [
      "Downloading 2022-02-14...\n"
     ]
    },
    {
     "data": {
      "application/vnd.jupyter.widget-view+json": {
       "model_id": "ea41e9a42ad44f75b7f894410251c3f4",
       "version_major": 2,
       "version_minor": 0
      },
      "text/plain": [
       "  0%|          | 0/24 [00:00<?, ?it/s]"
      ]
     },
     "metadata": {},
     "output_type": "display_data"
    },
    {
     "name": "stdout",
     "output_type": "stream",
     "text": [
      "Downloading 2022-02-16...\n"
     ]
    },
    {
     "data": {
      "application/vnd.jupyter.widget-view+json": {
       "model_id": "d73823b508844506b864973b251da102",
       "version_major": 2,
       "version_minor": 0
      },
      "text/plain": [
       "  0%|          | 0/24 [00:00<?, ?it/s]"
      ]
     },
     "metadata": {},
     "output_type": "display_data"
    },
    {
     "name": "stdout",
     "output_type": "stream",
     "text": [
      "Downloading 2022-02-03...\n"
     ]
    },
    {
     "data": {
      "application/vnd.jupyter.widget-view+json": {
       "model_id": "3b73cc11827c4cec892c7047fbf8a5c1",
       "version_major": 2,
       "version_minor": 0
      },
      "text/plain": [
       "  0%|          | 0/24 [00:00<?, ?it/s]"
      ]
     },
     "metadata": {},
     "output_type": "display_data"
    },
    {
     "name": "stdout",
     "output_type": "stream",
     "text": [
      "Downloading 2022-02-05...\n",
      "Downloading 2022-02-09...\n",
      "Downloading 2022-02-11..."
     ]
    },
    {
     "data": {
      "application/vnd.jupyter.widget-view+json": {
       "model_id": "fb5483f2e6644056ae41bdb515bf4b26",
       "version_major": 2,
       "version_minor": 0
      },
      "text/plain": [
       "  0%|          | 0/24 [00:00<?, ?it/s]"
      ]
     },
     "metadata": {},
     "output_type": "display_data"
    },
    {
     "name": "stdout",
     "output_type": "stream",
     "text": [
      "\n"
     ]
    },
    {
     "data": {
      "application/vnd.jupyter.widget-view+json": {
       "model_id": "e0913d768bba44adb0eb222b7283d03c",
       "version_major": 2,
       "version_minor": 0
      },
      "text/plain": [
       "  0%|          | 0/24 [00:00<?, ?it/s]"
      ]
     },
     "metadata": {},
     "output_type": "display_data"
    },
    {
     "data": {
      "application/vnd.jupyter.widget-view+json": {
       "model_id": "9077ad6ea3234c308629b189e8012af0",
       "version_major": 2,
       "version_minor": 0
      },
      "text/plain": [
       "  0%|          | 0/24 [00:00<?, ?it/s]"
      ]
     },
     "metadata": {},
     "output_type": "display_data"
    },
    {
     "name": "stdout",
     "output_type": "stream",
     "text": [
      "Downloading 2022-02-07...\n"
     ]
    },
    {
     "data": {
      "application/vnd.jupyter.widget-view+json": {
       "model_id": "b6f80805fb0f43768f9e7a7ac3186fc4",
       "version_major": 2,
       "version_minor": 0
      },
      "text/plain": [
       "  0%|          | 0/24 [00:00<?, ?it/s]"
      ]
     },
     "metadata": {},
     "output_type": "display_data"
    },
    {
     "name": "stdout",
     "output_type": "stream",
     "text": [
      "Downloading 2022-02-17...\n"
     ]
    },
    {
     "data": {
      "application/vnd.jupyter.widget-view+json": {
       "model_id": "1eaac08016154cd88192b1ce3f379b2f",
       "version_major": 2,
       "version_minor": 0
      },
      "text/plain": [
       "  0%|          | 0/24 [00:00<?, ?it/s]"
      ]
     },
     "metadata": {},
     "output_type": "display_data"
    },
    {
     "name": "stdout",
     "output_type": "stream",
     "text": [
      "Downloading 2022-02-15...\n"
     ]
    },
    {
     "data": {
      "application/vnd.jupyter.widget-view+json": {
       "model_id": "6cb014341ecb43a8b406dad8a71a44dd",
       "version_major": 2,
       "version_minor": 0
      },
      "text/plain": [
       "  0%|          | 0/24 [00:00<?, ?it/s]"
      ]
     },
     "metadata": {},
     "output_type": "display_data"
    },
    {
     "name": "stdout",
     "output_type": "stream",
     "text": [
      "Downloading 2022-02-18...\n"
     ]
    },
    {
     "data": {
      "application/vnd.jupyter.widget-view+json": {
       "model_id": "73de37e6796549f881f6a105d5e76090",
       "version_major": 2,
       "version_minor": 0
      },
      "text/plain": [
       "  0%|          | 0/24 [00:00<?, ?it/s]"
      ]
     },
     "metadata": {},
     "output_type": "display_data"
    },
    {
     "name": "stdout",
     "output_type": "stream",
     "text": [
      "Downloading 2022-02-13...\n"
     ]
    },
    {
     "data": {
      "application/vnd.jupyter.widget-view+json": {
       "model_id": "e6760c3e24214c948cac721f4fcb332b",
       "version_major": 2,
       "version_minor": 0
      },
      "text/plain": [
       "  0%|          | 0/24 [00:00<?, ?it/s]"
      ]
     },
     "metadata": {},
     "output_type": "display_data"
    },
    {
     "name": "stdout",
     "output_type": "stream",
     "text": [
      "Downloading 2022-02-20...\n"
     ]
    },
    {
     "data": {
      "application/vnd.jupyter.widget-view+json": {
       "model_id": "efda1fd8c0ba47ffbfe383284df5b775",
       "version_major": 2,
       "version_minor": 0
      },
      "text/plain": [
       "  0%|          | 0/24 [00:00<?, ?it/s]"
      ]
     },
     "metadata": {},
     "output_type": "display_data"
    },
    {
     "name": "stdout",
     "output_type": "stream",
     "text": [
      "Downloading 2022-02-22...\n"
     ]
    },
    {
     "data": {
      "application/vnd.jupyter.widget-view+json": {
       "model_id": "a7259b7d6c884091968e41784cf22b3a",
       "version_major": 2,
       "version_minor": 0
      },
      "text/plain": [
       "  0%|          | 0/24 [00:00<?, ?it/s]"
      ]
     },
     "metadata": {},
     "output_type": "display_data"
    },
    {
     "name": "stdout",
     "output_type": "stream",
     "text": [
      "Downloading 2022-02-24...\n",
      "Downloading 2022-02-26...\n"
     ]
    },
    {
     "data": {
      "application/vnd.jupyter.widget-view+json": {
       "model_id": "e328173af42c48d789e54d544612ed09",
       "version_major": 2,
       "version_minor": 0
      },
      "text/plain": [
       "  0%|          | 0/24 [00:00<?, ?it/s]"
      ]
     },
     "metadata": {},
     "output_type": "display_data"
    },
    {
     "data": {
      "application/vnd.jupyter.widget-view+json": {
       "model_id": "97cb11b993e84fbe83b81f332441f58b",
       "version_major": 2,
       "version_minor": 0
      },
      "text/plain": [
       "  0%|          | 0/24 [00:00<?, ?it/s]"
      ]
     },
     "metadata": {},
     "output_type": "display_data"
    },
    {
     "name": "stdout",
     "output_type": "stream",
     "text": [
      "Downloading 2022-02-28...\n"
     ]
    },
    {
     "data": {
      "application/vnd.jupyter.widget-view+json": {
       "model_id": "f56a649e20cd43ac84b2ac13b81c4fd2",
       "version_major": 2,
       "version_minor": 0
      },
      "text/plain": [
       "  0%|          | 0/24 [00:00<?, ?it/s]"
      ]
     },
     "metadata": {},
     "output_type": "display_data"
    },
    {
     "name": "stdout",
     "output_type": "stream",
     "text": [
      "Downloading 2022-02-19...\n"
     ]
    },
    {
     "data": {
      "application/vnd.jupyter.widget-view+json": {
       "model_id": "2a76fed6b13843f7992a886e77af1b95",
       "version_major": 2,
       "version_minor": 0
      },
      "text/plain": [
       "  0%|          | 0/24 [00:00<?, ?it/s]"
      ]
     },
     "metadata": {},
     "output_type": "display_data"
    },
    {
     "name": "stdout",
     "output_type": "stream",
     "text": [
      "Downloading 2022-02-23...\n"
     ]
    },
    {
     "data": {
      "application/vnd.jupyter.widget-view+json": {
       "model_id": "e73ee4f3ea09493e875dd4637b2de97e",
       "version_major": 2,
       "version_minor": 0
      },
      "text/plain": [
       "  0%|          | 0/24 [00:00<?, ?it/s]"
      ]
     },
     "metadata": {},
     "output_type": "display_data"
    },
    {
     "name": "stdout",
     "output_type": "stream",
     "text": [
      "Downloading 2022-02-21...\n"
     ]
    },
    {
     "data": {
      "application/vnd.jupyter.widget-view+json": {
       "model_id": "c5c5531be57442e4946a9c0bfd50d2bf",
       "version_major": 2,
       "version_minor": 0
      },
      "text/plain": [
       "  0%|          | 0/24 [00:00<?, ?it/s]"
      ]
     },
     "metadata": {},
     "output_type": "display_data"
    },
    {
     "name": "stdout",
     "output_type": "stream",
     "text": [
      "Downloading 2022-02-27...\n"
     ]
    },
    {
     "data": {
      "application/vnd.jupyter.widget-view+json": {
       "model_id": "d4984ea0146245e0b3e539d224511eb3",
       "version_major": 2,
       "version_minor": 0
      },
      "text/plain": [
       "  0%|          | 0/24 [00:00<?, ?it/s]"
      ]
     },
     "metadata": {},
     "output_type": "display_data"
    },
    {
     "name": "stdout",
     "output_type": "stream",
     "text": [
      "Downloading 2022-02-25...\n"
     ]
    },
    {
     "data": {
      "application/vnd.jupyter.widget-view+json": {
       "model_id": "296a035ac67b4036a33c1d820170dac0",
       "version_major": 2,
       "version_minor": 0
      },
      "text/plain": [
       "  0%|          | 0/24 [00:00<?, ?it/s]"
      ]
     },
     "metadata": {},
     "output_type": "display_data"
    },
    {
     "data": {
      "application/vnd.jupyter.widget-view+json": {
       "model_id": "aaa7bae8346442b2a3c1011a6e5e10a4",
       "version_major": 2,
       "version_minor": 0
      },
      "text/plain": [
       "  0%|          | 0/59 [00:00<?, ?it/s]"
      ]
     },
     "metadata": {},
     "output_type": "display_data"
    }
   ],
   "source": [
    "# Fetching data in daily chunks\n",
    "dates = pd.date_range('2022-01-01', '2022-03-01', freq='D', tz=\"UTC\")\n",
    "area = fn.query_bound((47.48891, 8.85743), 20, 20)\n",
    "path_raw = 'data/rectangle_1/2022/raw'\n",
    "path_combined = 'data/rectangle_1/2022/combined'\n",
    "\n",
    "fn.download_adsb_para(dates, path_raw, fn.query_bound((47.48891, 8.85743), 20, 20))\n",
    "\n",
    "# Combining all the data into one file\n",
    "files = os.listdir(path_raw)\n",
    "\n",
    "if not os.path.exists('data/rectangle_1/2022/raw'):\n",
    "    os.makedirs('data/rectangle_1/2022/raw')\n",
    "\n",
    "for i in tqdm(range(len(files))):\n",
    "    if i == 0:\n",
    "        alldata = Traffic.from_file(f'{path_raw}/{files[i]}').data\n",
    "    else:\n",
    "        alldata = pd.concat([alldata, Traffic.from_file(f'{path_raw}/{files[i]}').data])\n",
    "\n",
    "alldata = Traffic(alldata)\n",
    "\n",
    "if os.path.isdir(path_combined) == False:\n",
    "        os.mkdir(path_combined)\n",
    "\n",
    "alldata.to_parquet(f'{path_combined}/combined.parquet', use_deprecated_int96_timestamps=True)"
   ]
  },
  {
   "cell_type": "code",
   "execution_count": null,
   "metadata": {},
   "outputs": [],
   "source": [
    "# from operator import attrgetter\n",
    "# max(\n",
    "#     nm_airspaces.query('type == \"CS\" and designator.str.startswith(\"LSAZ\")'),\n",
    "#     key=attrgetter(\"area\"),  # equivalent to `lambda x: x.area`\n",
    "# )\n",
    "\n",
    "# nm_airspaces.query('type == \"CS\" and designator.str.startswith(\"LSAZ\")').data.iloc[150]"
   ]
  },
  {
   "cell_type": "code",
   "execution_count": null,
   "metadata": {},
   "outputs": [],
   "source": [
    "map_ = Map(\n",
    "    center=(47.48891, 8.85743),\n",
    "    zoom=8,\n",
    "    basemap=basemaps.CartoDB.Positron,\n",
    "    layout=Layout(width=\"1000px\", height=\"1000px\"),\n",
    ")\n",
    "\n",
    "map_.add_layer(nm_airspaces[\"LSAZM7\"])\n",
    "map_"
   ]
  },
  {
   "cell_type": "code",
   "execution_count": null,
   "metadata": {},
   "outputs": [],
   "source": [
    "import os\n",
    "from traffic.core import Traffic\n",
    "\n",
    "files = os.listdir(\"data/rectangle_1/2022\")\n",
    "files\n",
    "\n",
    "for i in tqdm(range(len(files))):\n",
    "    if i == 0:\n",
    "        alldata = Traffic.from_file(f'data/rectangle_1/2022/{files[i]}').data\n",
    "    else:\n",
    "        alldata = pd.concat([alldata, Traffic.from_file(f'data/rectangle_1/2022/{files[i]}').data])\n",
    "\n",
    "alldata = Traffic(alldata)"
   ]
  },
  {
   "cell_type": "code",
   "execution_count": null,
   "metadata": {},
   "outputs": [],
   "source": [
    "alldata = Traffic(alldata.data[alldata.data.onground == False])\n",
    "# alldata = Traffic(alldata.data[alldata.data.geoaltitude > 6000])\n",
    "alldata = Traffic(alldata.data[alldata.data.altitude > 30000])\n",
    "alldata = Traffic(alldata.data[alldata.data.altitude < 33000])\n",
    "# alldata = Traffic(alldata.data[alldata.data.altitude < 24500])"
   ]
  },
  {
   "cell_type": "code",
   "execution_count": null,
   "metadata": {},
   "outputs": [],
   "source": [
    "map_ = Map(\n",
    "    center=(47.48891, 8.85743),\n",
    "    zoom=8,\n",
    "    basemap=basemaps.CartoDB.Positron,\n",
    "    layout=Layout(width=\"1000px\", height=\"1000px\"),\n",
    ")\n",
    "\n",
    "for flight in alldata:\n",
    "    map_.add_layer(flight)\n",
    "\n",
    "map_"
   ]
  },
  {
   "cell_type": "code",
   "execution_count": null,
   "metadata": {},
   "outputs": [],
   "source": [
    "# alldata = alldata.clip(nm_airspaces[\"LSAZALL\"].shape).eval(desc=\"clipping\", max_workers=2)"
   ]
  },
  {
   "cell_type": "code",
   "execution_count": null,
   "metadata": {},
   "outputs": [],
   "source": [
    "alldata.data.altitude.plot.hist(bins=100)"
   ]
  },
  {
   "cell_type": "code",
   "execution_count": null,
   "metadata": {},
   "outputs": [],
   "source": [
    "# map_ = Map(\n",
    "#     center=(47.48891, 8.85743),\n",
    "#     zoom=7,\n",
    "#     basemap=basemaps.CartoDB.Positron,\n",
    "#     layout=Layout(width=\"2000px\", height=\"1600px\"),\n",
    "# )\n",
    "\n",
    "# for flight in alldata:\n",
    "#     map_.add_layer(flight, color='red', weight=1, opacity=0.1)\n",
    "# map_.add_layer(nm_airspaces[\"LSAZALL\"], weight=2, color='black', fill = False)\n",
    "# map_"
   ]
  },
  {
   "cell_type": "code",
   "execution_count": null,
   "metadata": {},
   "outputs": [],
   "source": [
    "t_unwrapped = alldata.assign_id().unwrap().eval(max_workers=4)"
   ]
  },
  {
   "cell_type": "code",
   "execution_count": null,
   "metadata": {},
   "outputs": [],
   "source": [
    "from sklearn.cluster import DBSCAN\n",
    "from sklearn.mixture import GaussianMixture\n",
    "from sklearn.preprocessing import StandardScaler\n",
    "from cartes.crs import CH1903p\n",
    "\n",
    "t_gmm = t_unwrapped.clustering(\n",
    "    nb_samples=15,\n",
    "    projection=CH1903p(),\n",
    "    features=[\"x\", \"y\", \"track_unwrapped\"],\n",
    "    clustering=GaussianMixture(n_components=30),\n",
    "    transform=StandardScaler(),\n",
    ").fit_predict()"
   ]
  },
  {
   "cell_type": "code",
   "execution_count": null,
   "metadata": {},
   "outputs": [],
   "source": [
    "dict(t_gmm.groupby([\"cluster\"]).agg({\"flight_id\": \"nunique\"}).flight_id)"
   ]
  },
  {
   "cell_type": "code",
   "execution_count": null,
   "metadata": {},
   "outputs": [],
   "source": [
    "n_clusters = 1 + t_gmm.data.cluster.max()"
   ]
  },
  {
   "cell_type": "code",
   "execution_count": null,
   "metadata": {},
   "outputs": [],
   "source": [
    "from ipyleaflet import Map, basemaps, MeasureControl, Polyline\n",
    "from ipywidgets import Layout\n",
    "from traffic.data import nm_airspaces\n",
    "\n",
    "map_ = Map(\n",
    "    center=(47.48891, 8.85743),\n",
    "    zoom=8,\n",
    "    basemap=basemaps.CartoDB.Positron,\n",
    "    layout=Layout(width=\"1000px\", height=\"1000px\"),\n",
    ")\n",
    "\n",
    "# get list of length x with unique colors\n",
    "color_cycle = fn.generate_color_list(n_clusters)\n",
    "\n",
    "for cluster in range(n_clusters):\n",
    "    for flight in t_gmm.query(f\"cluster == {cluster}\"):\n",
    "        map_.add_layer(flight, weight=1, color = color_cycle[cluster], opacity=0.3)\n",
    "map_.add_layer(nm_airspaces[\"LSAZM7\"], weight=2, color='black', fill = False)\n",
    "map_"
   ]
  },
  {
   "cell_type": "code",
   "execution_count": null,
   "metadata": {},
   "outputs": [],
   "source": [
    "from traffic.core.projection import EuroPP\n",
    "\n",
    "t = (\n",
    "    t_gmm.query(f\"cluster == {5}\")\n",
    "    .assign_id()\n",
    "    .unwrap()\n",
    "    .resample(100)\n",
    "    .eval()\n",
    ")\n",
    "\n",
    "t = t.compute_xy(projection=EuroPP())"
   ]
  },
  {
   "cell_type": "code",
   "execution_count": null,
   "metadata": {},
   "outputs": [],
   "source": [
    "from traffic.core import Traffic\n",
    "\n",
    "def compute_timedelta(df: \"pd.DataFrame\"):\n",
    "    return (df.timestamp - df.timestamp.min()).dt.total_seconds()\n",
    "\n",
    "t = t.iterate_lazy().assign(timedelta=compute_timedelta).eval()"
   ]
  },
  {
   "cell_type": "code",
   "execution_count": null,
   "metadata": {},
   "outputs": [],
   "source": [
    "df = t.data\n",
    "df_new = df[np.isfinite(df[[\"x\", \"y\", \"altitude\", \"timedelta\"]]).all(1)]\n",
    "df_new = df_new.drop_duplicates(subset=\"timestamp\", keep=\"first\")\n",
    "t = Traffic(df_new)\n",
    "\n",
    "t = (\n",
    "    t\n",
    "    .assign_id()\n",
    "    .unwrap()\n",
    "    .resample(100)\n",
    "    .eval()\n",
    ")"
   ]
  },
  {
   "cell_type": "code",
   "execution_count": null,
   "metadata": {},
   "outputs": [],
   "source": [
    "from sklearn.mixture import GaussianMixture\n",
    "from sklearn.preprocessing import MinMaxScaler\n",
    "from traffic.algorithms.generation import Generation\n",
    "\n",
    "g1 = Generation(\n",
    "    generation=GaussianMixture(n_components=4),\n",
    "    features=[\"x\", \"y\", \"altitude\", \"timedelta\"],\n",
    "    scaler=MinMaxScaler(feature_range=(-1, 1))\n",
    ").fit(t)"
   ]
  },
  {
   "cell_type": "code",
   "execution_count": null,
   "metadata": {},
   "outputs": [],
   "source": [
    "t_gen1 = g1.sample(200, projection=EuroPP())"
   ]
  },
  {
   "cell_type": "code",
   "execution_count": null,
   "metadata": {},
   "outputs": [],
   "source": [
    "# t = (\n",
    "#     t\n",
    "#     .drop_duplicates(subset=\"timestamp\", keep=\"first\")\n",
    "#     .resample(200)\n",
    "#     .eval(max_workers=2)\n",
    "# )\n",
    "# t_gen1 = (\n",
    "#     t_gen1\n",
    "#     .drop_duplicates(subset=\"timestamp\", keep=\"first\")\n",
    "#     .resample(200)\n",
    "#     .eval(max_workers=2)\n",
    "# )\n",
    "# t_gen1 = t_gen1.clip(nm_airspaces[\"LSAZM7\"].shape.bounds).eval(desc=\"clipping\", max_workers=2)\n",
    "# t = t.clip(nm_airspaces[\"LSAZM7\"].shape.bounds).eval(desc=\"clipping\", max_workers=2)"
   ]
  },
  {
   "cell_type": "code",
   "execution_count": null,
   "metadata": {},
   "outputs": [],
   "source": [
    "from ipyleaflet import Map, basemaps, MeasureControl, Polyline\n",
    "from ipywidgets import Layout\n",
    "from traffic.data import nm_airspaces\n",
    "\n",
    "map_ = Map(\n",
    "    center=(47.48891, 8.85743),\n",
    "    zoom=8,\n",
    "    basemap=basemaps.CartoDB.Positron,\n",
    "    layout=Layout(width=\"1500px\", height=\"1500px\"),\n",
    ")\n",
    "\n",
    "# get list of length x with unique colors\n",
    "color_cycle = fn.generate_color_list(n_clusters)\n",
    "\n",
    "for flight in t_gen1:\n",
    "    map_.add_layer(flight, weight=1, color = 'red', opacity=0.3)\n",
    "\n",
    "for flight in t:\n",
    "    map_.add_layer(flight, weight=1, color = 'blue', opacity=0.3)\n",
    "\n",
    "map_.add_layer(nm_airspaces[\"LSAZM7\"], weight=2, color='black', fill = False)\n",
    "map_"
   ]
  },
  {
   "cell_type": "code",
   "execution_count": null,
   "metadata": {},
   "outputs": [],
   "source": [
    "import plotly.graph_objects as go\n",
    "\n",
    "fig = go.Figure(go.Scatter())\n",
    "\n",
    "for flight in t:\n",
    "    fig.add_trace(go.Scatter(\n",
    "        mode=\"lines\",\n",
    "        x=[*range(len(flight.data))],\n",
    "        y=flight.data.altitude,\n",
    "        line=dict(color='rgba(0, 0, 255, 0.3)', width=1)\n",
    "    ))\n",
    "\n",
    "for flight in t_gen1:\n",
    "    fig.add_trace(go.Scatter(\n",
    "        mode=\"lines\",\n",
    "        x=[*range(len(flight.data))],\n",
    "        y=flight.data.altitude,\n",
    "        line=dict(color='rgba(255, 0, 0, 0.3)', width=1)\n",
    "    ))\n",
    "\n",
    "fig.show()\n",
    "\n",
    "# 217 # provided input\n",
    "# 218 f i g = go . Figure (\n",
    "# 219 data=go . S c a t t e r ( x=given . time , y=given . a l t , name=\" input \" , mode=\"markers+ l i n e s \" )\n",
    "# 220 )\n",
    "# 221 # predi c ted futur e a l t i t ud e\n",
    "# 222 f i g . add_t race (\n",
    "# 223 go . S c a t t e r (\n",
    "# 224 x=predi c ted . time , y=predi c ted . a l t , name=\" predi c ted \" , mode=\"markers+ l i n e s \"\n",
    "# 225 )\n",
    "# 226 )\n",
    "# 227 #"
   ]
  }
 ],
 "metadata": {
  "kernelspec": {
   "display_name": "vt1_env",
   "language": "python",
   "name": "python3"
  },
  "language_info": {
   "codemirror_mode": {
    "name": "ipython",
    "version": 3
   },
   "file_extension": ".py",
   "mimetype": "text/x-python",
   "name": "python",
   "nbconvert_exporter": "python",
   "pygments_lexer": "ipython3",
   "version": "3.9.13"
  },
  "orig_nbformat": 4,
  "vscode": {
   "interpreter": {
    "hash": "a4306af9fc8325fc7c1bea53e9c03ca4ebd8a199763b5a2c4b85d5801b6dc0d8"
   }
  }
 },
 "nbformat": 4,
 "nbformat_minor": 2
}
