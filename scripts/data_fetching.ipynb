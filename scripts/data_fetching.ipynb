{
 "cells": [
  {
   "attachments": {},
   "cell_type": "markdown",
   "metadata": {},
   "source": [
    "### Import of required libraries"
   ]
  },
  {
   "cell_type": "code",
   "execution_count": null,
   "metadata": {},
   "outputs": [],
   "source": [
    "import functions as fn\n"
   ]
  },
  {
   "attachments": {},
   "cell_type": "markdown",
   "metadata": {},
   "source": [
    "### Fetching data for rectangle 1 (Zurich Area)"
   ]
  },
  {
   "cell_type": "code",
   "execution_count": null,
   "metadata": {},
   "outputs": [],
   "source": [
    "# Fetching data in daily chunks\n",
    "fn.download_adsb_para(start = '2019-01-01',\n",
    "                      stop = '2022-12-31',\n",
    "                      folder = 'data/rectangle_1/2022/raw',\n",
    "                      bounds = fn.side_boundary((47.48891, 8.85743), 20, 20),\n",
    "                      lower = 20000,\n",
    "                      upper = 23000,\n",
    "                      )\n",
    "\n",
    "# Combining all the data into one file\n",
    "fn.combine_adsb(path_raw = 'data/rectangle_1/2022/raw',\n",
    "                path_combined = 'data/rectangle_1/2022/combined')\n"
   ]
  },
  {
   "attachments": {},
   "cell_type": "markdown",
   "metadata": {},
   "source": [
    "### Fetching data for rectangle 2 (Bern Area)"
   ]
  },
  {
   "cell_type": "code",
   "execution_count": null,
   "metadata": {},
   "outputs": [],
   "source": [
    "# Fetching data in daily chunks\n",
    "fn.download_adsb_para(start = '2019-01-01',\n",
    "                      stop = '2022-12-30',\n",
    "                      folder = 'data/rectangle_2/2022/raw',\n",
    "                      bounds = fn.side_boundary((46.97179857783477, 7.309836558923671), 20, 20),\n",
    "                      lower = 20000,\n",
    "                      upper = 23000,\n",
    "                      )\n",
    "\n",
    "# Combining all the data into one file\n",
    "fn.combine_adsb(path_raw = 'data/rectangle_2/2022/raw',\n",
    "                path_combined = 'data/rectangle_2/2022/combined')"
   ]
  }
 ],
 "metadata": {
  "kernelspec": {
   "display_name": "vt1_env",
   "language": "python",
   "name": "python3"
  },
  "language_info": {
   "codemirror_mode": {
    "name": "ipython",
    "version": 3
   },
   "file_extension": ".py",
   "mimetype": "text/x-python",
   "name": "python",
   "nbconvert_exporter": "python",
   "pygments_lexer": "ipython3",
   "version": "3.9.13"
  },
  "orig_nbformat": 4,
  "vscode": {
   "interpreter": {
    "hash": "a4306af9fc8325fc7c1bea53e9c03ca4ebd8a199763b5a2c4b85d5801b6dc0d8"
   }
  }
 },
 "nbformat": 4,
 "nbformat_minor": 2
}
