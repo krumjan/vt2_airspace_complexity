{
 "cells": [
  {
   "cell_type": "code",
   "execution_count": null,
   "metadata": {},
   "outputs": [],
   "source": [
    "rot = []\n",
    "\n",
    "# convert the timestamp column to datetime\n",
    "df[[\"timestamp\"]] = df[[\"timestamp\"]].apply(pd.to_datetime)\n",
    "\n",
    "# iterate over the unique flight ids\n",
    "for id in ids:\n",
    "    # get the data for the current flight id\n",
    "    temp = df[df['flight_id'] == id]\n",
    "    # get the time entering and time exiting the runway\n",
    "    time_enter = temp['timestamp'].min()\n",
    "    time_exit = temp['timestamp'].max()\n",
    "    # calculate the duration in seconds\n",
    "    duration_s = (time_exit - time_enter).total_seconds()\n",
    "    # append the results to the list\n",
    "    rot.append([id, time_enter, time_exit, duration_s])\n",
    "\n",
    "# convert the list to a dataframe\n",
    "rot = pd.DataFrame(rot, columns=['flight_id', 'time_enter', 'time_exit', 'duration_s'])"
   ]
  }
 ],
 "metadata": {
  "language_info": {
   "name": "python"
  },
  "orig_nbformat": 4
 },
 "nbformat": 4,
 "nbformat_minor": 2
}
