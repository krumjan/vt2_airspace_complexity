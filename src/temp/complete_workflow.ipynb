{
 "cells": [
  {
   "attachments": {},
   "cell_type": "markdown",
   "metadata": {},
   "source": [
    "### Import of required packages"
   ]
  },
  {
   "cell_type": "code",
   "execution_count": 3,
   "metadata": {},
   "outputs": [],
   "source": [
    "import functions as fn"
   ]
  },
  {
   "attachments": {},
   "cell_type": "markdown",
   "metadata": {},
   "source": [
    "### Definition of parameters"
   ]
  },
  {
   "cell_type": "code",
   "execution_count": 4,
   "metadata": {},
   "outputs": [],
   "source": [
    "# path to save\n",
    "path = 'data/rectangle_1'\n",
    "# airspace definition\n",
    "bounds = fn.side_boundary((47.48891, 8.85743))\n",
    "alt_lower = 20000\n",
    "alt_upper = 23000"
   ]
  },
  {
   "attachments": {},
   "cell_type": "markdown",
   "metadata": {},
   "source": [
    "### Download and combination of data"
   ]
  },
  {
   "cell_type": "code",
   "execution_count": null,
   "metadata": {},
   "outputs": [],
   "source": [
    "# download data in daily chunks\n",
    "fn.download_adsb_para(start = '2019-01-01',\n",
    "                      stop = '2022-12-31',\n",
    "                      folder = f'{path}/01_raw',\n",
    "                      bounds = bounds,\n",
    "                      lower = alt_lower,\n",
    "                      upper = alt_upper,\n",
    "                      )\n",
    "\n",
    "# combine data\n",
    "fn.combine_adsb(path_raw = f'{path}/01_raw',\n",
    "                path_combined = f'{path}/02_combined')"
   ]
  },
  {
   "attachments": {},
   "cell_type": "markdown",
   "metadata": {},
   "source": [
    "### Reduce data to low traffic hours"
   ]
  },
  {
   "cell_type": "code",
   "execution_count": null,
   "metadata": {},
   "outputs": [],
   "source": [
    "fn.get_lowtraf_trajs(file_load = f'{path}/02_combined/combined.parquet',\n",
    "                     path_save = f'{path}/03_low_traffic'\n",
    "                     )"
   ]
  },
  {
   "attachments": {},
   "cell_type": "markdown",
   "metadata": {},
   "source": [
    "### Generate training array"
   ]
  },
  {
   "cell_type": "code",
   "execution_count": null,
   "metadata": {},
   "outputs": [],
   "source": [
    "fn.get_training_data(file_load = f'{path}/03_low_traffic/low_traffic.parquet',\n",
    "                     path_save = f'{path}/04_training_data',)"
   ]
  },
  {
   "cell_type": "code",
   "execution_count": 5,
   "metadata": {},
   "outputs": [],
   "source": [
    "# read numpy file\n",
    "import numpy as np\n",
    "data = np.load(f'{path}/04_training_data/X_norm.npy', allow_pickle=True)"
   ]
  },
  {
   "cell_type": "code",
   "execution_count": 6,
   "metadata": {},
   "outputs": [
    {
     "data": {
      "text/plain": [
       "(17541, 100, 3)"
      ]
     },
     "execution_count": 6,
     "metadata": {},
     "output_type": "execute_result"
    }
   ],
   "source": [
    "data.shape"
   ]
  }
 ],
 "metadata": {
  "kernelspec": {
   "display_name": ".venv",
   "language": "python",
   "name": "python3"
  },
  "language_info": {
   "codemirror_mode": {
    "name": "ipython",
    "version": 3
   },
   "file_extension": ".py",
   "mimetype": "text/x-python",
   "name": "python",
   "nbconvert_exporter": "python",
   "pygments_lexer": "ipython3",
   "version": "3.11.0"
  },
  "orig_nbformat": 4
 },
 "nbformat": 4,
 "nbformat_minor": 2
}
