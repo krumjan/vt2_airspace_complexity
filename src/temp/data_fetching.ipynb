{
 "cells": [
  {
   "attachments": {},
   "cell_type": "markdown",
   "metadata": {},
   "source": [
    "### Import of required libraries"
   ]
  },
  {
   "cell_type": "code",
   "execution_count": 1,
   "metadata": {},
   "outputs": [],
   "source": [
    "import functions as fn\n",
    "from airspace import airspace\n",
    "from airspace import cube"
   ]
  },
  {
   "attachments": {},
   "cell_type": "markdown",
   "metadata": {},
   "source": [
    "### Fetching data for all of Switzerland"
   ]
  },
  {
   "cell_type": "code",
   "execution_count": 2,
   "metadata": {},
   "outputs": [],
   "source": [
    "switzerland = airspace(id = 'rectangle_Switzerland',\n",
    "                       volume = (45.52084813133491,\n",
    "                                 47.85,\n",
    "                                 5.85392,\n",
    "                                 10.80539976710652,\n",
    "                                 18000,\n",
    "                                 60000,\n",
    "                                 ))\n"
   ]
  },
  {
   "cell_type": "code",
   "execution_count": 3,
   "metadata": {},
   "outputs": [
    {
     "name": "stdout",
     "output_type": "stream",
     "text": [
      "Fetching data...\n",
      "Downloading 2019-10-27...\n"
     ]
    },
    {
     "data": {
      "application/vnd.jupyter.widget-view+json": {
       "model_id": "e1012ee86e81478fb61fcbf4e2ee5762",
       "version_major": 2,
       "version_minor": 0
      },
      "text/plain": [
       "  0%|          | 0/24 [00:00<?, ?it/s]"
      ]
     },
     "metadata": {},
     "output_type": "display_data"
    },
    {
     "name": "stdout",
     "output_type": "stream",
     "text": [
      "Combining data...\n"
     ]
    },
    {
     "ename": "KeyboardInterrupt",
     "evalue": "",
     "output_type": "error",
     "traceback": [
      "\u001b[0;31m---------------------------------------------------------------------------\u001b[0m",
      "\u001b[0;31mKeyboardInterrupt\u001b[0m                         Traceback (most recent call last)",
      "Cell \u001b[0;32mIn[3], line 1\u001b[0m\n\u001b[0;32m----> 1\u001b[0m switzerland\u001b[39m.\u001b[39;49mfetch_data(start_time \u001b[39m=\u001b[39;49m \u001b[39m'\u001b[39;49m\u001b[39m2019-01-01\u001b[39;49m\u001b[39m'\u001b[39;49m,\n\u001b[1;32m      2\u001b[0m                        end_time \u001b[39m=\u001b[39;49m \u001b[39m'\u001b[39;49m\u001b[39m2019-12-31\u001b[39;49m\u001b[39m'\u001b[39;49m)\n",
      "File \u001b[0;32m~/github/VT2_airspace_complexity/scripts/airspace.py:47\u001b[0m, in \u001b[0;36mairspace.fetch_data\u001b[0;34m(self, start_time, end_time)\u001b[0m\n\u001b[1;32m     37\u001b[0m fn\u001b[39m.\u001b[39mdownload_adsb_para(start \u001b[39m=\u001b[39m start_time,\n\u001b[1;32m     38\u001b[0m                       stop \u001b[39m=\u001b[39m end_time,\n\u001b[1;32m     39\u001b[0m                       folder \u001b[39m=\u001b[39m \u001b[39mf\u001b[39m\u001b[39m'\u001b[39m\u001b[39mdata/\u001b[39m\u001b[39m{\u001b[39;00m\u001b[39mself\u001b[39m\u001b[39m.\u001b[39mid\u001b[39m}\u001b[39;00m\u001b[39m/01_raw\u001b[39m\u001b[39m'\u001b[39m,\n\u001b[0;32m   (...)\u001b[0m\n\u001b[1;32m     44\u001b[0m                       lower \u001b[39m=\u001b[39m \u001b[39mself\u001b[39m\u001b[39m.\u001b[39malt_low,\n\u001b[1;32m     45\u001b[0m                       upper \u001b[39m=\u001b[39m \u001b[39mself\u001b[39m\u001b[39m.\u001b[39malt_high)\n\u001b[1;32m     46\u001b[0m \u001b[39mprint\u001b[39m(\u001b[39m'\u001b[39m\u001b[39mCombining data...\u001b[39m\u001b[39m'\u001b[39m)\n\u001b[0;32m---> 47\u001b[0m fn\u001b[39m.\u001b[39;49mcombine_adsb(path_raw \u001b[39m=\u001b[39;49m \u001b[39mf\u001b[39;49m\u001b[39m'\u001b[39;49m\u001b[39mdata/\u001b[39;49m\u001b[39m{\u001b[39;49;00m\u001b[39mself\u001b[39;49m\u001b[39m.\u001b[39;49mid\u001b[39m}\u001b[39;49;00m\u001b[39m/01_raw\u001b[39;49m\u001b[39m'\u001b[39;49m,\n\u001b[1;32m     48\u001b[0m                 path_combined \u001b[39m=\u001b[39;49m \u001b[39mf\u001b[39;49m\u001b[39m'\u001b[39;49m\u001b[39mdata/\u001b[39;49m\u001b[39m{\u001b[39;49;00m\u001b[39mself\u001b[39;49m\u001b[39m.\u001b[39;49mid\u001b[39m}\u001b[39;49;00m\u001b[39m/02_combined\u001b[39;49m\u001b[39m'\u001b[39;49m)\n",
      "File \u001b[0;32m~/github/VT2_airspace_complexity/scripts/functions.py:33\u001b[0m, in \u001b[0;36mcombine_adsb\u001b[0;34m(path_raw, path_combined)\u001b[0m\n\u001b[1;32m     30\u001b[0m files \u001b[39m=\u001b[39m glob\u001b[39m.\u001b[39mglob(\u001b[39mf\u001b[39m\u001b[39m\"\u001b[39m\u001b[39m{\u001b[39;00mpath_raw\u001b[39m}\u001b[39;00m\u001b[39m/*.parquet\u001b[39m\u001b[39m\"\u001b[39m)\n\u001b[1;32m     31\u001b[0m \u001b[39m# concatenate all files into one Traffic object\u001b[39;00m\n\u001b[1;32m     32\u001b[0m alldata \u001b[39m=\u001b[39m Traffic(\n\u001b[0;32m---> 33\u001b[0m     pd\u001b[39m.\u001b[39mconcat([Traffic\u001b[39m.\u001b[39;49mfrom_file(file)\u001b[39m.\u001b[39;49mdata \u001b[39mfor\u001b[39;49;00m file \u001b[39min\u001b[39;49;00m files], ignore_index\u001b[39m=\u001b[39m\u001b[39mTrue\u001b[39;00m)\n\u001b[1;32m     34\u001b[0m )\n\u001b[1;32m     35\u001b[0m \u001b[39m# create \"combined\" folder if it does not exist\u001b[39;00m\n\u001b[1;32m     36\u001b[0m \u001b[39mif\u001b[39;00m os\u001b[39m.\u001b[39mpath\u001b[39m.\u001b[39misdir(path_combined) \u001b[39mis\u001b[39;00m \u001b[39mFalse\u001b[39;00m:\n",
      "File \u001b[0;32m~/github/VT2_airspace_complexity/scripts/functions.py:33\u001b[0m, in \u001b[0;36m<listcomp>\u001b[0;34m(.0)\u001b[0m\n\u001b[1;32m     30\u001b[0m files \u001b[39m=\u001b[39m glob\u001b[39m.\u001b[39mglob(\u001b[39mf\u001b[39m\u001b[39m\"\u001b[39m\u001b[39m{\u001b[39;00mpath_raw\u001b[39m}\u001b[39;00m\u001b[39m/*.parquet\u001b[39m\u001b[39m\"\u001b[39m)\n\u001b[1;32m     31\u001b[0m \u001b[39m# concatenate all files into one Traffic object\u001b[39;00m\n\u001b[1;32m     32\u001b[0m alldata \u001b[39m=\u001b[39m Traffic(\n\u001b[0;32m---> 33\u001b[0m     pd\u001b[39m.\u001b[39mconcat([Traffic\u001b[39m.\u001b[39;49mfrom_file(file)\u001b[39m.\u001b[39mdata \u001b[39mfor\u001b[39;00m file \u001b[39min\u001b[39;00m files], ignore_index\u001b[39m=\u001b[39m\u001b[39mTrue\u001b[39;00m)\n\u001b[1;32m     34\u001b[0m )\n\u001b[1;32m     35\u001b[0m \u001b[39m# create \"combined\" folder if it does not exist\u001b[39;00m\n\u001b[1;32m     36\u001b[0m \u001b[39mif\u001b[39;00m os\u001b[39m.\u001b[39mpath\u001b[39m.\u001b[39misdir(path_combined) \u001b[39mis\u001b[39;00m \u001b[39mFalse\u001b[39;00m:\n",
      "File \u001b[0;32m~/miniconda3/envs/vt_2_env/lib/python3.11/site-packages/traffic/core/traffic.py:127\u001b[0m, in \u001b[0;36mTraffic.from_file\u001b[0;34m(cls, filename, **kwargs)\u001b[0m\n\u001b[1;32m    122\u001b[0m \u001b[39m@classmethod\u001b[39m\n\u001b[1;32m    123\u001b[0m \u001b[39mdef\u001b[39;00m \u001b[39mfrom_file\u001b[39m(\n\u001b[1;32m    124\u001b[0m     \u001b[39mcls\u001b[39m: Type[TrafficTypeVar], filename: Union[Path, \u001b[39mstr\u001b[39m], \u001b[39m*\u001b[39m\u001b[39m*\u001b[39mkwargs: Any\n\u001b[1;32m    125\u001b[0m ) \u001b[39m-\u001b[39m\u001b[39m>\u001b[39m Optional[TrafficTypeVar]:\n\u001b[0;32m--> 127\u001b[0m     tentative \u001b[39m=\u001b[39m \u001b[39msuper\u001b[39;49m()\u001b[39m.\u001b[39;49mfrom_file(filename, \u001b[39m*\u001b[39;49m\u001b[39m*\u001b[39;49mkwargs)\n\u001b[1;32m    129\u001b[0m     \u001b[39mif\u001b[39;00m tentative \u001b[39mis\u001b[39;00m \u001b[39mnot\u001b[39;00m \u001b[39mNone\u001b[39;00m:\n\u001b[1;32m    130\u001b[0m         rename_columns \u001b[39m=\u001b[39m {\n\u001b[1;32m    131\u001b[0m             \u001b[39m\"\u001b[39m\u001b[39mtime\u001b[39m\u001b[39m\"\u001b[39m: \u001b[39m\"\u001b[39m\u001b[39mtimestamp\u001b[39m\u001b[39m\"\u001b[39m,\n\u001b[1;32m    132\u001b[0m             \u001b[39m\"\u001b[39m\u001b[39mlat\u001b[39m\u001b[39m\"\u001b[39m: \u001b[39m\"\u001b[39m\u001b[39mlatitude\u001b[39m\u001b[39m\"\u001b[39m,\n\u001b[0;32m   (...)\u001b[0m\n\u001b[1;32m    152\u001b[0m             \u001b[39m\"\u001b[39m\u001b[39marrival\u001b[39m\u001b[39m\"\u001b[39m: \u001b[39m\"\u001b[39m\u001b[39mdestination\u001b[39m\u001b[39m\"\u001b[39m,\n\u001b[1;32m    153\u001b[0m         }\n",
      "File \u001b[0;32m~/miniconda3/envs/vt_2_env/lib/python3.11/site-packages/traffic/core/mixins.py:90\u001b[0m, in \u001b[0;36mDataFrameMixin.from_file\u001b[0;34m(cls, filename, **kwargs)\u001b[0m\n\u001b[1;32m     88\u001b[0m     \u001b[39mreturn\u001b[39;00m \u001b[39mcls\u001b[39m(pd\u001b[39m.\u001b[39mread_pickle(path, \u001b[39m*\u001b[39m\u001b[39m*\u001b[39mkwargs))\n\u001b[1;32m     89\u001b[0m \u001b[39mif\u001b[39;00m \u001b[39m\"\u001b[39m\u001b[39m.parquet\u001b[39m\u001b[39m\"\u001b[39m \u001b[39min\u001b[39;00m path\u001b[39m.\u001b[39msuffixes:\n\u001b[0;32m---> 90\u001b[0m     \u001b[39mreturn\u001b[39;00m \u001b[39mcls\u001b[39m(pd\u001b[39m.\u001b[39;49mread_parquet(path, \u001b[39m*\u001b[39;49m\u001b[39m*\u001b[39;49mkwargs))\n\u001b[1;32m     91\u001b[0m \u001b[39mif\u001b[39;00m \u001b[39m\"\u001b[39m\u001b[39m.feather\u001b[39m\u001b[39m\"\u001b[39m \u001b[39min\u001b[39;00m path\u001b[39m.\u001b[39msuffixes:  \u001b[39m# coverage: ignore\u001b[39;00m\n\u001b[1;32m     92\u001b[0m     \u001b[39mreturn\u001b[39;00m \u001b[39mcls\u001b[39m(pd\u001b[39m.\u001b[39mread_feather(path, \u001b[39m*\u001b[39m\u001b[39m*\u001b[39mkwargs))\n",
      "File \u001b[0;32m~/miniconda3/envs/vt_2_env/lib/python3.11/site-packages/pandas/io/parquet.py:503\u001b[0m, in \u001b[0;36mread_parquet\u001b[0;34m(path, engine, columns, storage_options, use_nullable_dtypes, **kwargs)\u001b[0m\n\u001b[1;32m    456\u001b[0m \u001b[39m\u001b[39m\u001b[39m\"\"\"\u001b[39;00m\n\u001b[1;32m    457\u001b[0m \u001b[39mLoad a parquet object from the file path, returning a DataFrame.\u001b[39;00m\n\u001b[1;32m    458\u001b[0m \n\u001b[0;32m   (...)\u001b[0m\n\u001b[1;32m    499\u001b[0m \u001b[39mDataFrame\u001b[39;00m\n\u001b[1;32m    500\u001b[0m \u001b[39m\"\"\"\u001b[39;00m\n\u001b[1;32m    501\u001b[0m impl \u001b[39m=\u001b[39m get_engine(engine)\n\u001b[0;32m--> 503\u001b[0m \u001b[39mreturn\u001b[39;00m impl\u001b[39m.\u001b[39;49mread(\n\u001b[1;32m    504\u001b[0m     path,\n\u001b[1;32m    505\u001b[0m     columns\u001b[39m=\u001b[39;49mcolumns,\n\u001b[1;32m    506\u001b[0m     storage_options\u001b[39m=\u001b[39;49mstorage_options,\n\u001b[1;32m    507\u001b[0m     use_nullable_dtypes\u001b[39m=\u001b[39;49muse_nullable_dtypes,\n\u001b[1;32m    508\u001b[0m     \u001b[39m*\u001b[39;49m\u001b[39m*\u001b[39;49mkwargs,\n\u001b[1;32m    509\u001b[0m )\n",
      "File \u001b[0;32m~/miniconda3/envs/vt_2_env/lib/python3.11/site-packages/pandas/io/parquet.py:358\u001b[0m, in \u001b[0;36mFastParquetImpl.read\u001b[0;34m(self, path, columns, storage_options, **kwargs)\u001b[0m\n\u001b[1;32m    356\u001b[0m \u001b[39mtry\u001b[39;00m:\n\u001b[1;32m    357\u001b[0m     parquet_file \u001b[39m=\u001b[39m \u001b[39mself\u001b[39m\u001b[39m.\u001b[39mapi\u001b[39m.\u001b[39mParquetFile(path, \u001b[39m*\u001b[39m\u001b[39m*\u001b[39mparquet_kwargs)\n\u001b[0;32m--> 358\u001b[0m     \u001b[39mreturn\u001b[39;00m parquet_file\u001b[39m.\u001b[39;49mto_pandas(columns\u001b[39m=\u001b[39;49mcolumns, \u001b[39m*\u001b[39;49m\u001b[39m*\u001b[39;49mkwargs)\n\u001b[1;32m    359\u001b[0m \u001b[39mfinally\u001b[39;00m:\n\u001b[1;32m    360\u001b[0m     \u001b[39mif\u001b[39;00m handles \u001b[39mis\u001b[39;00m \u001b[39mnot\u001b[39;00m \u001b[39mNone\u001b[39;00m:\n",
      "File \u001b[0;32m~/miniconda3/envs/vt_2_env/lib/python3.11/site-packages/fastparquet/api.py:778\u001b[0m, in \u001b[0;36mParquetFile.to_pandas\u001b[0;34m(self, columns, categories, filters, index, row_filter, dtypes)\u001b[0m\n\u001b[1;32m    774\u001b[0m         \u001b[39mcontinue\u001b[39;00m\n\u001b[1;32m    775\u001b[0m     parts \u001b[39m=\u001b[39m {name: (v \u001b[39mif\u001b[39;00m name\u001b[39m.\u001b[39mendswith(\u001b[39m'\u001b[39m\u001b[39m-catdef\u001b[39m\u001b[39m'\u001b[39m)\n\u001b[1;32m    776\u001b[0m                     \u001b[39melse\u001b[39;00m v[start:start \u001b[39m+\u001b[39m thislen])\n\u001b[1;32m    777\u001b[0m              \u001b[39mfor\u001b[39;00m (name, v) \u001b[39min\u001b[39;00m views\u001b[39m.\u001b[39mitems()}\n\u001b[0;32m--> 778\u001b[0m     \u001b[39mself\u001b[39;49m\u001b[39m.\u001b[39;49mread_row_group_file(rg, columns, categories, index,\n\u001b[1;32m    779\u001b[0m                              assign\u001b[39m=\u001b[39;49mparts, partition_meta\u001b[39m=\u001b[39;49m\u001b[39mself\u001b[39;49m\u001b[39m.\u001b[39;49mpartition_meta,\n\u001b[1;32m    780\u001b[0m                              row_filter\u001b[39m=\u001b[39;49msel, infile\u001b[39m=\u001b[39;49minfile)\n\u001b[1;32m    781\u001b[0m     start \u001b[39m+\u001b[39m\u001b[39m=\u001b[39m thislen\n\u001b[1;32m    782\u001b[0m \u001b[39mreturn\u001b[39;00m df\n",
      "File \u001b[0;32m~/miniconda3/envs/vt_2_env/lib/python3.11/site-packages/fastparquet/api.py:380\u001b[0m, in \u001b[0;36mParquetFile.read_row_group_file\u001b[0;34m(self, rg, columns, categories, index, assign, partition_meta, row_filter, infile)\u001b[0m\n\u001b[1;32m    377\u001b[0m     ret \u001b[39m=\u001b[39m \u001b[39mTrue\u001b[39;00m\n\u001b[1;32m    378\u001b[0m f \u001b[39m=\u001b[39m infile \u001b[39mor\u001b[39;00m \u001b[39mself\u001b[39m\u001b[39m.\u001b[39mopen(fn, mode\u001b[39m=\u001b[39m\u001b[39m'\u001b[39m\u001b[39mrb\u001b[39m\u001b[39m'\u001b[39m)\n\u001b[0;32m--> 380\u001b[0m core\u001b[39m.\u001b[39;49mread_row_group(\n\u001b[1;32m    381\u001b[0m     f, rg, columns, categories, \u001b[39mself\u001b[39;49m\u001b[39m.\u001b[39;49mschema, \u001b[39mself\u001b[39;49m\u001b[39m.\u001b[39;49mcats,\n\u001b[1;32m    382\u001b[0m     selfmade\u001b[39m=\u001b[39;49m\u001b[39mself\u001b[39;49m\u001b[39m.\u001b[39;49mselfmade, index\u001b[39m=\u001b[39;49mindex,\n\u001b[1;32m    383\u001b[0m     assign\u001b[39m=\u001b[39;49massign, scheme\u001b[39m=\u001b[39;49m\u001b[39mself\u001b[39;49m\u001b[39m.\u001b[39;49mfile_scheme, partition_meta\u001b[39m=\u001b[39;49mpartition_meta,\n\u001b[1;32m    384\u001b[0m     row_filter\u001b[39m=\u001b[39;49mrow_filter\n\u001b[1;32m    385\u001b[0m )\n\u001b[1;32m    386\u001b[0m \u001b[39mif\u001b[39;00m ret:\n\u001b[1;32m    387\u001b[0m     \u001b[39mreturn\u001b[39;00m df\n",
      "File \u001b[0;32m~/miniconda3/envs/vt_2_env/lib/python3.11/site-packages/fastparquet/core.py:628\u001b[0m, in \u001b[0;36mread_row_group\u001b[0;34m(file, rg, columns, categories, schema_helper, cats, selfmade, index, assign, scheme, partition_meta, row_filter)\u001b[0m\n\u001b[1;32m    626\u001b[0m \u001b[39mif\u001b[39;00m assign \u001b[39mis\u001b[39;00m \u001b[39mNone\u001b[39;00m:\n\u001b[1;32m    627\u001b[0m     \u001b[39mraise\u001b[39;00m \u001b[39mRuntimeError\u001b[39;00m(\u001b[39m'\u001b[39m\u001b[39mGoing with pre-allocation!\u001b[39m\u001b[39m'\u001b[39m)\n\u001b[0;32m--> 628\u001b[0m read_row_group_arrays(file, rg, columns, categories, schema_helper,\n\u001b[1;32m    629\u001b[0m                       cats, selfmade, assign\u001b[39m=\u001b[39;49massign, row_filter\u001b[39m=\u001b[39;49mrow_filter)\n\u001b[1;32m    631\u001b[0m \u001b[39mfor\u001b[39;00m cat \u001b[39min\u001b[39;00m cats:\n\u001b[1;32m    632\u001b[0m     \u001b[39mif\u001b[39;00m cat \u001b[39mnot\u001b[39;00m \u001b[39min\u001b[39;00m assign:\n\u001b[1;32m    633\u001b[0m         \u001b[39m# do no need to have partition columns in output\u001b[39;00m\n",
      "File \u001b[0;32m~/miniconda3/envs/vt_2_env/lib/python3.11/site-packages/fastparquet/core.py:598\u001b[0m, in \u001b[0;36mread_row_group_arrays\u001b[0;34m(file, rg, columns, categories, schema_helper, cats, selfmade, assign, row_filter)\u001b[0m\n\u001b[1;32m    595\u001b[0m     \u001b[39mcontinue\u001b[39;00m\n\u001b[1;32m    596\u001b[0m remains\u001b[39m.\u001b[39mdiscard(name)\n\u001b[0;32m--> 598\u001b[0m read_col(column, schema_helper, file, use_cat\u001b[39m=\u001b[39;49mname\u001b[39m+\u001b[39;49m\u001b[39m'\u001b[39;49m\u001b[39m-catdef\u001b[39;49m\u001b[39m'\u001b[39;49m \u001b[39min\u001b[39;49;00m out,\n\u001b[1;32m    599\u001b[0m          selfmade\u001b[39m=\u001b[39;49mselfmade, assign\u001b[39m=\u001b[39;49mout[name],\n\u001b[1;32m    600\u001b[0m          catdef\u001b[39m=\u001b[39;49mout\u001b[39m.\u001b[39;49mget(name\u001b[39m+\u001b[39;49m\u001b[39m'\u001b[39;49m\u001b[39m-catdef\u001b[39;49m\u001b[39m'\u001b[39;49m, \u001b[39mNone\u001b[39;49;00m),\n\u001b[1;32m    601\u001b[0m          row_filter\u001b[39m=\u001b[39;49mrow_filter)\n\u001b[1;32m    603\u001b[0m \u001b[39mif\u001b[39;00m _is_map_like(schema_helper, column):\n\u001b[1;32m    604\u001b[0m     \u001b[39m# TODO: could be done in fast loop in _assemble_objects?\u001b[39;00m\n\u001b[1;32m    605\u001b[0m     \u001b[39mif\u001b[39;00m name \u001b[39mnot\u001b[39;00m \u001b[39min\u001b[39;00m maps:\n",
      "File \u001b[0;32m~/miniconda3/envs/vt_2_env/lib/python3.11/site-packages/fastparquet/core.py:470\u001b[0m, in \u001b[0;36mread_col\u001b[0;34m(column, schema_helper, infile, use_cat, selfmade, assign, catdef, row_filter)\u001b[0m\n\u001b[1;32m    467\u001b[0m dic \u001b[39m=\u001b[39m \u001b[39mNone\u001b[39;00m\n\u001b[1;32m    468\u001b[0m index_off \u001b[39m=\u001b[39m \u001b[39m0\u001b[39m  \u001b[39m# how far through row_filter we are\u001b[39;00m\n\u001b[0;32m--> 470\u001b[0m \u001b[39mwhile\u001b[39;00m num \u001b[39m<\u001b[39m rows:\n\u001b[1;32m    471\u001b[0m     off \u001b[39m=\u001b[39m infile\u001b[39m.\u001b[39mtell()\n\u001b[1;32m    472\u001b[0m     ph \u001b[39m=\u001b[39m ThriftObject\u001b[39m.\u001b[39mfrom_buffer(infile, \u001b[39m\"\u001b[39m\u001b[39mPageHeader\u001b[39m\u001b[39m\"\u001b[39m)\n",
      "\u001b[0;31mKeyboardInterrupt\u001b[0m: "
     ]
    }
   ],
   "source": [
    "switzerland.fetch_data(start_time = '2019-01-01',\n",
    "                       end_time = '2019-12-31')"
   ]
  },
  {
   "cell_type": "code",
   "execution_count": null,
   "metadata": {},
   "outputs": [],
   "source": [
    "# Fetching data in daily chunks\n",
    "fn.download_adsb_para(start = '2019-01-01',\n",
    "                      stop = '2019-12-31',\n",
    "                      folder = 'data/rectangle_Switzerland/01_raw',\n",
    "                      bounds = fn.side_boundary((47.86976, 5.85392), 200, 140),\n",
    "                      lower = 18000,\n",
    "                      )\n",
    "\n",
    "# Combining all the data into one file\n",
    "fn.combine_adsb(path_raw = 'data/rectangle_Switzerland/01_raw',\n",
    "                path_combined = 'data/rectangle_Switzerland/02_combined')"
   ]
  },
  {
   "attachments": {},
   "cell_type": "markdown",
   "metadata": {},
   "source": [
    "### Fetching data for rectangle 1 (Zurich Area)"
   ]
  },
  {
   "cell_type": "code",
   "execution_count": null,
   "metadata": {},
   "outputs": [],
   "source": [
    "# Fetching data in daily chunks\n",
    "fn.download_adsb_para(start = '2018-01-01',\n",
    "                      stop = '2022-12-31',\n",
    "                      folder = 'data/rectangle_1/01_raw',\n",
    "                      bounds = fn.side_boundary((47.48891, 8.85743), 20, 20),\n",
    "                      lower = 20000,\n",
    "                      upper = 23000,\n",
    "                      )\n",
    "\n",
    "# Combining all the data into one file\n",
    "fn.combine_adsb(path_raw = 'data/rectangle_1/01_raw',\n",
    "                path_combined = 'data/rectangle_1/02_combined')\n"
   ]
  },
  {
   "attachments": {},
   "cell_type": "markdown",
   "metadata": {},
   "source": [
    "### Fetching data for rectangle 2 (Bern Area)"
   ]
  },
  {
   "cell_type": "code",
   "execution_count": null,
   "metadata": {},
   "outputs": [],
   "source": [
    "# Fetching data in daily chunks\n",
    "fn.download_adsb_para(start = '2019-01-01',\n",
    "                      stop = '2019-01-10',\n",
    "                      folder = 'data/rectangle_2/raw',\n",
    "                      bounds = fn.side_boundary((46.97179857783477, 7.309836558923671), 20, 20),\n",
    "                      lower = 20000,\n",
    "                      upper = 23000,\n",
    "                      )\n",
    "\n",
    "# Combining all the data into one file\n",
    "fn.combine_adsb(path_raw = 'data/rectangle_2/raw',\n",
    "                path_combined = 'data/rectangle_2/combined')"
   ]
  }
 ],
 "metadata": {
  "kernelspec": {
   "display_name": "vt1_env",
   "language": "python",
   "name": "python3"
  },
  "language_info": {
   "codemirror_mode": {
    "name": "ipython",
    "version": 3
   },
   "file_extension": ".py",
   "mimetype": "text/x-python",
   "name": "python",
   "nbconvert_exporter": "python",
   "pygments_lexer": "ipython3",
   "version": "3.11.0"
  },
  "orig_nbformat": 4,
  "vscode": {
   "interpreter": {
    "hash": "a4306af9fc8325fc7c1bea53e9c03ca4ebd8a199763b5a2c4b85d5801b6dc0d8"
   }
  }
 },
 "nbformat": 4,
 "nbformat_minor": 2
}
