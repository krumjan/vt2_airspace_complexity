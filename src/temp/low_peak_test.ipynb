{
 "cells": [
  {
   "attachments": {},
   "cell_type": "markdown",
   "metadata": {},
   "source": [
    "### Import required libraries"
   ]
  },
  {
   "cell_type": "code",
   "execution_count": 1,
   "metadata": {},
   "outputs": [],
   "source": [
    "from traffic.core import Traffic\n",
    "import pandas as pd\n",
    "import matplotlib.pyplot as plt\n",
    "import seaborn as sns"
   ]
  },
  {
   "attachments": {},
   "cell_type": "markdown",
   "metadata": {},
   "source": [
    "### Preparation on trajectory level"
   ]
  },
  {
   "cell_type": "code",
   "execution_count": 2,
   "metadata": {},
   "outputs": [
    {
     "data": {
      "application/vnd.jupyter.widget-view+json": {
       "model_id": "e3299341334c4add9728dc353ee540c2",
       "version_major": 2,
       "version_minor": 0
      },
      "text/plain": [
       "Output()"
      ]
     },
     "metadata": {},
     "output_type": "display_data"
    },
    {
     "name": "stderr",
     "output_type": "stream",
     "text": [
      "/cluster/home/krum/miniconda3/envs/vt_2_env/lib/python3.11/site-packages/traffic/core/lazy.py:231: TqdmExperimentalWarning: rich is experimental/alpha\n",
      "  tasks_completed = tqdm(\n"
     ]
    },
    {
     "data": {
      "text/html": [
       "<pre style=\"white-space:pre;overflow-x:auto;line-height:normal;font-family:Menlo,'DejaVu Sans Mono',consolas,'Courier New',monospace\"></pre>\n"
      ],
      "text/plain": []
     },
     "metadata": {},
     "output_type": "display_data"
    },
    {
     "data": {
      "text/html": [
       "<pre style=\"white-space:pre;overflow-x:auto;line-height:normal;font-family:Menlo,'DejaVu Sans Mono',consolas,'Courier New',monospace\">\n",
       "</pre>\n"
      ],
      "text/plain": [
       "\n"
      ]
     },
     "metadata": {},
     "output_type": "display_data"
    },
    {
     "data": {
      "text/html": [
       "<div>\n",
       "<style scoped>\n",
       "    .dataframe tbody tr th:only-of-type {\n",
       "        vertical-align: middle;\n",
       "    }\n",
       "\n",
       "    .dataframe tbody tr th {\n",
       "        vertical-align: top;\n",
       "    }\n",
       "\n",
       "    .dataframe thead th {\n",
       "        text-align: right;\n",
       "    }\n",
       "</style>\n",
       "<table border=\"1\" class=\"dataframe\">\n",
       "  <thead>\n",
       "    <tr style=\"text-align: right;\">\n",
       "      <th></th>\n",
       "      <th>flight_id</th>\n",
       "      <th>flight_hours</th>\n",
       "      <th>timestamp_entered_h</th>\n",
       "    </tr>\n",
       "  </thead>\n",
       "  <tbody>\n",
       "    <tr>\n",
       "      <th>0</th>\n",
       "      <td>00000000_8255</td>\n",
       "      <td>0.015278</td>\n",
       "      <td>2020-02-18 13:00:00+00:00</td>\n",
       "    </tr>\n",
       "    <tr>\n",
       "      <th>1</th>\n",
       "      <td>0000000_75305</td>\n",
       "      <td>0.015278</td>\n",
       "      <td>2018-06-05 11:00:00+00:00</td>\n",
       "    </tr>\n",
       "    <tr>\n",
       "      <th>2</th>\n",
       "      <td>08V  W40_19960</td>\n",
       "      <td>0.016667</td>\n",
       "      <td>2018-03-04 09:00:00+00:00</td>\n",
       "    </tr>\n",
       "    <tr>\n",
       "      <th>3</th>\n",
       "      <td>2  F9_66776</td>\n",
       "      <td>0.001389</td>\n",
       "      <td>2018-01-07 09:00:00+00:00</td>\n",
       "    </tr>\n",
       "    <tr>\n",
       "      <th>4</th>\n",
       "      <td>20_104</td>\n",
       "      <td>0.001389</td>\n",
       "      <td>2021-09-24 12:00:00+00:00</td>\n",
       "    </tr>\n",
       "    <tr>\n",
       "      <th>...</th>\n",
       "      <td>...</td>\n",
       "      <td>...</td>\n",
       "      <td>...</td>\n",
       "    </tr>\n",
       "    <tr>\n",
       "      <th>80755</th>\n",
       "      <td>Z U  R 9_4365</td>\n",
       "      <td>0.020833</td>\n",
       "      <td>2018-01-19 06:00:00+00:00</td>\n",
       "    </tr>\n",
       "    <tr>\n",
       "      <th>80756</th>\n",
       "      <td>Z3MKD_75356</td>\n",
       "      <td>0.008333</td>\n",
       "      <td>2022-05-25 13:00:00+00:00</td>\n",
       "    </tr>\n",
       "    <tr>\n",
       "      <th>80757</th>\n",
       "      <td>Z7 4  MC_66595</td>\n",
       "      <td>0.000000</td>\n",
       "      <td>2018-03-04 20:00:00+00:00</td>\n",
       "    </tr>\n",
       "    <tr>\n",
       "      <th>80758</th>\n",
       "      <td>ZHM G_4521</td>\n",
       "      <td>0.000000</td>\n",
       "      <td>2018-05-03 19:00:00+00:00</td>\n",
       "    </tr>\n",
       "    <tr>\n",
       "      <th>80759</th>\n",
       "      <td>ZSYTB_006</td>\n",
       "      <td>0.019444</td>\n",
       "      <td>2018-10-11 09:00:00+00:00</td>\n",
       "    </tr>\n",
       "  </tbody>\n",
       "</table>\n",
       "<p>80760 rows × 3 columns</p>\n",
       "</div>"
      ],
      "text/plain": [
       "            flight_id  flight_hours       timestamp_entered_h\n",
       "0       00000000_8255      0.015278 2020-02-18 13:00:00+00:00\n",
       "1       0000000_75305      0.015278 2018-06-05 11:00:00+00:00\n",
       "2      08V  W40_19960      0.016667 2018-03-04 09:00:00+00:00\n",
       "3         2  F9_66776      0.001389 2018-01-07 09:00:00+00:00\n",
       "4              20_104      0.001389 2021-09-24 12:00:00+00:00\n",
       "...               ...           ...                       ...\n",
       "80755   Z U  R 9_4365      0.020833 2018-01-19 06:00:00+00:00\n",
       "80756     Z3MKD_75356      0.008333 2022-05-25 13:00:00+00:00\n",
       "80757  Z7 4  MC_66595      0.000000 2018-03-04 20:00:00+00:00\n",
       "80758      ZHM G_4521      0.000000 2018-05-03 19:00:00+00:00\n",
       "80759       ZSYTB_006      0.019444 2018-10-11 09:00:00+00:00\n",
       "\n",
       "[80760 rows x 3 columns]"
      ]
     },
     "execution_count": 2,
     "metadata": {},
     "output_type": "execute_result"
    }
   ],
   "source": [
    "# Load data, assign unique flight IDs, resample to 5s\n",
    "trajs = Traffic.from_file('data/rectangle_1/02_combined/combined.parquet')\n",
    "trajs_filt = trajs.assign_id().resample('5s').eval(desc='processing', max_workers=20)\n",
    "# Aggregate by flight, determine stay time and hour of entry\n",
    "df = trajs_filt.data\n",
    "df = df.groupby('flight_id')['timestamp'].agg(['min', 'max']).reset_index()\n",
    "df = df.rename({'min': 'in', 'max': 'out'}, axis=1)\n",
    "df['flight_hours'] = (df['out'] - df['in']).dt.total_seconds() / 3600\n",
    "df['timestamp_entered_h'] = df['in'].dt.floor('h')\n",
    "df = df.drop(['in','out'], axis=1)\n",
    "df"
   ]
  },
  {
   "attachments": {},
   "cell_type": "markdown",
   "metadata": {},
   "source": [
    "### Reduce to 2018 and 2019"
   ]
  },
  {
   "cell_type": "code",
   "execution_count": 3,
   "metadata": {},
   "outputs": [],
   "source": [
    "years = [2018, 2019]\n",
    "\n",
    "# only keep flights that entered in 2018 or 2019\n",
    "df20189 = df[df['timestamp_entered_h'].dt.year.isin(years)]"
   ]
  },
  {
   "attachments": {},
   "cell_type": "markdown",
   "metadata": {},
   "source": [
    "### Group data by hour"
   ]
  },
  {
   "cell_type": "code",
   "execution_count": 4,
   "metadata": {},
   "outputs": [
    {
     "name": "stderr",
     "output_type": "stream",
     "text": [
      "/tmp/ipykernel_31118/1978648726.py:13: FutureWarning: weekofyear and week have been deprecated, please use DatetimeIndex.isocalendar().week instead, which returns a Series. To exactly reproduce the behavior of week and weekofyear and return an Index, you may call pd.Int64Index(idx.isocalendar().week)\n",
      "  hourly_df['week_of_year'] = hourly_df.index.week\n"
     ]
    },
    {
     "data": {
      "text/html": [
       "<div>\n",
       "<style scoped>\n",
       "    .dataframe tbody tr th:only-of-type {\n",
       "        vertical-align: middle;\n",
       "    }\n",
       "\n",
       "    .dataframe tbody tr th {\n",
       "        vertical-align: top;\n",
       "    }\n",
       "\n",
       "    .dataframe thead th {\n",
       "        text-align: right;\n",
       "    }\n",
       "</style>\n",
       "<table border=\"1\" class=\"dataframe\">\n",
       "  <thead>\n",
       "    <tr style=\"text-align: right;\">\n",
       "      <th></th>\n",
       "      <th>count</th>\n",
       "      <th>flight_hours</th>\n",
       "      <th>year</th>\n",
       "      <th>month</th>\n",
       "      <th>day_of_year</th>\n",
       "      <th>day_of_month</th>\n",
       "      <th>hour</th>\n",
       "      <th>weekday</th>\n",
       "      <th>day_name</th>\n",
       "      <th>week_of_year</th>\n",
       "    </tr>\n",
       "    <tr>\n",
       "      <th>timestamp_entered_h</th>\n",
       "      <th></th>\n",
       "      <th></th>\n",
       "      <th></th>\n",
       "      <th></th>\n",
       "      <th></th>\n",
       "      <th></th>\n",
       "      <th></th>\n",
       "      <th></th>\n",
       "      <th></th>\n",
       "      <th></th>\n",
       "    </tr>\n",
       "  </thead>\n",
       "  <tbody>\n",
       "    <tr>\n",
       "      <th>2018-01-01 06:00:00+00:00</th>\n",
       "      <td>3</td>\n",
       "      <td>0.048611</td>\n",
       "      <td>2018</td>\n",
       "      <td>1</td>\n",
       "      <td>1</td>\n",
       "      <td>1</td>\n",
       "      <td>6</td>\n",
       "      <td>0</td>\n",
       "      <td>Monday</td>\n",
       "      <td>1</td>\n",
       "    </tr>\n",
       "    <tr>\n",
       "      <th>2018-01-01 07:00:00+00:00</th>\n",
       "      <td>3</td>\n",
       "      <td>0.058333</td>\n",
       "      <td>2018</td>\n",
       "      <td>1</td>\n",
       "      <td>1</td>\n",
       "      <td>1</td>\n",
       "      <td>7</td>\n",
       "      <td>0</td>\n",
       "      <td>Monday</td>\n",
       "      <td>1</td>\n",
       "    </tr>\n",
       "    <tr>\n",
       "      <th>2018-01-01 08:00:00+00:00</th>\n",
       "      <td>1</td>\n",
       "      <td>0.018056</td>\n",
       "      <td>2018</td>\n",
       "      <td>1</td>\n",
       "      <td>1</td>\n",
       "      <td>1</td>\n",
       "      <td>8</td>\n",
       "      <td>0</td>\n",
       "      <td>Monday</td>\n",
       "      <td>1</td>\n",
       "    </tr>\n",
       "    <tr>\n",
       "      <th>2018-01-01 09:00:00+00:00</th>\n",
       "      <td>3</td>\n",
       "      <td>0.063889</td>\n",
       "      <td>2018</td>\n",
       "      <td>1</td>\n",
       "      <td>1</td>\n",
       "      <td>1</td>\n",
       "      <td>9</td>\n",
       "      <td>0</td>\n",
       "      <td>Monday</td>\n",
       "      <td>1</td>\n",
       "    </tr>\n",
       "    <tr>\n",
       "      <th>2018-01-01 10:00:00+00:00</th>\n",
       "      <td>3</td>\n",
       "      <td>0.030556</td>\n",
       "      <td>2018</td>\n",
       "      <td>1</td>\n",
       "      <td>1</td>\n",
       "      <td>1</td>\n",
       "      <td>10</td>\n",
       "      <td>0</td>\n",
       "      <td>Monday</td>\n",
       "      <td>1</td>\n",
       "    </tr>\n",
       "    <tr>\n",
       "      <th>...</th>\n",
       "      <td>...</td>\n",
       "      <td>...</td>\n",
       "      <td>...</td>\n",
       "      <td>...</td>\n",
       "      <td>...</td>\n",
       "      <td>...</td>\n",
       "      <td>...</td>\n",
       "      <td>...</td>\n",
       "      <td>...</td>\n",
       "      <td>...</td>\n",
       "    </tr>\n",
       "    <tr>\n",
       "      <th>2019-12-31 15:00:00+00:00</th>\n",
       "      <td>2</td>\n",
       "      <td>0.018056</td>\n",
       "      <td>2019</td>\n",
       "      <td>12</td>\n",
       "      <td>365</td>\n",
       "      <td>31</td>\n",
       "      <td>15</td>\n",
       "      <td>1</td>\n",
       "      <td>Tuesday</td>\n",
       "      <td>1</td>\n",
       "    </tr>\n",
       "    <tr>\n",
       "      <th>2019-12-31 16:00:00+00:00</th>\n",
       "      <td>3</td>\n",
       "      <td>0.065278</td>\n",
       "      <td>2019</td>\n",
       "      <td>12</td>\n",
       "      <td>365</td>\n",
       "      <td>31</td>\n",
       "      <td>16</td>\n",
       "      <td>1</td>\n",
       "      <td>Tuesday</td>\n",
       "      <td>1</td>\n",
       "    </tr>\n",
       "    <tr>\n",
       "      <th>2019-12-31 18:00:00+00:00</th>\n",
       "      <td>2</td>\n",
       "      <td>0.037500</td>\n",
       "      <td>2019</td>\n",
       "      <td>12</td>\n",
       "      <td>365</td>\n",
       "      <td>31</td>\n",
       "      <td>18</td>\n",
       "      <td>1</td>\n",
       "      <td>Tuesday</td>\n",
       "      <td>1</td>\n",
       "    </tr>\n",
       "    <tr>\n",
       "      <th>2019-12-31 19:00:00+00:00</th>\n",
       "      <td>3</td>\n",
       "      <td>0.054167</td>\n",
       "      <td>2019</td>\n",
       "      <td>12</td>\n",
       "      <td>365</td>\n",
       "      <td>31</td>\n",
       "      <td>19</td>\n",
       "      <td>1</td>\n",
       "      <td>Tuesday</td>\n",
       "      <td>1</td>\n",
       "    </tr>\n",
       "    <tr>\n",
       "      <th>2019-12-31 20:00:00+00:00</th>\n",
       "      <td>2</td>\n",
       "      <td>0.066667</td>\n",
       "      <td>2019</td>\n",
       "      <td>12</td>\n",
       "      <td>365</td>\n",
       "      <td>31</td>\n",
       "      <td>20</td>\n",
       "      <td>1</td>\n",
       "      <td>Tuesday</td>\n",
       "      <td>1</td>\n",
       "    </tr>\n",
       "  </tbody>\n",
       "</table>\n",
       "<p>11273 rows × 10 columns</p>\n",
       "</div>"
      ],
      "text/plain": [
       "                           count  flight_hours  year  month  day_of_year  \\\n",
       "timestamp_entered_h                                                        \n",
       "2018-01-01 06:00:00+00:00      3      0.048611  2018      1            1   \n",
       "2018-01-01 07:00:00+00:00      3      0.058333  2018      1            1   \n",
       "2018-01-01 08:00:00+00:00      1      0.018056  2018      1            1   \n",
       "2018-01-01 09:00:00+00:00      3      0.063889  2018      1            1   \n",
       "2018-01-01 10:00:00+00:00      3      0.030556  2018      1            1   \n",
       "...                          ...           ...   ...    ...          ...   \n",
       "2019-12-31 15:00:00+00:00      2      0.018056  2019     12          365   \n",
       "2019-12-31 16:00:00+00:00      3      0.065278  2019     12          365   \n",
       "2019-12-31 18:00:00+00:00      2      0.037500  2019     12          365   \n",
       "2019-12-31 19:00:00+00:00      3      0.054167  2019     12          365   \n",
       "2019-12-31 20:00:00+00:00      2      0.066667  2019     12          365   \n",
       "\n",
       "                           day_of_month  hour  weekday day_name  week_of_year  \n",
       "timestamp_entered_h                                                            \n",
       "2018-01-01 06:00:00+00:00             1     6        0   Monday             1  \n",
       "2018-01-01 07:00:00+00:00             1     7        0   Monday             1  \n",
       "2018-01-01 08:00:00+00:00             1     8        0   Monday             1  \n",
       "2018-01-01 09:00:00+00:00             1     9        0   Monday             1  \n",
       "2018-01-01 10:00:00+00:00             1    10        0   Monday             1  \n",
       "...                                 ...   ...      ...      ...           ...  \n",
       "2019-12-31 15:00:00+00:00            31    15        1  Tuesday             1  \n",
       "2019-12-31 16:00:00+00:00            31    16        1  Tuesday             1  \n",
       "2019-12-31 18:00:00+00:00            31    18        1  Tuesday             1  \n",
       "2019-12-31 19:00:00+00:00            31    19        1  Tuesday             1  \n",
       "2019-12-31 20:00:00+00:00            31    20        1  Tuesday             1  \n",
       "\n",
       "[11273 rows x 10 columns]"
      ]
     },
     "execution_count": 4,
     "metadata": {},
     "output_type": "execute_result"
    }
   ],
   "source": [
    "# Aggregate by hour of entry, determine number of users and total stay time\n",
    "hourly_stay = df20189.groupby(['timestamp_entered_h'])['flight_hours'].sum()\n",
    "hourly_users = df20189.groupby(['timestamp_entered_h'])['flight_id'].count()\n",
    "hourly_df = pd.concat([hourly_users, hourly_stay], axis=1)#.reset_index()\n",
    "hourly_df = hourly_df.rename({'flight_id': 'count'}, axis=1)\n",
    "hourly_df['year'] = hourly_df.index.year\n",
    "hourly_df['month'] = hourly_df.index.month\n",
    "hourly_df['day_of_year'] = hourly_df.index.day_of_year\n",
    "hourly_df['day_of_month'] = hourly_df.index.day\n",
    "hourly_df['hour'] = hourly_df.index.hour\n",
    "hourly_df['weekday'] = hourly_df.index.weekday\n",
    "hourly_df['day_name'] = hourly_df.index.day_name()\n",
    "hourly_df['week_of_year'] = hourly_df.index.week\n",
    "hourly_df"
   ]
  },
  {
   "attachments": {},
   "cell_type": "markdown",
   "metadata": {},
   "source": [
    "### Remove outliers"
   ]
  },
  {
   "cell_type": "code",
   "execution_count": null,
   "metadata": {},
   "outputs": [],
   "source": [
    "# df_no_out = hourly_df[hourly_df['flight_hours'] < hourly_df['flight_hours'].quantile(0.99)]\n",
    "# # plot flight hours over time\n",
    "# sns.lineplot(data=df_no_out, x='timestamp_entered_h', y='flight_hours')\n",
    "\n",
    "# plt.gcf().set_size_inches(20, 10)\n",
    "# plt.show()"
   ]
  },
  {
   "attachments": {},
   "cell_type": "markdown",
   "metadata": {},
   "source": [
    "### Trend"
   ]
  },
  {
   "cell_type": "code",
   "execution_count": 5,
   "metadata": {},
   "outputs": [
    {
     "data": {
      "image/png": "[encoded data removed]",
      "text/plain": [
       "<Figure size 2000x1000 with 1 Axes>"
      ]
     },
     "metadata": {},
     "output_type": "display_data"
    }
   ],
   "source": [
    "df_no_out = hourly_df\n",
    "\n",
    "df_no_out['daily_smoothed'] = df_no_out['flight_hours'].rolling(24, center=True).mean()\n",
    "df_no_out['weekly_smoothed'] = df_no_out['flight_hours'].rolling(24*7, center=True).mean()\n",
    "df_no_out['monthly_smoothed'] = df_no_out['flight_hours'].rolling(24*7*30, center=True).mean()\n",
    "\n",
    "sns.lineplot(data=df_no_out, x='timestamp_entered_h', y='flight_hours')\n",
    "sns.lineplot(data=df_no_out, x='timestamp_entered_h', y='daily_smoothed')\n",
    "sns.lineplot(data=df_no_out, x='timestamp_entered_h', y='weekly_smoothed')\n",
    "sns.lineplot(data=df_no_out, x='timestamp_entered_h', y='monthly_smoothed')\n",
    "\n",
    "plt.gcf().set_size_inches(20, 10)\n",
    "plt.show()"
   ]
  },
  {
   "cell_type": "code",
   "execution_count": null,
   "metadata": {},
   "outputs": [],
   "source": [
    "df_no_out['trend_removed'] = df_no_out['flight_hours']-df_no_out['daily_smoothed']\n",
    "\n",
    "sns.lineplot(data=df_no_out, x='timestamp_entered_h', y='trend_removed')\n",
    "# sns.lineplot(data=df_no_out, x='timestamp_entered_h', y='daily_smoothed')\n",
    "\n",
    "plt.gcf().set_size_inches(20, 10)\n",
    "plt.show()"
   ]
  },
  {
   "cell_type": "code",
   "execution_count": null,
   "metadata": {},
   "outputs": [],
   "source": [
    "# average flight hours per hour of day\n",
    "\n",
    "# scatterplot hour on the x axis and flight hours on the y axis. light gray and transparent\n",
    "sns.lineplot(data=df_no_out, x='hour', y='flight_hours', alpha=0.1, color='lightgray', units=\"day_of_year\", errorbar=None, estimator=None)\n",
    "sns.catplot(data=df_no_out, x='hour', y='flight_hours', kind='box', color='lightgray', showfliers=False)\n",
    "sns.lineplot(data=df_no_out, x='hour', y='flight_hours', estimator='mean', color='red', errorbar=None)\n",
    "\n",
    "plt.gcf().set_size_inches(20, 10)\n",
    "plt.show()"
   ]
  },
  {
   "cell_type": "code",
   "execution_count": null,
   "metadata": {},
   "outputs": [],
   "source": [
    "# average flight hours per hour of day\n",
    "\n",
    "# scatterplot hour on the x axis and flight hours on the y axis. light gray and transparent\n",
    "# sns.lineplot(data=df_no_out, x='day_name', y='flight_hours', alpha=0.1, color='lightgray')\n",
    "sns.lineplot(data=df_no_out, x='day_name', y='flight_hours', alpha=0.1, color='lightgray', units=\"day_of_year\", errorbar=None, estimator=None)\n",
    "sns.lineplot(data=df_no_out, x='day_name', y='flight_hours', estimator='mean', color='red', errorbar=None)\n",
    "\n",
    "plt.gcf().set_size_inches(20, 10)\n",
    "plt.show()"
   ]
  },
  {
   "cell_type": "code",
   "execution_count": null,
   "metadata": {},
   "outputs": [],
   "source": [
    "sns.lineplot(data=df_no_out, x='month', y='flight_hours', estimator='mean', color='red', errorbar=None)\n",
    "\n",
    "plt.gcf().set_size_inches(20, 10)\n",
    "plt.show()"
   ]
  },
  {
   "cell_type": "code",
   "execution_count": null,
   "metadata": {},
   "outputs": [],
   "source": [
    "from statsmodels.tsa.seasonal import STL\n",
    "res = STL(df_no_out.flight_hours).fit()"
   ]
  },
  {
   "cell_type": "code",
   "execution_count": null,
   "metadata": {},
   "outputs": [],
   "source": [
    "df_no_out"
   ]
  },
  {
   "cell_type": "code",
   "execution_count": null,
   "metadata": {},
   "outputs": [],
   "source": [
    "type(df_no_out.index[0])"
   ]
  },
  {
   "cell_type": "code",
   "execution_count": null,
   "metadata": {},
   "outputs": [],
   "source": [
    "# determine trend of flight hours over time\n",
    "df_no_out['flight_hours'].diff().rolling(500, center=True).mean().plot()"
   ]
  },
  {
   "cell_type": "code",
   "execution_count": null,
   "metadata": {},
   "outputs": [],
   "source": [
    "df_no_out"
   ]
  },
  {
   "cell_type": "code",
   "execution_count": null,
   "metadata": {},
   "outputs": [],
   "source": [
    "from statsmodels.tsa.seasonal import MSTL\n",
    "\n",
    "mstl = MSTL(df_no_out['flight_hours'], periods=[24, 24 * 7, 24 * 30])\n",
    "res = mstl.fit()\n",
    "fig = res.plot()\n",
    "fig.set_size_inches(20, 10)\n",
    "plt.show()"
   ]
  },
  {
   "cell_type": "code",
   "execution_count": null,
   "metadata": {},
   "outputs": [],
   "source": [
    "# apply stl to data\n",
    "from statsmodels.tsa.seasonal import MSTL\n",
    "from statsmodels.tsa.seasonal import STL\n",
    "stl = STL(df_no_out['flight_hours'], period=24)\n",
    "res = stl.fit()\n",
    "fig = res.plot()\n",
    "fig.set_size_inches(20, 10)\n",
    "plt.show()"
   ]
  },
  {
   "cell_type": "code",
   "execution_count": null,
   "metadata": {},
   "outputs": [],
   "source": [
    "# df_use = hourly_df.reset_index()\n",
    "# df_use = df_use.rename({'timestamp_entered_h': 'timestamp'}, axis=1)\n",
    "# # add columns containing the hour of the day, the day of the week, the week of the year, and the month\n",
    "# df_use['hour'] = df_use['timestamp'].dt.hour\n",
    "# df_use['day'] = df_use['timestamp'].dt.dayofweek\n",
    "# df_use['day_name'] = df_use['timestamp'].dt.day_name()\n",
    "# df_use['week'] = df_use['timestamp'].dt.week\n",
    "# df_use['month'] = df_use['timestamp'].dt.month\n",
    "# df_use"
   ]
  },
  {
   "attachments": {},
   "cell_type": "markdown",
   "metadata": {},
   "source": [
    "### Get rid of outliers"
   ]
  },
  {
   "cell_type": "code",
   "execution_count": null,
   "metadata": {},
   "outputs": [],
   "source": [
    "# remove rows containing the highhest one percent of the stay time\n",
    "df_use = df_use[df_use['stay_s'] < df_use['stay_s'].quantile(0.99)]\n",
    "df_use"
   ]
  },
  {
   "cell_type": "code",
   "execution_count": null,
   "metadata": {},
   "outputs": [],
   "source": [
    "ax = sns.boxplot(x=\"hour\", y=\"stay_s\", data=df_use, showfliers=False)"
   ]
  },
  {
   "cell_type": "code",
   "execution_count": null,
   "metadata": {},
   "outputs": [],
   "source": [
    "plt.figure(figsize=(15,4), dpi=100)\n",
    "plt.plot(, y, color='tab:red')\n",
    "plt.gca().set(title=title, xlabel=xlabel, ylabel=ylabel)\n",
    "plt.show()"
   ]
  },
  {
   "cell_type": "code",
   "execution_count": null,
   "metadata": {},
   "outputs": [],
   "source": [
    "df_hour = df_no_out['stay_s']\n",
    "df_2019 = df_hour.reset_index()\n",
    "df_2019 = df_2019.rename({'timestamp_entered_h': 'timestamp'}, axis=1)\n",
    "df_2019"
   ]
  },
  {
   "cell_type": "code",
   "execution_count": null,
   "metadata": {},
   "outputs": [],
   "source": [
    "df_hour = hourly_df['stay_s']\n",
    "\n",
    "f, ax = plt.subplots(figsize=(18,20),dpi=200);\n",
    "plt.suptitle('American Electric Power (AEP) estimated energy consumption in MegaWatts (MW)', fontsize=24);\n",
    "df_hour.plot(ax=ax,rot=90,ylabel='MW');"
   ]
  },
  {
   "cell_type": "code",
   "execution_count": null,
   "metadata": {},
   "outputs": [],
   "source": [
    "import statsmodels.api as sm\n",
    "import numpy as np\n",
    "\n",
    "#extracting daily seasonality from raw time series\n",
    "sd_24 = sm.tsa.seasonal_decompose(df_hour, period=24)\n",
    "\n",
    "# #extracting weekly seasonality from time series adjusted by daily seasonality\n",
    "# sd_168 = sm.tsa.seasonal_decompose(df_hour - np.array(sd_24.seasonal).reshape(-1,1), period=168)\n",
    "\n",
    "# #extracting yearly seasonality from time series adjusted by daily and weekly seasonality\n",
    "# sd_8766 = sm.tsa.seasonal_decompose(df_hour - np.array(sd_168.seasonal).reshape(-1,1), period=8766)"
   ]
  },
  {
   "cell_type": "code",
   "execution_count": null,
   "metadata": {},
   "outputs": [],
   "source": [
    "from statsmodels.tsa.seasonal import MSTL\n",
    "\n",
    "mstl = MSTL(df_no_out[\"stay_s\"], periods=(12, 24, 24 * 7), stl_kwargs={\"seasonal_deg\": 0})\n",
    "res = mstl.fit()\n",
    "# define a figure with a custom size\n",
    "plt.rc(\"figure\", figsize=(20,20))\n",
    "res.plot()"
   ]
  },
  {
   "cell_type": "code",
   "execution_count": null,
   "metadata": {},
   "outputs": [],
   "source": [
    "res.seasonal"
   ]
  },
  {
   "cell_type": "code",
   "execution_count": null,
   "metadata": {},
   "outputs": [],
   "source": [
    "import statsmodels.api as sm\n",
    "\n",
    "daily_components = sm.tsa.seasonal_decompose(df_hour, period=24)\n",
    "weekly_components= sm.tsa.seasonal_decompose(df_hour, period=24*7)\n",
    "\n",
    "# adjusted = df_hour[\"stay_s\"] - daily_components.seasonal - weekly_components.seasonal"
   ]
  },
  {
   "cell_type": "code",
   "execution_count": null,
   "metadata": {},
   "outputs": [],
   "source": [
    "adjusted = df_hour - daily_components.seasonal - weekly_components.seasonal"
   ]
  },
  {
   "cell_type": "code",
   "execution_count": null,
   "metadata": {},
   "outputs": [],
   "source": [
    "sm.tsa.seasonal_decompose(df_hour, period=7).plot()"
   ]
  },
  {
   "cell_type": "code",
   "execution_count": null,
   "metadata": {},
   "outputs": [],
   "source": [
    "mean = \n",
    "df_no_out['weekly_smoothed'] = df_no_out['flight_hours'].rolling(24*7, center=True).mean()\n",
    "df_no_out['monthly_smoothed'] = df_no_out['flight_hours'].rolling(24*7*30, center=True).mean()\n",
    "\n",
    "sns.lineplot(data=df_no_out, x='timestamp_entered_h', y='flight_hours')\n",
    "sns.lineplot(data=df_no_out, x='timestamp_entered_h', y='daily_smoothed')\n",
    "sns.lineplot(data=df_no_out, x='timestamp_entered_h', y='weekly_smoothed')\n",
    "sns.lineplot(data=df_no_out, x='timestamp_entered_h', y='monthly_smoothed')\n",
    "\n",
    "plt.gcf().set_size_inches(20, 10)\n",
    "plt.show()"
   ]
  }
 ],
 "metadata": {
  "kernelspec": {
   "display_name": "vt_2_env",
   "language": "python",
   "name": "python3"
  },
  "language_info": {
   "codemirror_mode": {
    "name": "ipython",
    "version": 3
   },
   "file_extension": ".py",
   "mimetype": "text/x-python",
   "name": "python",
   "nbconvert_exporter": "python",
   "pygments_lexer": "ipython3",
   "version": "3.11.0"
  },
  "orig_nbformat": 4
 },
 "nbformat": 4,
 "nbformat_minor": 2
}
