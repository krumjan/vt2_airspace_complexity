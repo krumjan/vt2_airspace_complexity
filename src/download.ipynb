{
 "cells": [
  {
   "cell_type": "code",
   "execution_count": 2,
   "metadata": {},
   "outputs": [],
   "source": [
    "from complexity.airspace_2 import airspace\n",
    "from traffic.data import nm_airspaces"
   ]
  },
  {
   "cell_type": "markdown",
   "metadata": {},
   "source": [
    "## Geneva"
   ]
  },
  {
   "cell_type": "code",
   "execution_count": null,
   "metadata": {},
   "outputs": [],
   "source": [
    "# define airspace\n",
    "lsaguac = airspace(\n",
    "    id=\"LSAGUAC\",\n",
    "    airspace = nm_airspaces['LSAGUAC']\n",
    ")\n",
    "\n",
    "# fetch data\n",
    "lsaguac.get_data(\n",
    "    start_date=\"2019-01-01\",\n",
    "    end_date=\"2020-01-01\",\n",
    ")\n",
    "\n",
    "# preprocess data\n",
    "lsaguac.preprocess_data()\n",
    "\n",
    "# visualise data\n",
    "fig = lsaguac.plot(traj_sample=True)\n",
    "fig.show()"
   ]
  },
  {
   "cell_type": "markdown",
   "metadata": {},
   "source": [
    "## MUAC"
   ]
  },
  {
   "cell_type": "code",
   "execution_count": null,
   "metadata": {},
   "outputs": [
    {
     "name": "stdout",
     "output_type": "stream",
     "text": [
      "Fetching data...\n",
      "Downloading 2019-07-14...Downloading 2019-06-15...Downloading 2019-06-04...Downloading 2019-05-24...\n",
      "\n",
      "Downloading 2019-07-09...\n",
      "\n",
      "Downloading 2019-08-05...\n",
      "\n",
      "Downloading 2019-06-27...\n"
     ]
    },
    {
     "data": {
      "application/vnd.jupyter.widget-view+json": {
       "model_id": "49155312f9bd4114a7128b16f86dde61",
       "version_major": 2,
       "version_minor": 0
      },
      "text/plain": [
       "  0%|          | 0/24 [00:00<?, ?it/s]"
      ]
     },
     "metadata": {},
     "output_type": "display_data"
    },
    {
     "data": {
      "application/vnd.jupyter.widget-view+json": {
       "model_id": "6f25f042376f4556bdd3f19b30851528",
       "version_major": 2,
       "version_minor": 0
      },
      "text/plain": [
       "  0%|          | 0/24 [00:00<?, ?it/s]"
      ]
     },
     "metadata": {},
     "output_type": "display_data"
    },
    {
     "data": {
      "application/vnd.jupyter.widget-view+json": {
       "model_id": "1170e4233b52434faf63fb94117e2ab1",
       "version_major": 2,
       "version_minor": 0
      },
      "text/plain": [
       "  0%|          | 0/24 [00:00<?, ?it/s]"
      ]
     },
     "metadata": {},
     "output_type": "display_data"
    },
    {
     "data": {
      "application/vnd.jupyter.widget-view+json": {
       "model_id": "26877da3a6ae48c6a94ae517a9c0fc31",
       "version_major": 2,
       "version_minor": 0
      },
      "text/plain": [
       "  0%|          | 0/24 [00:00<?, ?it/s]"
      ]
     },
     "metadata": {},
     "output_type": "display_data"
    },
    {
     "name": "stdout",
     "output_type": "stream",
     "text": [
      "Downloading 2019-07-24..."
     ]
    },
    {
     "data": {
      "application/vnd.jupyter.widget-view+json": {
       "model_id": "9e76cc1da4a243668c2abdbfb64fbcce",
       "version_major": 2,
       "version_minor": 0
      },
      "text/plain": [
       "  0%|          | 0/24 [00:00<?, ?it/s]"
      ]
     },
     "metadata": {},
     "output_type": "display_data"
    },
    {
     "data": {
      "application/vnd.jupyter.widget-view+json": {
       "model_id": "516a119023f94984ae0e0252157221bc",
       "version_major": 2,
       "version_minor": 0
      },
      "text/plain": [
       "  0%|          | 0/24 [00:00<?, ?it/s]"
      ]
     },
     "metadata": {},
     "output_type": "display_data"
    },
    {
     "name": "stdout",
     "output_type": "stream",
     "text": [
      "\n"
     ]
    },
    {
     "data": {
      "application/vnd.jupyter.widget-view+json": {
       "model_id": "afcabea469914c35959198a2e793faff",
       "version_major": 2,
       "version_minor": 0
      },
      "text/plain": [
       "  0%|          | 0/24 [00:00<?, ?it/s]"
      ]
     },
     "metadata": {},
     "output_type": "display_data"
    },
    {
     "data": {
      "application/vnd.jupyter.widget-view+json": {
       "model_id": "50a0a8e39308459f8e10ed9f5851005e",
       "version_major": 2,
       "version_minor": 0
      },
      "text/plain": [
       "  0%|          | 0/24 [00:00<?, ?it/s]"
      ]
     },
     "metadata": {},
     "output_type": "display_data"
    }
   ],
   "source": [
    "# define airspace\n",
    "muac = airspace(\n",
    "    id=\"MUAC\",\n",
    "    airspace=nm_airspaces['EDYYUTAX']\n",
    ")\n",
    "\n",
    "# fetch data\n",
    "muac.get_data(\n",
    "    start_date=\"2019-01-01\",\n",
    "    end_date=\"2020-01-01\",\n",
    ")\n",
    "\n",
    "# preprocess data\n",
    "muac.preprocess_data()"
   ]
  },
  {
   "cell_type": "markdown",
   "metadata": {},
   "source": [
    "## Zurich"
   ]
  },
  {
   "cell_type": "code",
   "execution_count": null,
   "metadata": {},
   "outputs": [],
   "source": [
    "lsazall = airspace(\n",
    "    id=\"LSAZALL\",\n",
    "    airspace = nm_airspaces['LSAZALL']\n",
    ")\n",
    "\n",
    "# fetch data\n",
    "lsaguac.get_data(\n",
    "    start_date=\"2019-01-01\",\n",
    "    end_date=\"2020-01-01\",\n",
    ")\n",
    "\n",
    "# preprocess data\n",
    "lsaguac.preprocess_data()"
   ]
  },
  {
   "cell_type": "code",
   "execution_count": null,
   "metadata": {},
   "outputs": [],
   "source": [
    "import utils.adsb as util_adsb\n",
    "import utils.general as util_general\n",
    "from traffic.data import nm_airspaces\n",
    "from operator import attrgetter\n",
    "from pathlib import Path\n",
    "import glob\n",
    "import pandas as pd\n",
    "from traffic.core import Traffic\n",
    "from tqdm.auto import tqdm"
   ]
  },
  {
   "cell_type": "code",
   "execution_count": null,
   "metadata": {},
   "outputs": [],
   "source": [
    "ge_uac = max(\n",
    "    nm_airspaces.query('type == \"CS\" and designator.str.startswith(\"LSAGUAC\")'),\n",
    "    key=attrgetter(\"area\"),  # equivalent to `lambda x: x.area`\n",
    ")"
   ]
  },
  {
   "cell_type": "code",
   "execution_count": null,
   "metadata": {},
   "outputs": [],
   "source": [
    "from traffic.data import nm_airspaces\n",
    "\n",
    "nm_airspaces['LSAGUAC']"
   ]
  },
  {
   "cell_type": "code",
   "execution_count": null,
   "metadata": {},
   "outputs": [],
   "source": [
    "ge_uac.elements[0].upper*100"
   ]
  },
  {
   "cell_type": "code",
   "execution_count": null,
   "metadata": {},
   "outputs": [],
   "source": [
    "# Define home path\n",
    "home_path = util_general.get_project_root()\n",
    "\n",
    "# Data fetching per day\n",
    "print(\"Fetching data...\")\n",
    "util_adsb.download_adsb_para(\n",
    "    start='2019-01-01',\n",
    "    stop='2020-01-01',\n",
    "    folder=f\"{home_path}/data/geneva_uac/01_raw\",\n",
    "    bounds=ge_uac,\n",
    "    lower=ge_uac.elements[0].lower*100,\n",
    "    upper=415*100,\n",
    ")\n"
   ]
  },
  {
   "cell_type": "code",
   "execution_count": null,
   "metadata": {},
   "outputs": [],
   "source": [
    "# Combining data to monthly files\n",
    "print(\"Combining data...\")\n",
    "util_adsb.combine_adsb(\n",
    "    path_raw=f\"{home_path}/data/geneva_uac/01_raw\",\n",
    "    path_combined=f\"{home_path}/data/geneva_uac/02_combined\",\n",
    ")"
   ]
  },
  {
   "cell_type": "code",
   "execution_count": null,
   "metadata": {},
   "outputs": [],
   "source": [
    "print(\"Preprocessing data in monthly chuks...\")\n",
    "util_adsb.preprocess_adsb(\n",
    "    path_get=f\"{home_path}/data/geneva_uac/02_combined\",\n",
    "    path_save=f\"{home_path}/data/geneva_uac/03_preprocessed/monthly/\",\n",
    ")\n",
    "\n",
    "# Combine preprocessed data to one file\n",
    "print(\"Combining preprocessed data...\")\n",
    "# Check if file already exists\n",
    "check_file = Path(\n",
    "    f\"{home_path}/data/geneva_uac/03_preprocessed/preprocessed_all.parquet\"\n",
    ")\n",
    "# If file does not exist, combine data\n",
    "if check_file.is_file() is False:\n",
    "    # Get all monthly files\n",
    "    files = glob.glob(\n",
    "        f\"{home_path}/data/geneva_uac/03_preprocessed/monthly/*.parquet\",\n",
    "        recursive=True,\n",
    "    )\n",
    "    # Read all files and combine them to one dataframe\n",
    "    all_df = pd.DataFrame()\n",
    "    for file in tqdm(files):\n",
    "        all_df = pd.concat([all_df, Traffic.from_file(file).data])\n",
    "    # Save combined dataframe as Traffic object\n",
    "    Traffic(all_df).to_parquet(\n",
    "        f\"{home_path}/data/geneva_uac/03_preprocessed/preprocessed_all.parquet\"\n",
    "    )"
   ]
  },
  {
   "cell_type": "markdown",
   "metadata": {},
   "source": [
    "## MUAC"
   ]
  },
  {
   "cell_type": "code",
   "execution_count": null,
   "metadata": {},
   "outputs": [],
   "source": [
    "muac = nm_airspaces['EDYYUTAX']"
   ]
  },
  {
   "cell_type": "code",
   "execution_count": null,
   "metadata": {},
   "outputs": [],
   "source": [
    "# Define home path\n",
    "home_path = util_general.get_project_root()\n",
    "\n",
    "# Data fetching per day\n",
    "print(\"Fetching data...\")\n",
    "util_adsb.download_adsb_para(\n",
    "    start='2019-01-01',\n",
    "    stop='2020-01-01',\n",
    "    folder=f\"{home_path}/data/muac/01_raw\",\n",
    "    bounds=muac,\n",
    "    lower=muac.elements[0].lower*100,\n",
    "    upper=415*100,\n",
    ")"
   ]
  },
  {
   "cell_type": "code",
   "execution_count": null,
   "metadata": {},
   "outputs": [],
   "source": [
    "# Combining data to monthly files\n",
    "print(\"Combining data...\")\n",
    "util_adsb.combine_adsb(\n",
    "    path_raw=f\"{home_path}/data/muac/01_raw\",\n",
    "    path_combined=f\"{home_path}/data/muac/02_combined\",\n",
    ")"
   ]
  },
  {
   "cell_type": "code",
   "execution_count": null,
   "metadata": {},
   "outputs": [],
   "source": [
    "print(\"Preprocessing data in monthly chuks...\")\n",
    "util_adsb.preprocess_adsb(\n",
    "    path_get=f\"{home_path}/data/muac/02_combined\",\n",
    "    path_save=f\"{home_path}/data/muac/03_preprocessed/monthly/\",\n",
    ")\n",
    "\n",
    "# Combine preprocessed data to one file\n",
    "print(\"Combining preprocessed data...\")\n",
    "# Check if file already exists\n",
    "check_file = Path(\n",
    "    f\"{home_path}/data/muac/03_preprocessed/preprocessed_all.parquet\"\n",
    ")\n",
    "# If file does not exist, combine data\n",
    "if check_file.is_file() is False:\n",
    "    # Get all monthly files\n",
    "    files = glob.glob(\n",
    "        f\"{home_path}/data/muac/03_preprocessed/monthly/*.parquet\",\n",
    "        recursive=True,\n",
    "    )\n",
    "    # Read all files and combine them to one dataframe\n",
    "    all_df = pd.DataFrame()\n",
    "    for file in tqdm(files):\n",
    "        all_df = pd.concat([all_df, Traffic.from_file(file).data])\n",
    "    # Save combined dataframe as Traffic object\n",
    "    Traffic(all_df).to_parquet(\n",
    "        f\"{home_path}/data/muac/03_preprocessed/preprocessed_all.parquet\"\n",
    "    )"
   ]
  }
 ],
 "metadata": {
  "kernelspec": {
   "display_name": "Python 3 (ipykernel)",
   "language": "python",
   "name": "python3"
  },
  "language_info": {
   "codemirror_mode": {
    "name": "ipython",
    "version": 3
   },
   "file_extension": ".py",
   "mimetype": "text/x-python",
   "name": "python",
   "nbconvert_exporter": "python",
   "pygments_lexer": "ipython3",
   "version": "3.11.0"
  }
 },
 "nbformat": 4,
 "nbformat_minor": 2
}
