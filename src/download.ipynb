{
 "cells": [
  {
   "cell_type": "code",
   "execution_count": 1,
   "metadata": {},
   "outputs": [],
   "source": [
    "from complexity.airspace import airspace\n",
    "from traffic.data import nm_airspaces"
   ]
  },
  {
   "cell_type": "markdown",
   "metadata": {},
   "source": [
    "## Geneva"
   ]
  },
  {
   "cell_type": "code",
   "execution_count": null,
   "metadata": {},
   "outputs": [],
   "source": [
    "# define airspace\n",
    "lsaguac = airspace(\n",
    "    id=\"LSAGUAC\",\n",
    "    airspace = nm_airspaces['LSAGUAC']\n",
    ")\n",
    "\n",
    "# fetch data\n",
    "lsaguac.get_data(\n",
    "    start_date=\"2019-01-01\",\n",
    "    end_date=\"2020-01-01\",\n",
    ")\n",
    "\n",
    "# preprocess data\n",
    "lsaguac.preprocess_data()\n",
    "\n",
    "# visualise data\n",
    "fig = lsaguac.plot(traj_sample=True)\n",
    "fig.show()"
   ]
  },
  {
   "cell_type": "markdown",
   "metadata": {},
   "source": [
    "## MUAC"
   ]
  },
  {
   "cell_type": "code",
   "execution_count": null,
   "metadata": {},
   "outputs": [],
   "source": [
    "# define airspace\n",
    "muac = airspace(\n",
    "    id=\"MUAC\",\n",
    "    airspace=nm_airspaces['EDYYUTAX']\n",
    ")\n",
    "\n",
    "# fetch data\n",
    "muac.get_data(\n",
    "    start_date=\"2019-01-01\",\n",
    "    end_date=\"2020-01-01\",\n",
    ")\n",
    "\n",
    "# preprocess data\n",
    "muac.preprocess_data()"
   ]
  },
  {
   "cell_type": "markdown",
   "metadata": {},
   "source": [
    "## Zurich"
   ]
  },
  {
   "cell_type": "code",
   "execution_count": 3,
   "metadata": {},
   "outputs": [
    {
     "name": "stdout",
     "output_type": "stream",
     "text": [
      "Fetching data...\n",
      "Downloading 2019-10-25...\n"
     ]
    },
    {
     "data": {
      "application/vnd.jupyter.widget-view+json": {
       "model_id": "ddfc997284e94dcf86577507e43f0e23",
       "version_major": 2,
       "version_minor": 0
      },
      "text/plain": [
       "  0%|          | 0/24 [00:00<?, ?it/s]"
      ]
     },
     "metadata": {},
     "output_type": "display_data"
    },
    {
     "name": "stdout",
     "output_type": "stream",
     "text": [
      "Downloading 2019-10-26...\n"
     ]
    },
    {
     "data": {
      "application/vnd.jupyter.widget-view+json": {
       "model_id": "36eaa217444a43eea81eac1bcebdc840",
       "version_major": 2,
       "version_minor": 0
      },
      "text/plain": [
       "  0%|          | 0/24 [00:00<?, ?it/s]"
      ]
     },
     "metadata": {},
     "output_type": "display_data"
    },
    {
     "name": "stdout",
     "output_type": "stream",
     "text": [
      "Downloading 2019-10-27...\n"
     ]
    },
    {
     "data": {
      "application/vnd.jupyter.widget-view+json": {
       "model_id": "096e3d0cc0ac44f3be7a46a9985a9d97",
       "version_major": 2,
       "version_minor": 0
      },
      "text/plain": [
       "  0%|          | 0/24 [00:00<?, ?it/s]"
      ]
     },
     "metadata": {},
     "output_type": "display_data"
    },
    {
     "name": "stdout",
     "output_type": "stream",
     "text": [
      "Combining data...\n"
     ]
    },
    {
     "data": {
      "application/vnd.jupyter.widget-view+json": {
       "model_id": "fb3ae4c7a93c4e0382852133eddff4c5",
       "version_major": 2,
       "version_minor": 0
      },
      "text/plain": [
       "  0%|          | 0/12 [00:00<?, ?it/s]"
      ]
     },
     "metadata": {},
     "output_type": "display_data"
    },
    {
     "name": "stdout",
     "output_type": "stream",
     "text": [
      "Preprocessing data in monthly chuks...\n"
     ]
    },
    {
     "data": {
      "application/vnd.jupyter.widget-view+json": {
       "model_id": "b9c0ef4800a44583afcf4c5b1a2d228e",
       "version_major": 2,
       "version_minor": 0
      },
      "text/plain": [
       "  0%|          | 0/12 [00:00<?, ?it/s]"
      ]
     },
     "metadata": {},
     "output_type": "display_data"
    },
    {
     "name": "stdout",
     "output_type": "stream",
     "text": [
      "/cluster/home/krum/github/VT2_airspace_complexity/data/LSAZALL/02_combined/combined_2019_1.parquet\n"
     ]
    },
    {
     "data": {
      "application/vnd.jupyter.widget-view+json": {
       "model_id": "26405cc168914f7d8609195a751b0267",
       "version_major": 2,
       "version_minor": 0
      },
      "text/plain": [
       "Output()"
      ]
     },
     "metadata": {},
     "output_type": "display_data"
    },
    {
     "data": {
      "text/html": [
       "<pre style=\"white-space:pre;overflow-x:auto;line-height:normal;font-family:Menlo,'DejaVu Sans Mono',consolas,'Courier New',monospace\"></pre>\n"
      ],
      "text/plain": []
     },
     "metadata": {},
     "output_type": "display_data"
    },
    {
     "data": {
      "text/html": [
       "<pre style=\"white-space:pre;overflow-x:auto;line-height:normal;font-family:Menlo,'DejaVu Sans Mono',consolas,'Courier New',monospace\">\n",
       "</pre>\n"
      ],
      "text/plain": [
       "\n"
      ]
     },
     "metadata": {},
     "output_type": "display_data"
    },
    {
     "name": "stdout",
     "output_type": "stream",
     "text": [
      "/cluster/home/krum/github/VT2_airspace_complexity/data/LSAZALL/02_combined/combined_2019_2.parquet\n"
     ]
    },
    {
     "data": {
      "application/vnd.jupyter.widget-view+json": {
       "model_id": "a46ea9ad533e402c98ca050d67f4e468",
       "version_major": 2,
       "version_minor": 0
      },
      "text/plain": [
       "Output()"
      ]
     },
     "metadata": {},
     "output_type": "display_data"
    },
    {
     "data": {
      "text/html": [
       "<pre style=\"white-space:pre;overflow-x:auto;line-height:normal;font-family:Menlo,'DejaVu Sans Mono',consolas,'Courier New',monospace\"></pre>\n"
      ],
      "text/plain": []
     },
     "metadata": {},
     "output_type": "display_data"
    },
    {
     "data": {
      "text/html": [
       "<pre style=\"white-space:pre;overflow-x:auto;line-height:normal;font-family:Menlo,'DejaVu Sans Mono',consolas,'Courier New',monospace\">\n",
       "</pre>\n"
      ],
      "text/plain": [
       "\n"
      ]
     },
     "metadata": {},
     "output_type": "display_data"
    },
    {
     "name": "stdout",
     "output_type": "stream",
     "text": [
      "/cluster/home/krum/github/VT2_airspace_complexity/data/LSAZALL/02_combined/combined_2019_3.parquet\n"
     ]
    },
    {
     "data": {
      "application/vnd.jupyter.widget-view+json": {
       "model_id": "b7b7210a5ffe4f5f9ebe8ea829e30858",
       "version_major": 2,
       "version_minor": 0
      },
      "text/plain": [
       "Output()"
      ]
     },
     "metadata": {},
     "output_type": "display_data"
    },
    {
     "data": {
      "text/html": [
       "<pre style=\"white-space:pre;overflow-x:auto;line-height:normal;font-family:Menlo,'DejaVu Sans Mono',consolas,'Courier New',monospace\"></pre>\n"
      ],
      "text/plain": []
     },
     "metadata": {},
     "output_type": "display_data"
    },
    {
     "data": {
      "text/html": [
       "<pre style=\"white-space:pre;overflow-x:auto;line-height:normal;font-family:Menlo,'DejaVu Sans Mono',consolas,'Courier New',monospace\">\n",
       "</pre>\n"
      ],
      "text/plain": [
       "\n"
      ]
     },
     "metadata": {},
     "output_type": "display_data"
    },
    {
     "name": "stdout",
     "output_type": "stream",
     "text": [
      "/cluster/home/krum/github/VT2_airspace_complexity/data/LSAZALL/02_combined/combined_2019_4.parquet\n"
     ]
    },
    {
     "data": {
      "application/vnd.jupyter.widget-view+json": {
       "model_id": "194a4ac7fa4c48adbf550fb96125acf2",
       "version_major": 2,
       "version_minor": 0
      },
      "text/plain": [
       "Output()"
      ]
     },
     "metadata": {},
     "output_type": "display_data"
    },
    {
     "data": {
      "text/html": [
       "<pre style=\"white-space:pre;overflow-x:auto;line-height:normal;font-family:Menlo,'DejaVu Sans Mono',consolas,'Courier New',monospace\"></pre>\n"
      ],
      "text/plain": []
     },
     "metadata": {},
     "output_type": "display_data"
    },
    {
     "data": {
      "text/html": [
       "<pre style=\"white-space:pre;overflow-x:auto;line-height:normal;font-family:Menlo,'DejaVu Sans Mono',consolas,'Courier New',monospace\">\n",
       "</pre>\n"
      ],
      "text/plain": [
       "\n"
      ]
     },
     "metadata": {},
     "output_type": "display_data"
    },
    {
     "name": "stdout",
     "output_type": "stream",
     "text": [
      "/cluster/home/krum/github/VT2_airspace_complexity/data/LSAZALL/02_combined/combined_2019_5.parquet\n"
     ]
    },
    {
     "data": {
      "application/vnd.jupyter.widget-view+json": {
       "model_id": "670d2be210d44213861c609bf8ced8f4",
       "version_major": 2,
       "version_minor": 0
      },
      "text/plain": [
       "Output()"
      ]
     },
     "metadata": {},
     "output_type": "display_data"
    },
    {
     "data": {
      "text/html": [
       "<pre style=\"white-space:pre;overflow-x:auto;line-height:normal;font-family:Menlo,'DejaVu Sans Mono',consolas,'Courier New',monospace\"></pre>\n"
      ],
      "text/plain": []
     },
     "metadata": {},
     "output_type": "display_data"
    },
    {
     "data": {
      "text/html": [
       "<pre style=\"white-space:pre;overflow-x:auto;line-height:normal;font-family:Menlo,'DejaVu Sans Mono',consolas,'Courier New',monospace\">\n",
       "</pre>\n"
      ],
      "text/plain": [
       "\n"
      ]
     },
     "metadata": {},
     "output_type": "display_data"
    },
    {
     "name": "stdout",
     "output_type": "stream",
     "text": [
      "/cluster/home/krum/github/VT2_airspace_complexity/data/LSAZALL/02_combined/combined_2019_6.parquet\n"
     ]
    },
    {
     "data": {
      "application/vnd.jupyter.widget-view+json": {
       "model_id": "3be10f68094d404187b6dc5d1260a965",
       "version_major": 2,
       "version_minor": 0
      },
      "text/plain": [
       "Output()"
      ]
     },
     "metadata": {},
     "output_type": "display_data"
    },
    {
     "data": {
      "text/html": [
       "<pre style=\"white-space:pre;overflow-x:auto;line-height:normal;font-family:Menlo,'DejaVu Sans Mono',consolas,'Courier New',monospace\"></pre>\n"
      ],
      "text/plain": []
     },
     "metadata": {},
     "output_type": "display_data"
    },
    {
     "data": {
      "text/html": [
       "<pre style=\"white-space:pre;overflow-x:auto;line-height:normal;font-family:Menlo,'DejaVu Sans Mono',consolas,'Courier New',monospace\">\n",
       "</pre>\n"
      ],
      "text/plain": [
       "\n"
      ]
     },
     "metadata": {},
     "output_type": "display_data"
    },
    {
     "name": "stdout",
     "output_type": "stream",
     "text": [
      "/cluster/home/krum/github/VT2_airspace_complexity/data/LSAZALL/02_combined/combined_2019_7.parquet\n"
     ]
    }
   ],
   "source": [
    "lsazall = airspace(\n",
    "    id=\"LSAZALL\",\n",
    "    airspace = nm_airspaces['LSAZALL']\n",
    ")\n",
    "\n",
    "# fetch data\n",
    "lsazall.get_data(\n",
    "    start_date=\"2019-01-01\",\n",
    "    end_date=\"2020-01-01\",\n",
    ")\n",
    "\n",
    "# preprocess data\n",
    "lsazall.preprocess_data()"
   ]
  },
  {
   "cell_type": "code",
   "execution_count": null,
   "metadata": {},
   "outputs": [],
   "source": [
    "import utils.adsb as util_adsb\n",
    "import utils.general as util_general\n",
    "from traffic.data import nm_airspaces\n",
    "from operator import attrgetter\n",
    "from pathlib import Path\n",
    "import glob\n",
    "import pandas as pd\n",
    "from traffic.core import Traffic\n",
    "from tqdm.auto import tqdm"
   ]
  },
  {
   "cell_type": "code",
   "execution_count": null,
   "metadata": {},
   "outputs": [],
   "source": [
    "ge_uac = max(\n",
    "    nm_airspaces.query('type == \"CS\" and designator.str.startswith(\"LSAGUAC\")'),\n",
    "    key=attrgetter(\"area\"),  # equivalent to `lambda x: x.area`\n",
    ")"
   ]
  },
  {
   "cell_type": "code",
   "execution_count": null,
   "metadata": {},
   "outputs": [],
   "source": [
    "from traffic.data import nm_airspaces\n",
    "\n",
    "nm_airspaces['LSAGUAC']"
   ]
  },
  {
   "cell_type": "code",
   "execution_count": null,
   "metadata": {},
   "outputs": [],
   "source": [
    "ge_uac.elements[0].upper*100"
   ]
  },
  {
   "cell_type": "code",
   "execution_count": null,
   "metadata": {},
   "outputs": [],
   "source": [
    "# Define home path\n",
    "home_path = util_general.get_project_root()\n",
    "\n",
    "# Data fetching per day\n",
    "print(\"Fetching data...\")\n",
    "util_adsb.download_adsb_para(\n",
    "    start='2019-01-01',\n",
    "    stop='2020-01-01',\n",
    "    folder=f\"{home_path}/data/geneva_uac/01_raw\",\n",
    "    bounds=ge_uac,\n",
    "    lower=ge_uac.elements[0].lower*100,\n",
    "    upper=415*100,\n",
    ")\n"
   ]
  },
  {
   "cell_type": "code",
   "execution_count": null,
   "metadata": {},
   "outputs": [],
   "source": [
    "# Combining data to monthly files\n",
    "print(\"Combining data...\")\n",
    "util_adsb.combine_adsb(\n",
    "    path_raw=f\"{home_path}/data/geneva_uac/01_raw\",\n",
    "    path_combined=f\"{home_path}/data/geneva_uac/02_combined\",\n",
    ")"
   ]
  },
  {
   "cell_type": "code",
   "execution_count": null,
   "metadata": {},
   "outputs": [],
   "source": [
    "print(\"Preprocessing data in monthly chuks...\")\n",
    "util_adsb.preprocess_adsb(\n",
    "    path_get=f\"{home_path}/data/geneva_uac/02_combined\",\n",
    "    path_save=f\"{home_path}/data/geneva_uac/03_preprocessed/monthly/\",\n",
    ")\n",
    "\n",
    "# Combine preprocessed data to one file\n",
    "print(\"Combining preprocessed data...\")\n",
    "# Check if file already exists\n",
    "check_file = Path(\n",
    "    f\"{home_path}/data/geneva_uac/03_preprocessed/preprocessed_all.parquet\"\n",
    ")\n",
    "# If file does not exist, combine data\n",
    "if check_file.is_file() is False:\n",
    "    # Get all monthly files\n",
    "    files = glob.glob(\n",
    "        f\"{home_path}/data/geneva_uac/03_preprocessed/monthly/*.parquet\",\n",
    "        recursive=True,\n",
    "    )\n",
    "    # Read all files and combine them to one dataframe\n",
    "    all_df = pd.DataFrame()\n",
    "    for file in tqdm(files):\n",
    "        all_df = pd.concat([all_df, Traffic.from_file(file).data])\n",
    "    # Save combined dataframe as Traffic object\n",
    "    Traffic(all_df).to_parquet(\n",
    "        f\"{home_path}/data/geneva_uac/03_preprocessed/preprocessed_all.parquet\"\n",
    "    )"
   ]
  },
  {
   "cell_type": "markdown",
   "metadata": {},
   "source": [
    "## MUAC"
   ]
  },
  {
   "cell_type": "code",
   "execution_count": null,
   "metadata": {},
   "outputs": [],
   "source": [
    "muac = nm_airspaces['EDYYUTAX']"
   ]
  },
  {
   "cell_type": "code",
   "execution_count": null,
   "metadata": {},
   "outputs": [],
   "source": [
    "# Define home path\n",
    "home_path = util_general.get_project_root()\n",
    "\n",
    "# Data fetching per day\n",
    "print(\"Fetching data...\")\n",
    "util_adsb.download_adsb_para(\n",
    "    start='2019-01-01',\n",
    "    stop='2020-01-01',\n",
    "    folder=f\"{home_path}/data/muac/01_raw\",\n",
    "    bounds=muac,\n",
    "    lower=muac.elements[0].lower*100,\n",
    "    upper=415*100,\n",
    ")"
   ]
  },
  {
   "cell_type": "code",
   "execution_count": null,
   "metadata": {},
   "outputs": [],
   "source": [
    "# Combining data to monthly files\n",
    "print(\"Combining data...\")\n",
    "util_adsb.combine_adsb(\n",
    "    path_raw=f\"{home_path}/data/muac/01_raw\",\n",
    "    path_combined=f\"{home_path}/data/muac/02_combined\",\n",
    ")"
   ]
  },
  {
   "cell_type": "code",
   "execution_count": null,
   "metadata": {},
   "outputs": [],
   "source": [
    "print(\"Preprocessing data in monthly chuks...\")\n",
    "util_adsb.preprocess_adsb(\n",
    "    path_get=f\"{home_path}/data/muac/02_combined\",\n",
    "    path_save=f\"{home_path}/data/muac/03_preprocessed/monthly/\",\n",
    ")\n",
    "\n",
    "# Combine preprocessed data to one file\n",
    "print(\"Combining preprocessed data...\")\n",
    "# Check if file already exists\n",
    "check_file = Path(\n",
    "    f\"{home_path}/data/muac/03_preprocessed/preprocessed_all.parquet\"\n",
    ")\n",
    "# If file does not exist, combine data\n",
    "if check_file.is_file() is False:\n",
    "    # Get all monthly files\n",
    "    files = glob.glob(\n",
    "        f\"{home_path}/data/muac/03_preprocessed/monthly/*.parquet\",\n",
    "        recursive=True,\n",
    "    )\n",
    "    # Read all files and combine them to one dataframe\n",
    "    all_df = pd.DataFrame()\n",
    "    for file in tqdm(files):\n",
    "        all_df = pd.concat([all_df, Traffic.from_file(file).data])\n",
    "    # Save combined dataframe as Traffic object\n",
    "    Traffic(all_df).to_parquet(\n",
    "        f\"{home_path}/data/muac/03_preprocessed/preprocessed_all.parquet\"\n",
    "    )"
   ]
  }
 ],
 "metadata": {
  "kernelspec": {
   "display_name": "Python 3 (ipykernel)",
   "language": "python",
   "name": "python3"
  },
  "language_info": {
   "codemirror_mode": {
    "name": "ipython",
    "version": 3
   },
   "file_extension": ".py",
   "mimetype": "text/x-python",
   "name": "python",
   "nbconvert_exporter": "python",
   "pygments_lexer": "ipython3",
   "version": "3.11.0"
  }
 },
 "nbformat": 4,
 "nbformat_minor": 2
}
