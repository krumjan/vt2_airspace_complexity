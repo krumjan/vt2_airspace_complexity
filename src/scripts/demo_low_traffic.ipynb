{
 "cells": [
  {
   "attachments": {},
   "cell_type": "markdown",
   "metadata": {},
   "source": [
    "### Import of required libraries"
   ]
  },
  {
   "cell_type": "code",
   "execution_count": 1,
   "metadata": {},
   "outputs": [],
   "source": [
    "from traffic.core import Traffic\n",
    "import warnings\n",
    "warnings.simplefilter(action='ignore', category=FutureWarning)\n",
    "import pandas as pd\n",
    "from tqdm.auto import tqdm\n",
    "# import seaborn as sns\n",
    "import matplotlib.pyplot as plt\n",
    "import matplotlib.transforms as transforms\n",
    "# import functions as fn\n",
    "from traffic.data import nm_airspaces\n"
   ]
  },
  {
   "cell_type": "code",
   "execution_count": null,
   "metadata": {},
   "outputs": [],
   "source": [
    "from airspace import airspace\n",
    "\n",
    "as_switzerland = airspace(name = 'rectangle_Switzerland',\n",
    "                          lat_min = 45.52084813133491,\n",
    "                          lat_max = 47.85,\n",
    "                          lon_min = 5.85392,\n",
    "                          lon_max = 10.80539976710652,\n",
    "                          alt_low = 18000,\n",
    "                          alt_high = 60000,)"
   ]
  },
  {
   "cell_type": "code",
   "execution_count": null,
   "metadata": {},
   "outputs": [],
   "source": [
    "as_switzerland.generate_grid()\n",
    "as_switzerland.plot_grid()"
   ]
  },
  {
   "cell_type": "code",
   "execution_count": null,
   "metadata": {},
   "outputs": [],
   "source": [
    "import math\n",
    "import numpy as np\n",
    "\n",
    "levels = np.array([*range(math.ceil((60000 - 18000)/3000))])\n",
    "alts_low = 18000 + 3000 * levels\n",
    "alts_high = 18000 + 3000 * (levels+1)\n",
    "alts = np.array(list(zip(alts_low, alts_high)))\n",
    "alts"
   ]
  },
  {
   "cell_type": "code",
   "execution_count": null,
   "metadata": {},
   "outputs": [],
   "source": [
    "import functions as fn\n",
    "\n",
    "lon_min = 5.85392\n",
    "lon_max = 10.80539976710652\n",
    "lat_min = 45.52084813133491\n",
    "lat_max = 47.85\n",
    "\n",
    "positions = [(lat_max, lon_min)]\n",
    "lat = lat_max\n",
    "lon = lon_min\n",
    "\n",
    "while lat > lat_min:\n",
    "    orig = (lat, lon)\n",
    "    while lon < lon_max:\n",
    "        lon = fn.new_pos_dist((lat, lon), 20, 90)[1]\n",
    "        if lat>lat_min and lon<lon_max:\n",
    "            positions.append((lat, lon))\n",
    "    lat, lon = orig\n",
    "    lat, lon = fn.new_pos_dist((lat, lon), 20, 180)\n"
   ]
  },
  {
   "cell_type": "code",
   "execution_count": null,
   "metadata": {},
   "outputs": [],
   "source": [
    "len(positions)"
   ]
  },
  {
   "cell_type": "code",
   "execution_count": null,
   "metadata": {},
   "outputs": [],
   "source": [
    "from airspace import cube\n",
    "\n",
    "cube_1 = cube(positions[2], 1000, 20, 20)"
   ]
  },
  {
   "cell_type": "code",
   "execution_count": null,
   "metadata": {},
   "outputs": [],
   "source": [
    "cube_1.get_edges()"
   ]
  },
  {
   "cell_type": "code",
   "execution_count": null,
   "metadata": {},
   "outputs": [],
   "source": [
    "cube_1.get_vertices()"
   ]
  },
  {
   "cell_type": "code",
   "execution_count": null,
   "metadata": {},
   "outputs": [],
   "source": [
    "cube_1.info()"
   ]
  },
  {
   "attachments": {},
   "cell_type": "markdown",
   "metadata": {},
   "source": [
    "### Preparation of data on trajectory level"
   ]
  },
  {
   "cell_type": "code",
   "execution_count": 3,
   "metadata": {},
   "outputs": [],
   "source": [
    "trajs = Traffic.from_file('/cluster/home/krum/github/VT2_airspace_complexity/data/rectangle_Switzerland/03_preprocessed/preprocessed_all.parquet')"
   ]
  },
  {
   "cell_type": "code",
   "execution_count": 4,
   "metadata": {},
   "outputs": [],
   "source": [
    "df = trajs.data\n",
    "df = df.groupby('flight_id')['timestamp'].agg(['min', 'max']).reset_index()"
   ]
  },
  {
   "cell_type": "code",
   "execution_count": 5,
   "metadata": {},
   "outputs": [],
   "source": [
    "df = df.rename({'min': 'in', 'max': 'out'}, axis=1)"
   ]
  },
  {
   "cell_type": "code",
   "execution_count": 6,
   "metadata": {},
   "outputs": [],
   "source": [
    "df['stay_h'] = (df['out'] - df['in']).dt.total_seconds()/3600"
   ]
  },
  {
   "cell_type": "code",
   "execution_count": 7,
   "metadata": {},
   "outputs": [],
   "source": [
    "df['timestamp_entered_h'] = df['in'].dt.floor('h')"
   ]
  },
  {
   "cell_type": "code",
   "execution_count": 8,
   "metadata": {},
   "outputs": [],
   "source": [
    "df = df.drop(['in','out'], axis=1)"
   ]
  },
  {
   "cell_type": "code",
   "execution_count": null,
   "metadata": {},
   "outputs": [],
   "source": [
    "# Load data, assign unique flight IDs, resample to 5s\n",
    "trajs = Traffic.from_file('/cluster/home/krum/github/VT2_airspace_complexity/data/rectangle_Switzerland/03_preprocessed/preprocessed_2019_1.parquet')\n",
    "# trajs_filt = trajs.assign_id().resample('5s').eval(desc='processing', max_workers=20)\n",
    "# Aggregate by flight, determine stay time and hour of entry\n",
    "df = trajs.data\n",
    "df = df.groupby('flight_id')['timestamp'].agg(['min', 'max']).reset_index()\n",
    "df = df.rename({'min': 'in', 'max': 'out'}, axis=1)\n",
    "df['stay_h'] = (df['out'] - df['in']).dt.total_seconds()/3600\n",
    "df['timestamp_entered_h'] = df['in'].dt.floor('h')\n",
    "df = df.drop(['in','out'], axis=1)\n",
    "df\n"
   ]
  },
  {
   "attachments": {},
   "cell_type": "markdown",
   "metadata": {},
   "source": [
    "### Group data by hour"
   ]
  },
  {
   "cell_type": "code",
   "execution_count": 10,
   "metadata": {},
   "outputs": [
    {
     "data": {
      "text/html": [
       "<div>\n",
       "<style scoped>\n",
       "    .dataframe tbody tr th:only-of-type {\n",
       "        vertical-align: middle;\n",
       "    }\n",
       "\n",
       "    .dataframe tbody tr th {\n",
       "        vertical-align: top;\n",
       "    }\n",
       "\n",
       "    .dataframe thead th {\n",
       "        text-align: right;\n",
       "    }\n",
       "</style>\n",
       "<table border=\"1\" class=\"dataframe\">\n",
       "  <thead>\n",
       "    <tr style=\"text-align: right;\">\n",
       "      <th></th>\n",
       "      <th>count</th>\n",
       "      <th>stay_h</th>\n",
       "    </tr>\n",
       "    <tr>\n",
       "      <th>timestamp_entered_h</th>\n",
       "      <th></th>\n",
       "      <th></th>\n",
       "    </tr>\n",
       "  </thead>\n",
       "  <tbody>\n",
       "    <tr>\n",
       "      <th>2019-01-01 00:00:00+00:00</th>\n",
       "      <td>5</td>\n",
       "      <td>1.061111</td>\n",
       "    </tr>\n",
       "    <tr>\n",
       "      <th>2019-01-01 01:00:00+00:00</th>\n",
       "      <td>2</td>\n",
       "      <td>0.719444</td>\n",
       "    </tr>\n",
       "    <tr>\n",
       "      <th>2019-01-01 02:00:00+00:00</th>\n",
       "      <td>5</td>\n",
       "      <td>1.658333</td>\n",
       "    </tr>\n",
       "    <tr>\n",
       "      <th>2019-01-01 03:00:00+00:00</th>\n",
       "      <td>12</td>\n",
       "      <td>4.569444</td>\n",
       "    </tr>\n",
       "    <tr>\n",
       "      <th>2019-01-01 04:00:00+00:00</th>\n",
       "      <td>28</td>\n",
       "      <td>7591.223611</td>\n",
       "    </tr>\n",
       "    <tr>\n",
       "      <th>...</th>\n",
       "      <td>...</td>\n",
       "      <td>...</td>\n",
       "    </tr>\n",
       "    <tr>\n",
       "      <th>2019-12-30 19:00:00+00:00</th>\n",
       "      <td>160</td>\n",
       "      <td>39.504167</td>\n",
       "    </tr>\n",
       "    <tr>\n",
       "      <th>2019-12-30 20:00:00+00:00</th>\n",
       "      <td>185</td>\n",
       "      <td>44.254167</td>\n",
       "    </tr>\n",
       "    <tr>\n",
       "      <th>2019-12-30 21:00:00+00:00</th>\n",
       "      <td>122</td>\n",
       "      <td>27.909722</td>\n",
       "    </tr>\n",
       "    <tr>\n",
       "      <th>2019-12-30 22:00:00+00:00</th>\n",
       "      <td>49</td>\n",
       "      <td>11.805556</td>\n",
       "    </tr>\n",
       "    <tr>\n",
       "      <th>2019-12-30 23:00:00+00:00</th>\n",
       "      <td>17</td>\n",
       "      <td>4.109722</td>\n",
       "    </tr>\n",
       "  </tbody>\n",
       "</table>\n",
       "<p>8732 rows × 2 columns</p>\n",
       "</div>"
      ],
      "text/plain": [
       "                           count       stay_h\n",
       "timestamp_entered_h                          \n",
       "2019-01-01 00:00:00+00:00      5     1.061111\n",
       "2019-01-01 01:00:00+00:00      2     0.719444\n",
       "2019-01-01 02:00:00+00:00      5     1.658333\n",
       "2019-01-01 03:00:00+00:00     12     4.569444\n",
       "2019-01-01 04:00:00+00:00     28  7591.223611\n",
       "...                          ...          ...\n",
       "2019-12-30 19:00:00+00:00    160    39.504167\n",
       "2019-12-30 20:00:00+00:00    185    44.254167\n",
       "2019-12-30 21:00:00+00:00    122    27.909722\n",
       "2019-12-30 22:00:00+00:00     49    11.805556\n",
       "2019-12-30 23:00:00+00:00     17     4.109722\n",
       "\n",
       "[8732 rows x 2 columns]"
      ]
     },
     "execution_count": 10,
     "metadata": {},
     "output_type": "execute_result"
    }
   ],
   "source": [
    "# Aggregate by hour of entry, determine number of users and total stay time\n",
    "hourly_stay = df.groupby(['timestamp_entered_h'])['stay_h'].sum()\n",
    "hourly_users = df.groupby(['timestamp_entered_h'])['flight_id'].count()\n",
    "hourly_df = pd.concat([hourly_users, hourly_stay], axis=1)#.reset_index()\n",
    "hourly_df = hourly_df.rename({'flight_id': 'count'}, axis=1)\n",
    "hourly_df\n"
   ]
  },
  {
   "cell_type": "code",
   "execution_count": 12,
   "metadata": {},
   "outputs": [
    {
     "ename": "ValueError",
     "evalue": "Could not interpret value `stay_s` for parameter `x`",
     "output_type": "error",
     "traceback": [
      "\u001b[0;31m---------------------------------------------------------------------------\u001b[0m",
      "\u001b[0;31mValueError\u001b[0m                                Traceback (most recent call last)",
      "Cell \u001b[0;32mIn[12], line 3\u001b[0m\n\u001b[1;32m      1\u001b[0m \u001b[39mimport\u001b[39;00m \u001b[39mseaborn\u001b[39;00m \u001b[39mas\u001b[39;00m \u001b[39msns\u001b[39;00m\n\u001b[1;32m      2\u001b[0m fig, ax \u001b[39m=\u001b[39m plt\u001b[39m.\u001b[39msubplots(figsize\u001b[39m=\u001b[39m(\u001b[39m10\u001b[39m,\u001b[39m5\u001b[39m))\n\u001b[0;32m----> 3\u001b[0m sns\u001b[39m.\u001b[39;49mhistplot(data\u001b[39m=\u001b[39;49mhourly_df, x\u001b[39m=\u001b[39;49m\u001b[39m'\u001b[39;49m\u001b[39mstay_s\u001b[39;49m\u001b[39m'\u001b[39;49m, ax\u001b[39m=\u001b[39;49max, bins\u001b[39m=\u001b[39;49m\u001b[39m100\u001b[39;49m)\n\u001b[1;32m      4\u001b[0m ax\u001b[39m.\u001b[39mset_xlabel(\u001b[39m'\u001b[39m\u001b[39mStay time [s]\u001b[39m\u001b[39m'\u001b[39m)\n\u001b[1;32m      5\u001b[0m ax\u001b[39m.\u001b[39mset_ylabel(\u001b[39m'\u001b[39m\u001b[39mNumber of flights\u001b[39m\u001b[39m'\u001b[39m)\n",
      "File \u001b[0;32m~/github/VT2_airspace_complexity/.venv/lib/python3.11/site-packages/seaborn/distributions.py:1395\u001b[0m, in \u001b[0;36mhistplot\u001b[0;34m(data, x, y, hue, weights, stat, bins, binwidth, binrange, discrete, cumulative, common_bins, common_norm, multiple, element, fill, shrink, kde, kde_kws, line_kws, thresh, pthresh, pmax, cbar, cbar_ax, cbar_kws, palette, hue_order, hue_norm, color, log_scale, legend, ax, **kwargs)\u001b[0m\n\u001b[1;32m   1374\u001b[0m \u001b[39mdef\u001b[39;00m \u001b[39mhistplot\u001b[39m(\n\u001b[1;32m   1375\u001b[0m     data\u001b[39m=\u001b[39m\u001b[39mNone\u001b[39;00m, \u001b[39m*\u001b[39m,\n\u001b[1;32m   1376\u001b[0m     \u001b[39m# Vector variables\u001b[39;00m\n\u001b[0;32m   (...)\u001b[0m\n\u001b[1;32m   1392\u001b[0m     \u001b[39m*\u001b[39m\u001b[39m*\u001b[39mkwargs,\n\u001b[1;32m   1393\u001b[0m ):\n\u001b[0;32m-> 1395\u001b[0m     p \u001b[39m=\u001b[39m _DistributionPlotter(\n\u001b[1;32m   1396\u001b[0m         data\u001b[39m=\u001b[39;49mdata,\n\u001b[1;32m   1397\u001b[0m         variables\u001b[39m=\u001b[39;49m_DistributionPlotter\u001b[39m.\u001b[39;49mget_semantics(\u001b[39mlocals\u001b[39;49m())\n\u001b[1;32m   1398\u001b[0m     )\n\u001b[1;32m   1400\u001b[0m     p\u001b[39m.\u001b[39mmap_hue(palette\u001b[39m=\u001b[39mpalette, order\u001b[39m=\u001b[39mhue_order, norm\u001b[39m=\u001b[39mhue_norm)\n\u001b[1;32m   1402\u001b[0m     \u001b[39mif\u001b[39;00m ax \u001b[39mis\u001b[39;00m \u001b[39mNone\u001b[39;00m:\n",
      "File \u001b[0;32m~/github/VT2_airspace_complexity/.venv/lib/python3.11/site-packages/seaborn/distributions.py:113\u001b[0m, in \u001b[0;36m_DistributionPlotter.__init__\u001b[0;34m(self, data, variables)\u001b[0m\n\u001b[1;32m    107\u001b[0m \u001b[39mdef\u001b[39;00m \u001b[39m__init__\u001b[39m(\n\u001b[1;32m    108\u001b[0m     \u001b[39mself\u001b[39m,\n\u001b[1;32m    109\u001b[0m     data\u001b[39m=\u001b[39m\u001b[39mNone\u001b[39;00m,\n\u001b[1;32m    110\u001b[0m     variables\u001b[39m=\u001b[39m{},\n\u001b[1;32m    111\u001b[0m ):\n\u001b[0;32m--> 113\u001b[0m     \u001b[39msuper\u001b[39;49m()\u001b[39m.\u001b[39;49m\u001b[39m__init__\u001b[39;49m(data\u001b[39m=\u001b[39;49mdata, variables\u001b[39m=\u001b[39;49mvariables)\n",
      "File \u001b[0;32m~/github/VT2_airspace_complexity/.venv/lib/python3.11/site-packages/seaborn/_oldcore.py:640\u001b[0m, in \u001b[0;36mVectorPlotter.__init__\u001b[0;34m(self, data, variables)\u001b[0m\n\u001b[1;32m    635\u001b[0m \u001b[39m# var_ordered is relevant only for categorical axis variables, and may\u001b[39;00m\n\u001b[1;32m    636\u001b[0m \u001b[39m# be better handled by an internal axis information object that tracks\u001b[39;00m\n\u001b[1;32m    637\u001b[0m \u001b[39m# such information and is set up by the scale_* methods. The analogous\u001b[39;00m\n\u001b[1;32m    638\u001b[0m \u001b[39m# information for numeric axes would be information about log scales.\u001b[39;00m\n\u001b[1;32m    639\u001b[0m \u001b[39mself\u001b[39m\u001b[39m.\u001b[39m_var_ordered \u001b[39m=\u001b[39m {\u001b[39m\"\u001b[39m\u001b[39mx\u001b[39m\u001b[39m\"\u001b[39m: \u001b[39mFalse\u001b[39;00m, \u001b[39m\"\u001b[39m\u001b[39my\u001b[39m\u001b[39m\"\u001b[39m: \u001b[39mFalse\u001b[39;00m}  \u001b[39m# alt., used DefaultDict\u001b[39;00m\n\u001b[0;32m--> 640\u001b[0m \u001b[39mself\u001b[39;49m\u001b[39m.\u001b[39;49massign_variables(data, variables)\n\u001b[1;32m    642\u001b[0m \u001b[39mfor\u001b[39;00m var, \u001b[39mcls\u001b[39m \u001b[39min\u001b[39;00m \u001b[39mself\u001b[39m\u001b[39m.\u001b[39m_semantic_mappings\u001b[39m.\u001b[39mitems():\n\u001b[1;32m    643\u001b[0m \n\u001b[1;32m    644\u001b[0m     \u001b[39m# Create the mapping function\u001b[39;00m\n\u001b[1;32m    645\u001b[0m     map_func \u001b[39m=\u001b[39m partial(\u001b[39mcls\u001b[39m\u001b[39m.\u001b[39mmap, plotter\u001b[39m=\u001b[39m\u001b[39mself\u001b[39m)\n",
      "File \u001b[0;32m~/github/VT2_airspace_complexity/.venv/lib/python3.11/site-packages/seaborn/_oldcore.py:701\u001b[0m, in \u001b[0;36mVectorPlotter.assign_variables\u001b[0;34m(self, data, variables)\u001b[0m\n\u001b[1;32m    699\u001b[0m \u001b[39melse\u001b[39;00m:\n\u001b[1;32m    700\u001b[0m     \u001b[39mself\u001b[39m\u001b[39m.\u001b[39minput_format \u001b[39m=\u001b[39m \u001b[39m\"\u001b[39m\u001b[39mlong\u001b[39m\u001b[39m\"\u001b[39m\n\u001b[0;32m--> 701\u001b[0m     plot_data, variables \u001b[39m=\u001b[39m \u001b[39mself\u001b[39;49m\u001b[39m.\u001b[39;49m_assign_variables_longform(\n\u001b[1;32m    702\u001b[0m         data, \u001b[39m*\u001b[39;49m\u001b[39m*\u001b[39;49mvariables,\n\u001b[1;32m    703\u001b[0m     )\n\u001b[1;32m    705\u001b[0m \u001b[39mself\u001b[39m\u001b[39m.\u001b[39mplot_data \u001b[39m=\u001b[39m plot_data\n\u001b[1;32m    706\u001b[0m \u001b[39mself\u001b[39m\u001b[39m.\u001b[39mvariables \u001b[39m=\u001b[39m variables\n",
      "File \u001b[0;32m~/github/VT2_airspace_complexity/.venv/lib/python3.11/site-packages/seaborn/_oldcore.py:938\u001b[0m, in \u001b[0;36mVectorPlotter._assign_variables_longform\u001b[0;34m(self, data, **kwargs)\u001b[0m\n\u001b[1;32m    933\u001b[0m \u001b[39melif\u001b[39;00m \u001b[39misinstance\u001b[39m(val, (\u001b[39mstr\u001b[39m, \u001b[39mbytes\u001b[39m)):\n\u001b[1;32m    934\u001b[0m \n\u001b[1;32m    935\u001b[0m     \u001b[39m# This looks like a column name but we don't know what it means!\u001b[39;00m\n\u001b[1;32m    937\u001b[0m     err \u001b[39m=\u001b[39m \u001b[39mf\u001b[39m\u001b[39m\"\u001b[39m\u001b[39mCould not interpret value `\u001b[39m\u001b[39m{\u001b[39;00mval\u001b[39m}\u001b[39;00m\u001b[39m` for parameter `\u001b[39m\u001b[39m{\u001b[39;00mkey\u001b[39m}\u001b[39;00m\u001b[39m`\u001b[39m\u001b[39m\"\u001b[39m\n\u001b[0;32m--> 938\u001b[0m     \u001b[39mraise\u001b[39;00m \u001b[39mValueError\u001b[39;00m(err)\n\u001b[1;32m    940\u001b[0m \u001b[39melse\u001b[39;00m:\n\u001b[1;32m    941\u001b[0m \n\u001b[1;32m    942\u001b[0m     \u001b[39m# Otherwise, assume the value is itself data\u001b[39;00m\n\u001b[1;32m    943\u001b[0m \n\u001b[1;32m    944\u001b[0m     \u001b[39m# Raise when data object is present and a vector can't matched\u001b[39;00m\n\u001b[1;32m    945\u001b[0m     \u001b[39mif\u001b[39;00m \u001b[39misinstance\u001b[39m(data, pd\u001b[39m.\u001b[39mDataFrame) \u001b[39mand\u001b[39;00m \u001b[39mnot\u001b[39;00m \u001b[39misinstance\u001b[39m(val, pd\u001b[39m.\u001b[39mSeries):\n",
      "\u001b[0;31mValueError\u001b[0m: Could not interpret value `stay_s` for parameter `x`"
     ]
    },
    {
     "data": {
      "image/png": "[encoded data removed]",
      "text/plain": [
       "<Figure size 1000x500 with 1 Axes>"
      ]
     },
     "metadata": {},
     "output_type": "display_data"
    }
   ],
   "source": [
    "import seaborn as sns\n",
    "fig, ax = plt.subplots(figsize=(10,5))\n",
    "sns.histplot(data=hourly_df, x='stay_s', ax=ax, bins=100)\n",
    "ax.set_xlabel('Stay time [s]')\n",
    "ax.set_ylabel('Number of flights')"
   ]
  },
  {
   "cell_type": "code",
   "execution_count": null,
   "metadata": {},
   "outputs": [],
   "source": [
    "hourly_df['year'] = hourly_df.index.year\n",
    "hourly_df = hourly_df[hourly_df['year'] == 2019]\n",
    "hourly_df.reset_index(inplace=True)\n",
    "hourly_df"
   ]
  },
  {
   "cell_type": "code",
   "execution_count": null,
   "metadata": {},
   "outputs": [],
   "source": [
    "hourly_df['weekday'] = hourly_df['timestamp_entered_h'].dt.day_name()\n",
    "# get average stay_s per weekday starting with Monday and plot\n",
    "fig, ax = plt.subplots(figsize=(10,5))\n",
    "sns.barplot(data=hourly_df, x='weekday', y='stay_s', ax=ax, order=['Monday', 'Tuesday', 'Wednesday', 'Thursday', 'Friday', 'Saturday', 'Sunday'])\n",
    "ax.set_xlabel('Weekday')\n",
    "ax.set_ylabel('Average stay time [s]')\n",
    "ax.set_title('Average stay time per weekday')"
   ]
  },
  {
   "cell_type": "code",
   "execution_count": null,
   "metadata": {},
   "outputs": [],
   "source": [
    "# multiple boxplot showing the distribution of stay_s per weekday, dont show outliers\n",
    "ax = sns.boxplot(x=\"weekday\", y=\"stay_s\", data=hourly_df, showfliers=False)"
   ]
  },
  {
   "cell_type": "code",
   "execution_count": null,
   "metadata": {},
   "outputs": [],
   "source": [
    "hourly_df['hour'] = hourly_df['timestamp_entered_h'].dt.hour\n",
    "hourly_df.groupby('hour')['stay_s'].mean().plot()"
   ]
  },
  {
   "cell_type": "code",
   "execution_count": null,
   "metadata": {},
   "outputs": [],
   "source": [
    "hourly_df['day'] = hourly_df['timestamp_entered_h'].dt.day\n",
    "hourly_df.groupby('day')['stay_s'].median().plot()"
   ]
  },
  {
   "cell_type": "code",
   "execution_count": null,
   "metadata": {},
   "outputs": [],
   "source": [
    "from prophet import Prophet\n",
    "\n",
    "# create dataframe with timestamp and count\n",
    "df = pd.DataFrame(hourly_df['stay_s'])\n",
    "df = df.reset_index()\n",
    "df = df.rename({'timestamp_entered_h': 'ds', 'stay_s': 'y'}, axis=1)\n",
    "# remove timezone, set to utc\n",
    "df['ds'] = df['ds'].dt.tz_localize(None)\n",
    "\n",
    "m = Prophet()\n",
    "m.add_country_holidays(country_name='CH')\n",
    "m.fit(df)\n",
    "future = m.make_future_dataframe(periods=365)\n",
    "forecast = m.predict(future)\n",
    "fig1 = m.plot(forecast)\n",
    "fig2 = m.plot_components(forecast)\n"
   ]
  },
  {
   "cell_type": "code",
   "execution_count": null,
   "metadata": {},
   "outputs": [],
   "source": [
    "fig2 = m.plot_components(forecast)"
   ]
  },
  {
   "cell_type": "code",
   "execution_count": null,
   "metadata": {},
   "outputs": [],
   "source": [
    "m.add_country_holidays(country_name='CH')"
   ]
  },
  {
   "attachments": {},
   "cell_type": "markdown",
   "metadata": {},
   "source": [
    "### Visualisation of data grouped by hour, day, week and month"
   ]
  },
  {
   "cell_type": "code",
   "execution_count": null,
   "metadata": {},
   "outputs": [],
   "source": [
    "# Hour\n",
    "hourly_group = hourly_df.groupby(pd.Grouper(freq='h')).sum()\n",
    "hourly_group = hourly_group/hourly_group.quantile(0.99)\n",
    "hourly_group.plot()\n",
    "\n",
    "# Day\n",
    "daily_group = hourly_df.groupby(pd.Grouper(freq='D')).sum()\n",
    "daily_group = daily_group/daily_group.quantile(0.99)\n",
    "daily_group.plot()\n",
    "dayer = daily_group.groupby(daily_group.index.dayofweek).stay_s.mean()\n",
    "\n",
    "# Week\n",
    "daily_group = hourly_df.groupby(pd.Grouper(freq='w')).sum()\n",
    "daily_group = daily_group/daily_group.quantile(0.99)\n",
    "daily_group.plot()\n",
    "\n",
    "# Month\n",
    "daily_group = hourly_df.groupby(pd.Grouper(freq='m')).sum()\n",
    "daily_group = daily_group/daily_group.quantile(0.99)\n",
    "daily_group.plot()\n"
   ]
  },
  {
   "attachments": {},
   "cell_type": "markdown",
   "metadata": {},
   "source": [
    "### Plot of \"Traffic-seconds\" per hour on a timeline"
   ]
  },
  {
   "cell_type": "code",
   "execution_count": null,
   "metadata": {},
   "outputs": [],
   "source": [
    "# Group by hour\n",
    "# hourly_group = hourly_df.groupby(pd.Grouper(freq='h')).sum()\n",
    "\n",
    "# Plot traffic seconds per hour on a timeline\n",
    "f, ax = plt.subplots(figsize=(20, 10))\n",
    "sns.despine(f, left=True, bottom=True)\n",
    "sns.scatterplot(x=\"timestamp_entered_h\", y=\"stay_s\", data=hourly_df, ax=ax)\n",
    "\n",
    "# draw 99th percentile\n",
    "ax.axhline(y=hourly_df.quantile(0.99).stay_s, color='r', linestyle='--')\n",
    "trans = transforms.blended_transform_factory(ax.get_yticklabels()[0].get_transform(), ax.transData)\n",
    "ax.text(0, hourly_df.quantile(0.99).stay_s, ('99th percentile'),\n",
    "        color=\"red\", transform=trans, ha=\"right\", va=\"center\")\n",
    "\n",
    "# proper axes and labels\n",
    "ax.set_ylabel('Traffic seconds')\n",
    "ax.set_xlabel('Timeline')\n",
    "ax.set_title('Hourly observed traffic seconds')\n",
    "ax.set_ylim(0, hourly_df.quantile(0.99).stay_s*1.5)\n"
   ]
  },
  {
   "attachments": {},
   "cell_type": "markdown",
   "metadata": {},
   "source": [
    "### Define max hourly traffic and express every hour as a fraction of the max"
   ]
  },
  {
   "cell_type": "code",
   "execution_count": null,
   "metadata": {},
   "outputs": [],
   "source": [
    "import seaborn as sns\n",
    "import matplotlib.pyplot as plt\n",
    "\n",
    "# Express traffic seconds as a fraction of the 99th percentile\n",
    "# hourly_group = hourly_df.groupby(pd.Grouper(freq='h')).sum()\n",
    "hourly_df = hourly_df/hourly_df.quantile(0.99)\n",
    "\n",
    "# Add a column to the dataframe that indicates whether the hour is low traffic\n",
    "# (< 20% of 99th percentile)\n",
    "hourly_df['low'] = hourly_df['stay_s'].apply(lambda x: 'yes' if x < 0.2 and x >= 0 else 'no')\n",
    "\n",
    "# Plot traffic seconds per hour on a timeline, color by low traffic\n",
    "f, ax = plt.subplots(figsize=(20, 10))\n",
    "sns.despine(f, left=True, bottom=True)\n",
    "sns.scatterplot(x=\"timestamp_entered_h\", y=\"stay_s\",\n",
    "                hue=\"low\", \n",
    "                data=hourly_df, ax=ax)\n",
    "# Draw a line for the reference and the threshold\n",
    "ax.axhline(y=0.2, color='black', linestyle='--', linewidth=1)\n",
    "ax.axhline(y=1, color='r', linestyle='--')\n",
    "trans = transforms.blended_transform_factory(ax.get_yticklabels()[0].get_transform(), ax.transData)\n",
    "ax.text(0, 1, '1.00',\n",
    "        color=\"red\", transform=trans, ha=\"right\", va=\"center\")\n",
    "ax.text(0.045, 0.22, ('Threshold'),\n",
    "        color=\"black\", transform=trans, ha=\"right\", va=\"center\")\n",
    "\n",
    "# Make it look nice\n",
    "ax.set_ylabel('Fraction of \"max\" hourly traffic')\n",
    "ax.legend(title='Low-traffic hour')\n",
    "ax.set_yticks([0, 0.2, 2, 3, 4])\n",
    "ax.set_title('Hourly traffic density')\n",
    "ax.set_ylim(-0.01, hourly_df.quantile(0.99).stay_s*1.5)\n"
   ]
  },
  {
   "attachments": {},
   "cell_type": "markdown",
   "metadata": {},
   "source": [
    "### Plot distribution of low traffic hours over the day"
   ]
  },
  {
   "attachments": {},
   "cell_type": "markdown",
   "metadata": {},
   "source": [
    "##### With empty hours"
   ]
  },
  {
   "cell_type": "code",
   "execution_count": null,
   "metadata": {},
   "outputs": [],
   "source": [
    "# Extract hours that are low traffic, transform to hour of the day\n",
    "hourly_group = hourly_df.groupby(pd.Grouper(freq='h')).sum() # to add empty hours\n",
    "hourly_group = hourly_group[hourly_group.stay_s < 0.2]\n",
    "hours_low = hourly_group.index.hour\n",
    "hours_low += 1\n",
    "# plot histogram\n",
    "f, ax = plt.subplots(figsize=(20, 10))\n",
    "sns.despine(f, left=True, bottom=True)\n",
    "sns.histplot(hours_low, ax=ax, bins=23, discrete=True)\n",
    "ax.set_title('Distribution of low-traffic hours')\n",
    "ax.set_xlabel('Hour of the day')\n",
    "ax.set_ylabel('Count')\n",
    "ax.set_xticks(range(1,25))\n"
   ]
  },
  {
   "attachments": {},
   "cell_type": "markdown",
   "metadata": {},
   "source": [
    "##### Without empty hours"
   ]
  },
  {
   "cell_type": "code",
   "execution_count": null,
   "metadata": {},
   "outputs": [],
   "source": [
    "# Extract hours that are low traffic, transform to hour of the day\n",
    "hours_low = hourly_df[hourly_df.low == 'yes'].index.hour\n",
    "hours_low += 1\n",
    "# plot histogram\n",
    "f, ax = plt.subplots(figsize=(20, 10))\n",
    "sns.despine(f, left=True, bottom=True)\n",
    "sns.histplot(hours_low, ax=ax, bins=23, discrete=True)\n",
    "ax.set_title('Distribution of low-traffic hours')\n",
    "ax.set_xlabel('Hour of the day')\n",
    "ax.set_ylabel('Count')\n",
    "ax.set_xticks(range(1,25))\n"
   ]
  },
  {
   "cell_type": "code",
   "execution_count": null,
   "metadata": {},
   "outputs": [],
   "source": [
    "low_hours = hourly_df[hourly_df.low == 'yes'].index\n",
    "ids_use = df[df.timestamp_entered_h.isin(low_hours)].flight_id.to_numpy()\n",
    "trajs_filt = trajs_filt[ids_use]\n",
    "trajs_filt"
   ]
  },
  {
   "cell_type": "code",
   "execution_count": null,
   "metadata": {},
   "outputs": [],
   "source": [
    "trajs_func = fn.get_lowtraf_trajs(trajs)\n",
    "trajs_func\n"
   ]
  }
 ],
 "metadata": {
  "kernelspec": {
   "display_name": "vt1_env",
   "language": "python",
   "name": "python3"
  },
  "language_info": {
   "codemirror_mode": {
    "name": "ipython",
    "version": 3
   },
   "file_extension": ".py",
   "mimetype": "text/x-python",
   "name": "python",
   "nbconvert_exporter": "python",
   "pygments_lexer": "ipython3",
   "version": "3.11.0"
  },
  "orig_nbformat": 4
 },
 "nbformat": 4,
 "nbformat_minor": 2
}
