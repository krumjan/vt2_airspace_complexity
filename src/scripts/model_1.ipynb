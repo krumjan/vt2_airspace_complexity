{
 "cells": [
  {
   "cell_type": "code",
   "execution_count": 13,
   "metadata": {},
   "outputs": [],
   "source": [
    "from traffic.core import Traffic\n",
    "from tqdm.auto import tqdm\n",
    "import numpy as np\n",
    "import os"
   ]
  },
  {
   "cell_type": "code",
   "execution_count": 2,
   "metadata": {},
   "outputs": [],
   "source": [
    "trajs = Traffic.from_file('data/rectangle_1//combined/combined.parquet')"
   ]
  },
  {
   "cell_type": "code",
   "execution_count": 3,
   "metadata": {},
   "outputs": [],
   "source": [
    "trajs = trajs.resample(100).eval(max_workers=20)"
   ]
  },
  {
   "cell_type": "code",
   "execution_count": 4,
   "metadata": {},
   "outputs": [
    {
     "data": {
      "application/vnd.jupyter.widget-view+json": {
       "model_id": "12d65fab5c6c45529082187304a1b2e0",
       "version_major": 2,
       "version_minor": 0
      },
      "text/plain": [
       "  0%|          | 0/64023 [00:00<?, ?it/s]"
      ]
     },
     "metadata": {},
     "output_type": "display_data"
    }
   ],
   "source": [
    "X = []\n",
    "for flight in tqdm(trajs):\n",
    "    df = flight.data[['latitude', 'longitude', 'altitude']]\n",
    "    df = df.interpolate(method='linear', limit_direction='both').ffill().bfill()\n",
    "    df_as_np = df.to_numpy()\n",
    "    X.append(df_as_np)\n",
    "\n",
    "X = np.array(X)"
   ]
  },
  {
   "cell_type": "code",
   "execution_count": 5,
   "metadata": {},
   "outputs": [
    {
     "data": {
      "text/plain": [
       "(64023, 100, 3)"
      ]
     },
     "execution_count": 5,
     "metadata": {},
     "output_type": "execute_result"
    }
   ],
   "source": [
    "X.shape"
   ]
  },
  {
   "cell_type": "code",
   "execution_count": 6,
   "metadata": {},
   "outputs": [
    {
     "data": {
      "text/plain": [
       "(64023, 100, 3)"
      ]
     },
     "execution_count": 6,
     "metadata": {},
     "output_type": "execute_result"
    }
   ],
   "source": [
    "indexList_X_nan = [np.any(i) for i in np.isnan(X)]\n",
    "X = np.delete(X, indexList_X_nan, axis=0)\n",
    "X.shape"
   ]
  },
  {
   "attachments": {},
   "cell_type": "markdown",
   "metadata": {},
   "source": [
    "### Min Max scaling"
   ]
  },
  {
   "cell_type": "code",
   "execution_count": 8,
   "metadata": {},
   "outputs": [],
   "source": [
    "lat_max = np.max(X[:,:,0])\n",
    "lat_min = np.min(X[:,:,0])\n",
    "lon_max = np.max(X[:,:,1])\n",
    "lon_min = np.min(X[:,:,1])\n",
    "alt_max = np.max(X[:,:,2])\n",
    "alt_min = np.min(X[:,:,2])\n",
    "print(lat_max, lat_min, lon_max, lon_min, alt_max, alt_min)\n",
    "\n",
    "X_norm = X.copy() \n",
    "X_norm[:,:,0] = (X_norm[:,:,0] - lat_min) / (lat_max - lat_min)\n",
    "X_norm[:,:,1] = (X_norm[:,:,1] - lon_min) / (lon_max - lon_min)\n",
    "X_norm[:,:,2] = (X_norm[:,:,2] - alt_min) / (alt_max - alt_min)"
   ]
  },
  {
   "cell_type": "code",
   "execution_count": 113,
   "metadata": {},
   "outputs": [
    {
     "data": {
      "image/png": "[encoded data removed]",
      "text/plain": [
       "<Figure size 640x480 with 1 Axes>"
      ]
     },
     "metadata": {},
     "output_type": "display_data"
    }
   ],
   "source": [
    "x=4887\n",
    "\n",
    "lat = X_norm[x,:,0]\n",
    "lon = X_norm[x,:,1]\n",
    "# plot lat/lon\n",
    "import matplotlib.pyplot as plt\n",
    "plt.plot(lon, lat)\n",
    "plt.show()"
   ]
  },
  {
   "cell_type": "code",
   "execution_count": 15,
   "metadata": {},
   "outputs": [],
   "source": [
    "if not os.path.exists('data/rectangle_1/training'):\n",
    "        os.makedirs('data/rectangle_1/training')\n",
    "\n",
    "np.save('data/rectangle_1/training/X_norm', X_norm)\n",
    "with open('data/rectangle_1/training/normalisation.txt', 'w') as f:\n",
    "    f.write(str(lat_max) + ' ' + str(lat_min) + ' ' + str(lon_max) + ' ' + str(lon_min) + ' ' + str(alt_max) + ' ' + str(alt_min))\n",
    "   "
   ]
  },
  {
   "cell_type": "code",
   "execution_count": null,
   "metadata": {},
   "outputs": [],
   "source": []
  },
  {
   "cell_type": "code",
   "execution_count": 16,
   "metadata": {},
   "outputs": [
    {
     "name": "stderr",
     "output_type": "stream",
     "text": [
      "2023-03-16 16:01:57.100987: I tensorflow/core/platform/cpu_feature_guard.cc:193] This TensorFlow binary is optimized with oneAPI Deep Neural Network Library (oneDNN) to use the following CPU instructions in performance-critical operations:  AVX2 AVX512F FMA\n",
      "To enable them in other operations, rebuild TensorFlow with the appropriate compiler flags.\n",
      "2023-03-16 16:01:57.252332: W tensorflow/compiler/xla/stream_executor/platform/default/dso_loader.cc:64] Could not load dynamic library 'libcudart.so.11.0'; dlerror: libcudart.so.11.0: cannot open shared object file: No such file or directory\n",
      "2023-03-16 16:01:57.252356: I tensorflow/compiler/xla/stream_executor/cuda/cudart_stub.cc:29] Ignore above cudart dlerror if you do not have a GPU set up on your machine.\n",
      "2023-03-16 16:01:57.840015: W tensorflow/compiler/xla/stream_executor/platform/default/dso_loader.cc:64] Could not load dynamic library 'libnvinfer.so.7'; dlerror: libnvinfer.so.7: cannot open shared object file: No such file or directory\n",
      "2023-03-16 16:01:57.840085: W tensorflow/compiler/xla/stream_executor/platform/default/dso_loader.cc:64] Could not load dynamic library 'libnvinfer_plugin.so.7'; dlerror: libnvinfer_plugin.so.7: cannot open shared object file: No such file or directory\n",
      "2023-03-16 16:01:57.840091: W tensorflow/compiler/tf2tensorrt/utils/py_utils.cc:38] TF-TRT Warning: Cannot dlopen some TensorRT libraries. If you would like to use Nvidia GPU with TensorRT, please make sure the missing libraries mentioned above are installed properly.\n"
     ]
    }
   ],
   "source": [
    "import numpy as np\n",
    "import tensorflow as tf\n",
    "from tensorflow import keras\n",
    "from tensorflow.keras import layers"
   ]
  },
  {
   "cell_type": "code",
   "execution_count": 55,
   "metadata": {},
   "outputs": [],
   "source": [
    "class Sampling(layers.Layer):\n",
    "    \"\"\"Uses (z_mean, z_log_var) to sample z, the vector encoding a digit.\"\"\"\n",
    "\n",
    "    def call(self, inputs):\n",
    "        z_mean, z_log_var = inputs\n",
    "        batch = tf.shape(z_mean)[0]\n",
    "        dim = tf.shape(z_mean)[1]\n",
    "        epsilon = tf.keras.backend.random_normal(shape=(batch, dim))\n",
    "        return z_mean + tf.exp(0.5 * z_log_var) * epsilon"
   ]
  },
  {
   "cell_type": "code",
   "execution_count": 56,
   "metadata": {},
   "outputs": [
    {
     "name": "stdout",
     "output_type": "stream",
     "text": [
      "Model: \"encoder\"\n",
      "__________________________________________________________________________________________________\n",
      " Layer (type)                   Output Shape         Param #     Connected to                     \n",
      "==================================================================================================\n",
      " input_21 (InputLayer)          [(None, 100, 3)]     0           []                               \n",
      "                                                                                                  \n",
      " conv1d_4 (Conv1D)              (None, 50, 32)       320         ['input_21[0][0]']               \n",
      "                                                                                                  \n",
      " conv1d_5 (Conv1D)              (None, 25, 64)       6208        ['conv1d_4[0][0]']               \n",
      "                                                                                                  \n",
      " flatten_7 (Flatten)            (None, 1600)         0           ['conv1d_5[0][0]']               \n",
      "                                                                                                  \n",
      " dense_21 (Dense)               (None, 16)           25616       ['flatten_7[0][0]']              \n",
      "                                                                                                  \n",
      " z_mean (Dense)                 (None, 64)           1088        ['dense_21[0][0]']               \n",
      "                                                                                                  \n",
      " z_log_var (Dense)              (None, 64)           1088        ['dense_21[0][0]']               \n",
      "                                                                                                  \n",
      " sampling_6 (Sampling)          (None, 64)           0           ['z_mean[0][0]',                 \n",
      "                                                                  'z_log_var[0][0]']              \n",
      "                                                                                                  \n",
      "==================================================================================================\n",
      "Total params: 34,320\n",
      "Trainable params: 34,320\n",
      "Non-trainable params: 0\n",
      "__________________________________________________________________________________________________\n"
     ]
    }
   ],
   "source": [
    "latent_dim = 64\n",
    "\n",
    "encoder_inputs = keras.Input(shape=(100, 3))\n",
    "x = layers.Conv1D(32, 3, activation=\"relu\", strides=2, padding=\"same\")(encoder_inputs)\n",
    "x = layers.Conv1D(64, 3, activation=\"relu\", strides=2, padding=\"same\")(x)\n",
    "x = layers.Flatten()(x)\n",
    "x = layers.Dense(16, activation=\"relu\")(x)\n",
    "z_mean = layers.Dense(latent_dim, name=\"z_mean\")(x)\n",
    "z_log_var = layers.Dense(latent_dim, name=\"z_log_var\")(x)\n",
    "z = Sampling()([z_mean, z_log_var])\n",
    "encoder = keras.Model(encoder_inputs, [z_mean, z_log_var, z], name=\"encoder\")\n",
    "encoder.summary()"
   ]
  },
  {
   "cell_type": "code",
   "execution_count": 57,
   "metadata": {},
   "outputs": [
    {
     "name": "stdout",
     "output_type": "stream",
     "text": [
      "Model: \"decoder\"\n",
      "_________________________________________________________________\n",
      " Layer (type)                Output Shape              Param #   \n",
      "=================================================================\n",
      " input_22 (InputLayer)       [(None, 64)]              0         \n",
      "                                                                 \n",
      " dense_22 (Dense)            (None, 1600)              104000    \n",
      "                                                                 \n",
      " reshape_15 (Reshape)        (None, 25, 64)            0         \n",
      "                                                                 \n",
      " conv1d_transpose_18 (Conv1D  (None, 50, 64)           12352     \n",
      " Transpose)                                                      \n",
      "                                                                 \n",
      " conv1d_transpose_19 (Conv1D  (None, 100, 32)          6176      \n",
      " Transpose)                                                      \n",
      "                                                                 \n",
      " conv1d_transpose_20 (Conv1D  (None, 100, 3)           291       \n",
      " Transpose)                                                      \n",
      "                                                                 \n",
      "=================================================================\n",
      "Total params: 122,819\n",
      "Trainable params: 122,819\n",
      "Non-trainable params: 0\n",
      "_________________________________________________________________\n"
     ]
    }
   ],
   "source": [
    "latent_inputs = keras.Input(shape=(latent_dim,))\n",
    "x = layers.Dense(25*64, activation=\"relu\")(latent_inputs) # 25 = 100/4 (due to strides=2 in encoder)\n",
    "x = layers.Reshape((25, 64))(x)\n",
    "x = layers.Conv1DTranspose(64, 3, activation=\"relu\", strides=2, padding=\"same\")(x)\n",
    "x = layers.Conv1DTranspose(32, 3, activation=\"relu\", strides=2, padding=\"same\")(x)\n",
    "decoder_outputs = layers.Conv1DTranspose(3, 3, activation=\"sigmoid\", padding=\"same\")(x)\n",
    "decoder = keras.Model(latent_inputs, decoder_outputs, name=\"decoder\")\n",
    "decoder.summary()"
   ]
  },
  {
   "cell_type": "code",
   "execution_count": 58,
   "metadata": {},
   "outputs": [],
   "source": [
    "class VAE(keras.Model):\n",
    "    def __init__(self, encoder, decoder, **kwargs):\n",
    "        super().__init__(**kwargs)\n",
    "        self.encoder = encoder\n",
    "        self.decoder = decoder\n",
    "        self.total_loss_tracker = keras.metrics.Mean(name=\"total_loss\")\n",
    "        self.reconstruction_loss_tracker = keras.metrics.Mean(\n",
    "            name=\"reconstruction_loss\"\n",
    "        )\n",
    "        self.kl_loss_tracker = keras.metrics.Mean(name=\"kl_loss\")\n",
    "\n",
    "    @property\n",
    "    def metrics(self):\n",
    "        return [\n",
    "            self.total_loss_tracker,\n",
    "            self.reconstruction_loss_tracker,\n",
    "            self.kl_loss_tracker,\n",
    "        ]\n",
    "\n",
    "    def train_step(self, data):\n",
    "        with tf.GradientTape() as tape:\n",
    "            z_mean, z_log_var, z = self.encoder(data)\n",
    "            reconstruction = self.decoder(z)\n",
    "            reconstruction_loss = tf.reduce_mean(\n",
    "                tf.reduce_sum(\n",
    "                    keras.losses.binary_crossentropy(data, reconstruction), axis=-1\n",
    "                )\n",
    "            )\n",
    "            kl_loss = -0.5 * (1 + z_log_var - tf.square(z_mean) - tf.exp(z_log_var))\n",
    "            kl_loss = tf.reduce_mean(tf.reduce_sum(kl_loss, axis=1))\n",
    "            total_loss = reconstruction_loss + kl_loss\n",
    "        grads = tape.gradient(total_loss, self.trainable_weights)\n",
    "        self.optimizer.apply_gradients(zip(grads, self.trainable_weights))\n",
    "        self.total_loss_tracker.update_state(total_loss)\n",
    "        self.reconstruction_loss_tracker.update_state(reconstruction_loss)\n",
    "        self.kl_loss_tracker.update_state(kl_loss)\n",
    "        return {\n",
    "            \"loss\": self.total_loss_tracker.result(),\n",
    "            \"reconstruction_loss\": self.reconstruction_loss_tracker.result(),\n",
    "            \"kl_loss\": self.kl_loss_tracker.result(),\n",
    "        }"
   ]
  },
  {
   "cell_type": "code",
   "execution_count": 78,
   "metadata": {},
   "outputs": [
    {
     "name": "stdout",
     "output_type": "stream",
     "text": [
      "Epoch 1/100\n",
      "501/501 [==============================] - 8s 14ms/step - loss: 62.7944 - reconstruction_loss: 62.8461 - kl_loss: 6.8316e-05\n",
      "Epoch 2/100\n",
      "501/501 [==============================] - 7s 13ms/step - loss: 62.8114 - reconstruction_loss: 62.8464 - kl_loss: 5.6794e-05\n",
      "Epoch 3/100\n",
      "501/501 [==============================] - 7s 13ms/step - loss: 62.8860 - reconstruction_loss: 62.8489 - kl_loss: 5.9344e-05\n",
      "Epoch 4/100\n",
      "501/501 [==============================] - 7s 13ms/step - loss: 62.9358 - reconstruction_loss: 62.8375 - kl_loss: 4.8553e-05\n",
      "Epoch 5/100\n",
      "501/501 [==============================] - 7s 13ms/step - loss: 62.8075 - reconstruction_loss: 62.8447 - kl_loss: 4.0580e-05\n",
      "Epoch 6/100\n",
      "501/501 [==============================] - 7s 13ms/step - loss: 62.8431 - reconstruction_loss: 62.8390 - kl_loss: 3.4080e-05\n",
      "Epoch 7/100\n",
      "501/501 [==============================] - 7s 13ms/step - loss: 62.9125 - reconstruction_loss: 62.8412 - kl_loss: 4.6996e-05\n",
      "Epoch 8/100\n",
      "501/501 [==============================] - 7s 13ms/step - loss: 62.8886 - reconstruction_loss: 62.8489 - kl_loss: 4.0442e-05\n",
      "Epoch 9/100\n",
      "501/501 [==============================] - 7s 13ms/step - loss: 62.8220 - reconstruction_loss: 62.8405 - kl_loss: 5.3424e-05\n",
      "Epoch 10/100\n",
      "501/501 [==============================] - 7s 13ms/step - loss: 62.8000 - reconstruction_loss: 62.8426 - kl_loss: 3.3478e-05\n",
      "Epoch 11/100\n",
      "501/501 [==============================] - 7s 13ms/step - loss: 62.8390 - reconstruction_loss: 62.8356 - kl_loss: 3.2780e-05\n",
      "Epoch 12/100\n",
      "501/501 [==============================] - 7s 13ms/step - loss: 62.8014 - reconstruction_loss: 62.8439 - kl_loss: 4.0721e-05\n",
      "Epoch 13/100\n",
      "501/501 [==============================] - 7s 13ms/step - loss: 62.8994 - reconstruction_loss: 62.8443 - kl_loss: 4.8479e-05\n",
      "Epoch 14/100\n",
      "501/501 [==============================] - 7s 13ms/step - loss: 62.8246 - reconstruction_loss: 62.8390 - kl_loss: 3.5211e-05\n",
      "Epoch 15/100\n",
      "501/501 [==============================] - 7s 13ms/step - loss: 62.7917 - reconstruction_loss: 62.8390 - kl_loss: 2.7948e-05\n",
      "Epoch 16/100\n",
      "501/501 [==============================] - 7s 13ms/step - loss: 62.8509 - reconstruction_loss: 62.8420 - kl_loss: 3.0187e-05\n",
      "Epoch 17/100\n",
      "501/501 [==============================] - 7s 13ms/step - loss: 62.7776 - reconstruction_loss: 62.8482 - kl_loss: 2.4974e-05\n",
      "Epoch 18/100\n",
      "501/501 [==============================] - 7s 13ms/step - loss: 62.7858 - reconstruction_loss: 62.8413 - kl_loss: 3.3638e-05\n",
      "Epoch 19/100\n",
      "501/501 [==============================] - 7s 13ms/step - loss: 62.8416 - reconstruction_loss: 62.8405 - kl_loss: 2.8825e-05\n",
      "Epoch 20/100\n",
      "501/501 [==============================] - 7s 13ms/step - loss: 62.8666 - reconstruction_loss: 62.8419 - kl_loss: 2.9143e-05\n",
      "Epoch 21/100\n",
      "501/501 [==============================] - 7s 13ms/step - loss: 62.9376 - reconstruction_loss: 62.8402 - kl_loss: 2.6850e-05\n",
      "Epoch 22/100\n",
      "501/501 [==============================] - 7s 13ms/step - loss: 62.8374 - reconstruction_loss: 62.8350 - kl_loss: 2.5134e-05\n",
      "Epoch 23/100\n",
      "501/501 [==============================] - 7s 13ms/step - loss: 62.8838 - reconstruction_loss: 62.8544 - kl_loss: 2.7743e-05\n",
      "Epoch 24/100\n",
      "501/501 [==============================] - 6s 13ms/step - loss: 62.8524 - reconstruction_loss: 62.8457 - kl_loss: 2.1952e-05\n",
      "Epoch 25/100\n",
      "501/501 [==============================] - 6s 13ms/step - loss: 62.7999 - reconstruction_loss: 62.8521 - kl_loss: 2.6995e-05\n",
      "Epoch 26/100\n",
      "501/501 [==============================] - 6s 13ms/step - loss: 62.7498 - reconstruction_loss: 62.8404 - kl_loss: 2.4769e-05\n",
      "Epoch 27/100\n",
      "501/501 [==============================] - 6s 13ms/step - loss: 62.8233 - reconstruction_loss: 62.8431 - kl_loss: 2.7459e-05\n",
      "Epoch 28/100\n",
      "501/501 [==============================] - 6s 13ms/step - loss: 62.9638 - reconstruction_loss: 62.8494 - kl_loss: 2.3508e-05\n",
      "Epoch 29/100\n",
      "501/501 [==============================] - 6s 13ms/step - loss: 62.8677 - reconstruction_loss: 62.8389 - kl_loss: 2.1676e-05\n",
      "Epoch 30/100\n",
      "250/501 [=============>................] - ETA: 3s - loss: 62.9917 - reconstruction_loss: 62.8535 - kl_loss: 2.1400e-05"
     ]
    },
    {
     "ename": "KeyboardInterrupt",
     "evalue": "",
     "output_type": "error",
     "traceback": [
      "\u001b[0;31m---------------------------------------------------------------------------\u001b[0m",
      "\u001b[0;31mKeyboardInterrupt\u001b[0m                         Traceback (most recent call last)",
      "Cell \u001b[0;32mIn[78], line 7\u001b[0m\n\u001b[1;32m      5\u001b[0m vae \u001b[39m=\u001b[39m VAE(encoder, decoder)\n\u001b[1;32m      6\u001b[0m vae\u001b[39m.\u001b[39mcompile(optimizer\u001b[39m=\u001b[39mkeras\u001b[39m.\u001b[39moptimizers\u001b[39m.\u001b[39mAdam())\n\u001b[0;32m----> 7\u001b[0m vae\u001b[39m.\u001b[39;49mfit(X_norm, epochs\u001b[39m=\u001b[39;49m\u001b[39m100\u001b[39;49m, batch_size\u001b[39m=\u001b[39;49m\u001b[39m128\u001b[39;49m)\n",
      "File \u001b[0;32m~/github/VT2_airspace_complexity/.venv/lib/python3.9/site-packages/keras/utils/traceback_utils.py:65\u001b[0m, in \u001b[0;36mfilter_traceback.<locals>.error_handler\u001b[0;34m(*args, **kwargs)\u001b[0m\n\u001b[1;32m     63\u001b[0m filtered_tb \u001b[39m=\u001b[39m \u001b[39mNone\u001b[39;00m\n\u001b[1;32m     64\u001b[0m \u001b[39mtry\u001b[39;00m:\n\u001b[0;32m---> 65\u001b[0m     \u001b[39mreturn\u001b[39;00m fn(\u001b[39m*\u001b[39;49margs, \u001b[39m*\u001b[39;49m\u001b[39m*\u001b[39;49mkwargs)\n\u001b[1;32m     66\u001b[0m \u001b[39mexcept\u001b[39;00m \u001b[39mException\u001b[39;00m \u001b[39mas\u001b[39;00m e:\n\u001b[1;32m     67\u001b[0m     filtered_tb \u001b[39m=\u001b[39m _process_traceback_frames(e\u001b[39m.\u001b[39m__traceback__)\n",
      "File \u001b[0;32m~/github/VT2_airspace_complexity/.venv/lib/python3.9/site-packages/keras/engine/training.py:1650\u001b[0m, in \u001b[0;36mModel.fit\u001b[0;34m(self, x, y, batch_size, epochs, verbose, callbacks, validation_split, validation_data, shuffle, class_weight, sample_weight, initial_epoch, steps_per_epoch, validation_steps, validation_batch_size, validation_freq, max_queue_size, workers, use_multiprocessing)\u001b[0m\n\u001b[1;32m   1642\u001b[0m \u001b[39mwith\u001b[39;00m tf\u001b[39m.\u001b[39mprofiler\u001b[39m.\u001b[39mexperimental\u001b[39m.\u001b[39mTrace(\n\u001b[1;32m   1643\u001b[0m     \u001b[39m\"\u001b[39m\u001b[39mtrain\u001b[39m\u001b[39m\"\u001b[39m,\n\u001b[1;32m   1644\u001b[0m     epoch_num\u001b[39m=\u001b[39mepoch,\n\u001b[0;32m   (...)\u001b[0m\n\u001b[1;32m   1647\u001b[0m     _r\u001b[39m=\u001b[39m\u001b[39m1\u001b[39m,\n\u001b[1;32m   1648\u001b[0m ):\n\u001b[1;32m   1649\u001b[0m     callbacks\u001b[39m.\u001b[39mon_train_batch_begin(step)\n\u001b[0;32m-> 1650\u001b[0m     tmp_logs \u001b[39m=\u001b[39m \u001b[39mself\u001b[39;49m\u001b[39m.\u001b[39;49mtrain_function(iterator)\n\u001b[1;32m   1651\u001b[0m     \u001b[39mif\u001b[39;00m data_handler\u001b[39m.\u001b[39mshould_sync:\n\u001b[1;32m   1652\u001b[0m         context\u001b[39m.\u001b[39masync_wait()\n",
      "File \u001b[0;32m~/github/VT2_airspace_complexity/.venv/lib/python3.9/site-packages/tensorflow/python/util/traceback_utils.py:150\u001b[0m, in \u001b[0;36mfilter_traceback.<locals>.error_handler\u001b[0;34m(*args, **kwargs)\u001b[0m\n\u001b[1;32m    148\u001b[0m filtered_tb \u001b[39m=\u001b[39m \u001b[39mNone\u001b[39;00m\n\u001b[1;32m    149\u001b[0m \u001b[39mtry\u001b[39;00m:\n\u001b[0;32m--> 150\u001b[0m   \u001b[39mreturn\u001b[39;00m fn(\u001b[39m*\u001b[39;49margs, \u001b[39m*\u001b[39;49m\u001b[39m*\u001b[39;49mkwargs)\n\u001b[1;32m    151\u001b[0m \u001b[39mexcept\u001b[39;00m \u001b[39mException\u001b[39;00m \u001b[39mas\u001b[39;00m e:\n\u001b[1;32m    152\u001b[0m   filtered_tb \u001b[39m=\u001b[39m _process_traceback_frames(e\u001b[39m.\u001b[39m__traceback__)\n",
      "File \u001b[0;32m~/github/VT2_airspace_complexity/.venv/lib/python3.9/site-packages/tensorflow/python/eager/polymorphic_function/polymorphic_function.py:880\u001b[0m, in \u001b[0;36mFunction.__call__\u001b[0;34m(self, *args, **kwds)\u001b[0m\n\u001b[1;32m    877\u001b[0m compiler \u001b[39m=\u001b[39m \u001b[39m\"\u001b[39m\u001b[39mxla\u001b[39m\u001b[39m\"\u001b[39m \u001b[39mif\u001b[39;00m \u001b[39mself\u001b[39m\u001b[39m.\u001b[39m_jit_compile \u001b[39melse\u001b[39;00m \u001b[39m\"\u001b[39m\u001b[39mnonXla\u001b[39m\u001b[39m\"\u001b[39m\n\u001b[1;32m    879\u001b[0m \u001b[39mwith\u001b[39;00m OptionalXlaContext(\u001b[39mself\u001b[39m\u001b[39m.\u001b[39m_jit_compile):\n\u001b[0;32m--> 880\u001b[0m   result \u001b[39m=\u001b[39m \u001b[39mself\u001b[39;49m\u001b[39m.\u001b[39;49m_call(\u001b[39m*\u001b[39;49margs, \u001b[39m*\u001b[39;49m\u001b[39m*\u001b[39;49mkwds)\n\u001b[1;32m    882\u001b[0m new_tracing_count \u001b[39m=\u001b[39m \u001b[39mself\u001b[39m\u001b[39m.\u001b[39mexperimental_get_tracing_count()\n\u001b[1;32m    883\u001b[0m without_tracing \u001b[39m=\u001b[39m (tracing_count \u001b[39m==\u001b[39m new_tracing_count)\n",
      "File \u001b[0;32m~/github/VT2_airspace_complexity/.venv/lib/python3.9/site-packages/tensorflow/python/eager/polymorphic_function/polymorphic_function.py:912\u001b[0m, in \u001b[0;36mFunction._call\u001b[0;34m(self, *args, **kwds)\u001b[0m\n\u001b[1;32m    909\u001b[0m   \u001b[39mself\u001b[39m\u001b[39m.\u001b[39m_lock\u001b[39m.\u001b[39mrelease()\n\u001b[1;32m    910\u001b[0m   \u001b[39m# In this case we have created variables on the first call, so we run the\u001b[39;00m\n\u001b[1;32m    911\u001b[0m   \u001b[39m# defunned version which is guaranteed to never create variables.\u001b[39;00m\n\u001b[0;32m--> 912\u001b[0m   \u001b[39mreturn\u001b[39;00m \u001b[39mself\u001b[39;49m\u001b[39m.\u001b[39;49m_no_variable_creation_fn(\u001b[39m*\u001b[39;49margs, \u001b[39m*\u001b[39;49m\u001b[39m*\u001b[39;49mkwds)  \u001b[39m# pylint: disable=not-callable\u001b[39;00m\n\u001b[1;32m    913\u001b[0m \u001b[39melif\u001b[39;00m \u001b[39mself\u001b[39m\u001b[39m.\u001b[39m_variable_creation_fn \u001b[39mis\u001b[39;00m \u001b[39mnot\u001b[39;00m \u001b[39mNone\u001b[39;00m:\n\u001b[1;32m    914\u001b[0m   \u001b[39m# Release the lock early so that multiple threads can perform the call\u001b[39;00m\n\u001b[1;32m    915\u001b[0m   \u001b[39m# in parallel.\u001b[39;00m\n\u001b[1;32m    916\u001b[0m   \u001b[39mself\u001b[39m\u001b[39m.\u001b[39m_lock\u001b[39m.\u001b[39mrelease()\n",
      "File \u001b[0;32m~/github/VT2_airspace_complexity/.venv/lib/python3.9/site-packages/tensorflow/python/eager/polymorphic_function/tracing_compiler.py:133\u001b[0m, in \u001b[0;36mTracingCompiler.__call__\u001b[0;34m(self, *args, **kwargs)\u001b[0m\n\u001b[1;32m    130\u001b[0m \u001b[39m\u001b[39m\u001b[39m\"\"\"Calls a graph function specialized to the inputs.\"\"\"\u001b[39;00m\n\u001b[1;32m    131\u001b[0m \u001b[39mwith\u001b[39;00m \u001b[39mself\u001b[39m\u001b[39m.\u001b[39m_lock:\n\u001b[1;32m    132\u001b[0m   (concrete_function,\n\u001b[0;32m--> 133\u001b[0m    filtered_flat_args) \u001b[39m=\u001b[39m \u001b[39mself\u001b[39;49m\u001b[39m.\u001b[39;49m_maybe_define_function(args, kwargs)\n\u001b[1;32m    134\u001b[0m \u001b[39mreturn\u001b[39;00m concrete_function\u001b[39m.\u001b[39m_call_flat(\n\u001b[1;32m    135\u001b[0m     filtered_flat_args, captured_inputs\u001b[39m=\u001b[39mconcrete_function\u001b[39m.\u001b[39mcaptured_inputs)\n",
      "File \u001b[0;32m~/github/VT2_airspace_complexity/.venv/lib/python3.9/site-packages/tensorflow/python/eager/polymorphic_function/tracing_compiler.py:338\u001b[0m, in \u001b[0;36mTracingCompiler._maybe_define_function\u001b[0;34m(self, args, kwargs)\u001b[0m\n\u001b[1;32m    333\u001b[0m \u001b[39m# cache_key_deletion_observer is useless here. It's based on all captures.\u001b[39;00m\n\u001b[1;32m    334\u001b[0m \u001b[39m# A new cache key will be built later when saving ConcreteFunction because\u001b[39;00m\n\u001b[1;32m    335\u001b[0m \u001b[39m# only active captures should be saved.\u001b[39;00m\n\u001b[1;32m    336\u001b[0m lookup_func_key, _ \u001b[39m=\u001b[39m function_context\u001b[39m.\u001b[39mmake_cache_key((args, kwargs),\n\u001b[1;32m    337\u001b[0m                                                      captures)\n\u001b[0;32m--> 338\u001b[0m concrete_function \u001b[39m=\u001b[39m \u001b[39mself\u001b[39;49m\u001b[39m.\u001b[39;49m_function_cache\u001b[39m.\u001b[39;49mlookup(lookup_func_key, \u001b[39mTrue\u001b[39;49;00m)\n\u001b[1;32m    339\u001b[0m \u001b[39mif\u001b[39;00m concrete_function \u001b[39mis\u001b[39;00m \u001b[39mnot\u001b[39;00m \u001b[39mNone\u001b[39;00m:\n\u001b[1;32m    340\u001b[0m   \u001b[39mreturn\u001b[39;00m concrete_function, filtered_flat_args\n",
      "File \u001b[0;32m~/github/VT2_airspace_complexity/.venv/lib/python3.9/site-packages/tensorflow/core/function/polymorphism/function_cache.py:119\u001b[0m, in \u001b[0;36mFunctionCache.lookup\u001b[0;34m(self, key, use_function_subtyping)\u001b[0m\n\u001b[1;32m    117\u001b[0m dispatch_key \u001b[39m=\u001b[39m \u001b[39mself\u001b[39m\u001b[39m.\u001b[39m_dispatch_table\u001b[39m.\u001b[39mdispatch(key)\n\u001b[1;32m    118\u001b[0m \u001b[39mif\u001b[39;00m dispatch_key \u001b[39mis\u001b[39;00m \u001b[39mnot\u001b[39;00m \u001b[39mNone\u001b[39;00m:\n\u001b[0;32m--> 119\u001b[0m   \u001b[39mreturn\u001b[39;00m \u001b[39mself\u001b[39;49m\u001b[39m.\u001b[39;49m_primary[dispatch_key]\n\u001b[1;32m    121\u001b[0m \u001b[39mreturn\u001b[39;00m \u001b[39mNone\u001b[39;00m\n",
      "File \u001b[0;32m~/github/VT2_airspace_complexity/.venv/lib/python3.9/site-packages/tensorflow/core/function/polymorphism/function_cache.py:87\u001b[0m, in \u001b[0;36mFunctionCacheKey.__eq__\u001b[0;34m(self, other)\u001b[0m\n\u001b[1;32m     83\u001b[0m \u001b[39mif\u001b[39;00m \u001b[39mnot\u001b[39;00m \u001b[39misinstance\u001b[39m(other, FunctionCacheKey):\n\u001b[1;32m     84\u001b[0m   \u001b[39mreturn\u001b[39;00m \u001b[39mFalse\u001b[39;00m\n\u001b[1;32m     86\u001b[0m \u001b[39mreturn\u001b[39;00m (\u001b[39mself\u001b[39m\u001b[39m.\u001b[39mcall_context \u001b[39m==\u001b[39m other\u001b[39m.\u001b[39mcall_context \u001b[39mand\u001b[39;00m\n\u001b[0;32m---> 87\u001b[0m         \u001b[39mself\u001b[39;49m\u001b[39m.\u001b[39;49mfunction_type \u001b[39m==\u001b[39;49m other\u001b[39m.\u001b[39;49mfunction_type)\n",
      "File \u001b[0;32m~/github/VT2_airspace_complexity/.venv/lib/python3.9/site-packages/tensorflow/core/function/polymorphism/function_type.py:242\u001b[0m, in \u001b[0;36mFunctionType.__eq__\u001b[0;34m(self, other)\u001b[0m\n\u001b[1;32m    239\u001b[0m \u001b[39mif\u001b[39;00m \u001b[39mnot\u001b[39;00m \u001b[39misinstance\u001b[39m(other, FunctionType):\n\u001b[1;32m    240\u001b[0m   \u001b[39mreturn\u001b[39;00m \u001b[39mNotImplemented\u001b[39m\n\u001b[0;32m--> 242\u001b[0m \u001b[39mreturn\u001b[39;00m (\u001b[39mself\u001b[39;49m\u001b[39m.\u001b[39;49mparameters, \u001b[39mself\u001b[39;49m\u001b[39m.\u001b[39;49mcaptures) \u001b[39m==\u001b[39;49m (other\u001b[39m.\u001b[39;49mparameters,\n\u001b[1;32m    243\u001b[0m                                             other\u001b[39m.\u001b[39;49mcaptures)\n",
      "File \u001b[0;32m~/github/VT2_airspace_complexity/.venv/lib/python3.9/site-packages/tensorflow/core/function/polymorphism/function_type.py:101\u001b[0m, in \u001b[0;36mParameter.__eq__\u001b[0;34m(self, other)\u001b[0m\n\u001b[1;32m     98\u001b[0m \u001b[39mif\u001b[39;00m \u001b[39mnot\u001b[39;00m \u001b[39misinstance\u001b[39m(other, Parameter):\n\u001b[1;32m     99\u001b[0m   \u001b[39mreturn\u001b[39;00m \u001b[39mNotImplemented\u001b[39m\n\u001b[0;32m--> 101\u001b[0m \u001b[39mreturn\u001b[39;00m ((\u001b[39mself\u001b[39;49m\u001b[39m.\u001b[39;49mname, \u001b[39mself\u001b[39;49m\u001b[39m.\u001b[39;49mkind, \u001b[39mself\u001b[39;49m\u001b[39m.\u001b[39;49moptional,\n\u001b[1;32m    102\u001b[0m          \u001b[39mself\u001b[39;49m\u001b[39m.\u001b[39;49mtype_constraint) \u001b[39m==\u001b[39;49m (other\u001b[39m.\u001b[39;49mname, other\u001b[39m.\u001b[39;49mkind, other\u001b[39m.\u001b[39;49moptional,\n\u001b[1;32m    103\u001b[0m                                    other\u001b[39m.\u001b[39;49mtype_constraint))\n",
      "File \u001b[0;32m~/github/VT2_airspace_complexity/.venv/lib/python3.9/site-packages/tensorflow/core/function/trace_type/default_types.py:204\u001b[0m, in \u001b[0;36mTuple.__eq__\u001b[0;34m(self, other)\u001b[0m\n\u001b[1;32m    201\u001b[0m \u001b[39mif\u001b[39;00m \u001b[39mnot\u001b[39;00m \u001b[39misinstance\u001b[39m(other, Tuple):\n\u001b[1;32m    202\u001b[0m   \u001b[39mreturn\u001b[39;00m \u001b[39mFalse\u001b[39;00m\n\u001b[0;32m--> 204\u001b[0m \u001b[39mreturn\u001b[39;00m \u001b[39mself\u001b[39;49m\u001b[39m.\u001b[39;49mcomponents \u001b[39m==\u001b[39;49m other\u001b[39m.\u001b[39;49mcomponents\n",
      "File \u001b[0;32m~/github/VT2_airspace_complexity/.venv/lib/python3.9/site-packages/tensorflow/core/function/trace_type/default_types.py:204\u001b[0m, in \u001b[0;36mTuple.__eq__\u001b[0;34m(self, other)\u001b[0m\n\u001b[1;32m    201\u001b[0m \u001b[39mif\u001b[39;00m \u001b[39mnot\u001b[39;00m \u001b[39misinstance\u001b[39m(other, Tuple):\n\u001b[1;32m    202\u001b[0m   \u001b[39mreturn\u001b[39;00m \u001b[39mFalse\u001b[39;00m\n\u001b[0;32m--> 204\u001b[0m \u001b[39mreturn\u001b[39;00m \u001b[39mself\u001b[39;49m\u001b[39m.\u001b[39;49mcomponents \u001b[39m==\u001b[39;49m other\u001b[39m.\u001b[39;49mcomponents\n",
      "File \u001b[0;32m~/github/VT2_airspace_complexity/.venv/lib/python3.9/site-packages/tensorflow/core/function/trace_type/default_types.py:581\u001b[0m, in \u001b[0;36mReference.__eq__\u001b[0;34m(self, other)\u001b[0m\n\u001b[1;32m    576\u001b[0m \u001b[39mif\u001b[39;00m \u001b[39mnot\u001b[39;00m \u001b[39misinstance\u001b[39m(other, trace\u001b[39m.\u001b[39mTraceType):\n\u001b[1;32m    577\u001b[0m   \u001b[39mreturn\u001b[39;00m \u001b[39mNotImplemented\u001b[39m\n\u001b[1;32m    579\u001b[0m \u001b[39mreturn\u001b[39;00m \u001b[39misinstance\u001b[39m(\n\u001b[1;32m    580\u001b[0m     other, Reference\n\u001b[0;32m--> 581\u001b[0m ) \u001b[39mand\u001b[39;00m \u001b[39mself\u001b[39m\u001b[39m.\u001b[39midentifier \u001b[39m==\u001b[39m other\u001b[39m.\u001b[39midentifier \u001b[39mand\u001b[39;00m \u001b[39mself\u001b[39;49m\u001b[39m.\u001b[39;49mbase \u001b[39m==\u001b[39;49m other\u001b[39m.\u001b[39;49mbase\n",
      "File \u001b[0;32m~/github/VT2_airspace_complexity/.venv/lib/python3.9/site-packages/tensorflow/python/framework/type_spec.py:477\u001b[0m, in \u001b[0;36mTypeSpec.__eq__\u001b[0;34m(self, other)\u001b[0m\n\u001b[1;32m    474\u001b[0m \u001b[39mdef\u001b[39;00m \u001b[39m__eq__\u001b[39m(\u001b[39mself\u001b[39m, other) \u001b[39m-\u001b[39m\u001b[39m>\u001b[39m \u001b[39mbool\u001b[39m:\n\u001b[1;32m    475\u001b[0m   \u001b[39m# pylint: disable=protected-access\u001b[39;00m\n\u001b[1;32m    476\u001b[0m   \u001b[39mreturn\u001b[39;00m (\u001b[39mtype\u001b[39m(other) \u001b[39mis\u001b[39;00m \u001b[39mtype\u001b[39m(\u001b[39mself\u001b[39m) \u001b[39mand\u001b[39;00m\n\u001b[0;32m--> 477\u001b[0m           \u001b[39mself\u001b[39;49m\u001b[39m.\u001b[39;49m__get_cmp_key() \u001b[39m==\u001b[39m other\u001b[39m.\u001b[39m__get_cmp_key())\n",
      "File \u001b[0;32m~/github/VT2_airspace_complexity/.venv/lib/python3.9/site-packages/tensorflow/python/framework/type_spec.py:532\u001b[0m, in \u001b[0;36mTypeSpec.__get_cmp_key\u001b[0;34m(self)\u001b[0m\n\u001b[1;32m    530\u001b[0m \u001b[39m\u001b[39m\u001b[39m\"\"\"Returns a hashable eq-comparable key for `self`.\"\"\"\u001b[39;00m\n\u001b[1;32m    531\u001b[0m \u001b[39m# TODO(b/133606651): Decide whether to cache this value.\u001b[39;00m\n\u001b[0;32m--> 532\u001b[0m \u001b[39mreturn\u001b[39;00m (\u001b[39mtype\u001b[39m(\u001b[39mself\u001b[39m), \u001b[39mself\u001b[39;49m\u001b[39m.\u001b[39;49m__make_cmp_key(\u001b[39mself\u001b[39;49m\u001b[39m.\u001b[39;49m_serialize()))\n",
      "File \u001b[0;32m~/github/VT2_airspace_complexity/.venv/lib/python3.9/site-packages/tensorflow/python/framework/type_spec.py:550\u001b[0m, in \u001b[0;36mTypeSpec.__make_cmp_key\u001b[0;34m(self, value)\u001b[0m\n\u001b[1;32m    544\u001b[0m   \u001b[39mreturn\u001b[39;00m \u001b[39mtuple\u001b[39m([\n\u001b[1;32m    545\u001b[0m       \u001b[39mtuple\u001b[39m([\u001b[39mself\u001b[39m\u001b[39m.\u001b[39m__make_cmp_key(key),\n\u001b[1;32m    546\u001b[0m              \u001b[39mself\u001b[39m\u001b[39m.\u001b[39m__make_cmp_key(value[key])])\n\u001b[1;32m    547\u001b[0m       \u001b[39mfor\u001b[39;00m key \u001b[39min\u001b[39;00m \u001b[39msorted\u001b[39m(value\u001b[39m.\u001b[39mkeys())\n\u001b[1;32m    548\u001b[0m   ])\n\u001b[1;32m    549\u001b[0m \u001b[39mif\u001b[39;00m \u001b[39misinstance\u001b[39m(value, \u001b[39mtuple\u001b[39m):\n\u001b[0;32m--> 550\u001b[0m   \u001b[39mreturn\u001b[39;00m \u001b[39mtuple\u001b[39m([\u001b[39mself\u001b[39m\u001b[39m.\u001b[39m__make_cmp_key(v) \u001b[39mfor\u001b[39;00m v \u001b[39min\u001b[39;00m value])\n\u001b[1;32m    551\u001b[0m \u001b[39mif\u001b[39;00m \u001b[39misinstance\u001b[39m(value, \u001b[39mlist\u001b[39m):\n\u001b[1;32m    552\u001b[0m   \u001b[39mreturn\u001b[39;00m (\u001b[39mlist\u001b[39m, \u001b[39mtuple\u001b[39m([\u001b[39mself\u001b[39m\u001b[39m.\u001b[39m__make_cmp_key(v) \u001b[39mfor\u001b[39;00m v \u001b[39min\u001b[39;00m value]))\n",
      "File \u001b[0;32m~/github/VT2_airspace_complexity/.venv/lib/python3.9/site-packages/tensorflow/python/framework/type_spec.py:550\u001b[0m, in \u001b[0;36m<listcomp>\u001b[0;34m(.0)\u001b[0m\n\u001b[1;32m    544\u001b[0m   \u001b[39mreturn\u001b[39;00m \u001b[39mtuple\u001b[39m([\n\u001b[1;32m    545\u001b[0m       \u001b[39mtuple\u001b[39m([\u001b[39mself\u001b[39m\u001b[39m.\u001b[39m__make_cmp_key(key),\n\u001b[1;32m    546\u001b[0m              \u001b[39mself\u001b[39m\u001b[39m.\u001b[39m__make_cmp_key(value[key])])\n\u001b[1;32m    547\u001b[0m       \u001b[39mfor\u001b[39;00m key \u001b[39min\u001b[39;00m \u001b[39msorted\u001b[39m(value\u001b[39m.\u001b[39mkeys())\n\u001b[1;32m    548\u001b[0m   ])\n\u001b[1;32m    549\u001b[0m \u001b[39mif\u001b[39;00m \u001b[39misinstance\u001b[39m(value, \u001b[39mtuple\u001b[39m):\n\u001b[0;32m--> 550\u001b[0m   \u001b[39mreturn\u001b[39;00m \u001b[39mtuple\u001b[39m([\u001b[39mself\u001b[39m\u001b[39m.\u001b[39m__make_cmp_key(v) \u001b[39mfor\u001b[39;00m v \u001b[39min\u001b[39;00m value])\n\u001b[1;32m    551\u001b[0m \u001b[39mif\u001b[39;00m \u001b[39misinstance\u001b[39m(value, \u001b[39mlist\u001b[39m):\n\u001b[1;32m    552\u001b[0m   \u001b[39mreturn\u001b[39;00m (\u001b[39mlist\u001b[39m, \u001b[39mtuple\u001b[39m([\u001b[39mself\u001b[39m\u001b[39m.\u001b[39m__make_cmp_key(v) \u001b[39mfor\u001b[39;00m v \u001b[39min\u001b[39;00m value]))\n",
      "\u001b[0;31mKeyboardInterrupt\u001b[0m: "
     ]
    }
   ],
   "source": [
    "(x_train, _), (x_test, _) = keras.datasets.mnist.load_data()\n",
    "mnist_digits = np.concatenate([x_train, x_test], axis=0)\n",
    "mnist_digits = np.expand_dims(mnist_digits, -1).astype(\"float32\") / 255\n",
    "\n",
    "vae = VAE(encoder, decoder)\n",
    "vae.compile(optimizer=keras.optimizers.Adam())\n",
    "vae.fit(X_norm, epochs=100, batch_size=128)"
   ]
  },
  {
   "cell_type": "code",
   "execution_count": 79,
   "metadata": {},
   "outputs": [
    {
     "name": "stdout",
     "output_type": "stream",
     "text": [
      "1/1 [==============================] - 0s 37ms/step\n"
     ]
    },
    {
     "data": {
      "text/plain": [
       "array([[[0.6907426 , 0.549371  , 0.19463943],\n",
       "        [0.6969621 , 0.55315137, 0.19721623],\n",
       "        [0.69641465, 0.5558978 , 0.2002591 ],\n",
       "        [0.69754356, 0.56000936, 0.20656154],\n",
       "        [0.6959812 , 0.5605308 , 0.20772927],\n",
       "        [0.69853127, 0.5632093 , 0.21292295],\n",
       "        [0.69678175, 0.5653821 , 0.2172706 ],\n",
       "        [0.6970598 , 0.5670314 , 0.22266777],\n",
       "        [0.6965304 , 0.5686469 , 0.22765566],\n",
       "        [0.69782305, 0.5719155 , 0.2325912 ],\n",
       "        [0.6970885 , 0.5730434 , 0.23560426],\n",
       "        [0.69627756, 0.57549554, 0.24117318],\n",
       "        [0.6961896 , 0.57737076, 0.24446844],\n",
       "        [0.6962764 , 0.58032095, 0.24922732],\n",
       "        [0.6976585 , 0.58225393, 0.25289145],\n",
       "        [0.6988165 , 0.5854551 , 0.2581783 ],\n",
       "        [0.69919527, 0.5864115 , 0.26213562],\n",
       "        [0.6986488 , 0.5917564 , 0.27093855],\n",
       "        [0.69798994, 0.59200335, 0.27446032],\n",
       "        [0.69835865, 0.5958397 , 0.2776271 ],\n",
       "        [0.6987633 , 0.59930134, 0.28584182],\n",
       "        [0.6999781 , 0.6008295 , 0.2893319 ],\n",
       "        [0.6989233 , 0.6024241 , 0.28602216],\n",
       "        [0.70043075, 0.60553455, 0.2953746 ],\n",
       "        [0.7006031 , 0.6055669 , 0.29895425],\n",
       "        [0.6999192 , 0.6087517 , 0.3015978 ],\n",
       "        [0.7017129 , 0.612749  , 0.30855584],\n",
       "        [0.7020017 , 0.6151181 , 0.31054407],\n",
       "        [0.7020571 , 0.61933666, 0.31516695],\n",
       "        [0.701844  , 0.62133443, 0.31726047],\n",
       "        [0.7016182 , 0.6205737 , 0.32456592],\n",
       "        [0.70241463, 0.6252194 , 0.32931906],\n",
       "        [0.70313   , 0.62674755, 0.3344949 ],\n",
       "        [0.7042128 , 0.6288122 , 0.33517244],\n",
       "        [0.7040815 , 0.63354564, 0.34127447],\n",
       "        [0.70325845, 0.63225836, 0.34588256],\n",
       "        [0.70351136, 0.63551503, 0.35020554],\n",
       "        [0.70423734, 0.63917667, 0.35452244],\n",
       "        [0.70563096, 0.6417701 , 0.35759562],\n",
       "        [0.7056551 , 0.6435883 , 0.36252216],\n",
       "        [0.7065422 , 0.64602417, 0.36448193],\n",
       "        [0.70470864, 0.64734894, 0.3703937 ],\n",
       "        [0.7057304 , 0.6506297 , 0.3746812 ],\n",
       "        [0.706784  , 0.6527884 , 0.37894306],\n",
       "        [0.70698524, 0.6564036 , 0.38371357],\n",
       "        [0.70511514, 0.65878695, 0.3874593 ],\n",
       "        [0.7059461 , 0.6597457 , 0.3927188 ],\n",
       "        [0.70689005, 0.6633455 , 0.39434257],\n",
       "        [0.7090746 , 0.6668917 , 0.3966332 ],\n",
       "        [0.7088392 , 0.66764724, 0.40273196],\n",
       "        [0.70922965, 0.6708539 , 0.405959  ],\n",
       "        [0.7102093 , 0.6761838 , 0.41473132],\n",
       "        [0.70962644, 0.67855984, 0.41758123],\n",
       "        [0.7095896 , 0.679702  , 0.42248842],\n",
       "        [0.70961815, 0.6829953 , 0.42625806],\n",
       "        [0.7118863 , 0.68339014, 0.4290367 ],\n",
       "        [0.71295035, 0.6852968 , 0.43199566],\n",
       "        [0.7127907 , 0.68940103, 0.4345598 ],\n",
       "        [0.71196955, 0.69004357, 0.43715447],\n",
       "        [0.7116964 , 0.6926378 , 0.44360203],\n",
       "        [0.71273506, 0.6939922 , 0.4463764 ],\n",
       "        [0.7124118 , 0.6965231 , 0.4486115 ],\n",
       "        [0.7131351 , 0.70077807, 0.45452976],\n",
       "        [0.7131028 , 0.70166564, 0.45899698],\n",
       "        [0.7138415 , 0.70558476, 0.46713978],\n",
       "        [0.7145068 , 0.7064944 , 0.46874806],\n",
       "        [0.7161353 , 0.7105639 , 0.473529  ],\n",
       "        [0.7152447 , 0.7151608 , 0.4769151 ],\n",
       "        [0.715029  , 0.7158904 , 0.48113498],\n",
       "        [0.7155546 , 0.7170608 , 0.4843513 ],\n",
       "        [0.7159089 , 0.7206594 , 0.48906922],\n",
       "        [0.7171397 , 0.72508246, 0.49267173],\n",
       "        [0.71859574, 0.7271321 , 0.49701986],\n",
       "        [0.7179917 , 0.7279732 , 0.50156075],\n",
       "        [0.71672034, 0.7298552 , 0.5036076 ],\n",
       "        [0.7174244 , 0.7331844 , 0.51025033],\n",
       "        [0.71707296, 0.7351357 , 0.51314515],\n",
       "        [0.7182392 , 0.7390993 , 0.51895565],\n",
       "        [0.7175737 , 0.73908097, 0.5221082 ],\n",
       "        [0.71980995, 0.7415621 , 0.5237937 ],\n",
       "        [0.717063  , 0.7451173 , 0.5273383 ],\n",
       "        [0.71808416, 0.74461806, 0.5318012 ],\n",
       "        [0.72094315, 0.750904  , 0.5402037 ],\n",
       "        [0.7236301 , 0.7531019 , 0.54254586],\n",
       "        [0.7217474 , 0.75144786, 0.5381156 ],\n",
       "        [0.72183806, 0.75830525, 0.5458502 ],\n",
       "        [0.7236541 , 0.7605592 , 0.55035305],\n",
       "        [0.7217137 , 0.76113015, 0.55364025],\n",
       "        [0.72377145, 0.76504105, 0.56065214],\n",
       "        [0.7244016 , 0.76956713, 0.56468356],\n",
       "        [0.7248495 , 0.77215797, 0.56871253],\n",
       "        [0.72628564, 0.7757094 , 0.5742667 ],\n",
       "        [0.7253417 , 0.77357626, 0.57230484],\n",
       "        [0.7267583 , 0.77727735, 0.5763177 ],\n",
       "        [0.7266393 , 0.78018725, 0.58061785],\n",
       "        [0.72821426, 0.7841325 , 0.5865744 ],\n",
       "        [0.7273448 , 0.78471696, 0.5882151 ],\n",
       "        [0.7300821 , 0.7892421 , 0.59437245],\n",
       "        [0.7293664 , 0.7904611 , 0.5973984 ],\n",
       "        [0.7289974 , 0.7924322 , 0.6013188 ]]], dtype=float32)"
      ]
     },
     "execution_count": 79,
     "metadata": {},
     "output_type": "execute_result"
    }
   ],
   "source": [
    "# function xn that returns a random number between -1 and 1\n",
    "import random\n",
    "def xn():\n",
    "    return random.uniform(-1, 1)\n",
    "\n",
    "z_sample = np.array([[xn(), xn(), xn(), xn(), xn(), xn(), xn(), xn(), xn(), xn(),\n",
    "                      xn(), xn(), xn(), xn(), xn(), xn(), xn(), xn(), xn(), xn(),\n",
    "                      xn(), xn(), xn(), xn(), xn(), xn(), xn(), xn(), xn(), xn(),\n",
    "                      xn(), xn(), xn(), xn(), xn(), xn(), xn(), xn(), xn(), xn(),\n",
    "                      xn(), xn(), xn(), xn(), xn(), xn(), xn(), xn(), xn(), xn(),\n",
    "                      xn(), xn(), xn(), xn(), xn(), xn(), xn(), xn(), xn(), xn(),\n",
    "                      xn(), xn(), xn(), xn()]])\n",
    "vae.decoder.predict(z_sample)"
   ]
  },
  {
   "cell_type": "code",
   "execution_count": 81,
   "metadata": {},
   "outputs": [
    {
     "data": {
      "text/plain": [
       "array([[0.00111813, 0.53393342, 0.66666667],\n",
       "       [0.00949477, 0.53452993, 0.66666667],\n",
       "       [0.02021482, 0.53508716, 0.66666667],\n",
       "       [0.03298477, 0.5359337 , 0.66666667],\n",
       "       [0.04262863, 0.53650522, 0.66666667],\n",
       "       [0.05185318, 0.53707673, 0.66666667],\n",
       "       [0.06172066, 0.53773396, 0.66666667],\n",
       "       [0.07134122, 0.53829118, 0.66666667],\n",
       "       [0.08078474, 0.53893413, 0.66666667],\n",
       "       [0.09294438, 0.53964852, 0.66666667],\n",
       "       [0.1031473 , 0.54036291, 0.66666667],\n",
       "       [0.11223209, 0.54093442, 0.66666667],\n",
       "       [0.122435  , 0.54150593, 0.66666667],\n",
       "       [0.13236305, 0.54219174, 0.66666667],\n",
       "       [0.14326013, 0.5429347 , 0.66666667],\n",
       "       [0.1532534 , 0.5435848 , 0.66666667],\n",
       "       [0.16246165, 0.54414202, 0.66666667],\n",
       "       [0.17304427, 0.54483855, 0.66666667],\n",
       "       [0.18295367, 0.5455065 , 0.66666667],\n",
       "       [0.19161917, 0.54607801, 0.66666667],\n",
       "       [0.20492955, 0.54692813, 0.66666667],\n",
       "       [0.21342266, 0.54736391, 0.66666667],\n",
       "       [0.22306651, 0.5480783 , 0.66666667],\n",
       "       [0.23229107, 0.54864981, 0.66666667],\n",
       "       [0.24291328, 0.54922132, 0.66666667],\n",
       "       [0.25493316, 0.54993571, 0.66666667],\n",
       "       [0.26415771, 0.55050722, 0.66666667],\n",
       "       [0.27477993, 0.5512216 , 0.66666667],\n",
       "       [0.28230633, 0.55166452, 0.66666667],\n",
       "       [0.29343869, 0.55222175, 0.66666667],\n",
       "       [0.30329219, 0.55279326, 0.66666667],\n",
       "       [0.31515366, 0.5536148 , 0.66666667],\n",
       "       [0.32491166, 0.55417202, 0.66666667],\n",
       "       [0.33508196, 0.55472925, 0.66666667],\n",
       "       [0.34429021, 0.55528647, 0.66666667],\n",
       "       [0.35391077, 0.55584369, 0.66666667],\n",
       "       [0.36655493, 0.55667953, 0.66666667],\n",
       "       [0.37590062, 0.55723675, 0.66666667],\n",
       "       [0.38575412, 0.55793685, 0.66666667],\n",
       "       [0.39527917, 0.5584905 , 0.66666667],\n",
       "       [0.40574065, 0.55907987, 0.66666667],\n",
       "       [0.41465772, 0.55974425, 0.66666667],\n",
       "       [0.42754415, 0.56050864, 0.66666667],\n",
       "       [0.43692245, 0.56113731, 0.66666667],\n",
       "       [0.44668044, 0.56169453, 0.66666667],\n",
       "       [0.456301  , 0.56225175, 0.66666667],\n",
       "       [0.46592156, 0.56280897, 0.66666667],\n",
       "       [0.47576341, 0.56350907, 0.66666667],\n",
       "       [0.48763653, 0.56406272, 0.66666667],\n",
       "       [0.49700784, 0.56465209, 0.66666667],\n",
       "       [0.50674021, 0.56517717, 0.66666667],\n",
       "       [0.51559672, 0.56579511, 0.66666667],\n",
       "       [0.52621893, 0.56636662, 0.66666667],\n",
       "       [0.53767974, 0.56693813, 0.66666667],\n",
       "       [0.54742143, 0.56754536, 0.66666667],\n",
       "       [0.55704199, 0.56810259, 0.66666667],\n",
       "       [0.56666255, 0.56865981, 0.66666667],\n",
       "       [0.57555633, 0.56922417, 0.66666667],\n",
       "       [0.58813527, 0.57008144, 0.66666667],\n",
       "       [0.59638146, 0.57065295, 0.66666667],\n",
       "       [0.60700367, 0.57136734, 0.66666667],\n",
       "       [0.61664753, 0.57193885, 0.66666667],\n",
       "       [0.62629138, 0.57265324, 0.66666667],\n",
       "       [0.63661776, 0.57325689, 0.66666667],\n",
       "       [0.64857474, 0.57409273, 0.66666667],\n",
       "       [0.65843756, 0.57465352, 0.66666667],\n",
       "       [0.66710305, 0.57522503, 0.66666667],\n",
       "       [0.67688667, 0.5759037 , 0.66666667],\n",
       "       [0.68650722, 0.57660023, 0.66666667],\n",
       "       [0.69827086, 0.5773682 , 0.66666667],\n",
       "       [0.70849707, 0.57799328, 0.66666667],\n",
       "       [0.7178381 , 0.57865409, 0.66666667],\n",
       "       [0.72748195, 0.5792256 , 0.66666667],\n",
       "       [0.73698604, 0.57979711, 0.66666667],\n",
       "       [0.74607083, 0.5805115 , 0.66666667],\n",
       "       [0.7580907 , 0.58122589, 0.66666667],\n",
       "       [0.7680071 , 0.58189384, 0.66666667],\n",
       "       [0.77779771, 0.58251179, 0.66666667],\n",
       "       [0.78744156, 0.5830833 , 0.66666667],\n",
       "       [0.79708541, 0.58365481, 0.66666667],\n",
       "       [0.80966435, 0.58451207, 0.66666667],\n",
       "       [0.81858375, 0.58509787, 0.66666667],\n",
       "       [0.82853276, 0.58565509, 0.66666667],\n",
       "       [0.83817661, 0.5862266 , 0.66666667],\n",
       "       [0.84799517, 0.58690884, 0.66666667],\n",
       "       [0.85775317, 0.58746607, 0.66666667],\n",
       "       [0.86929784, 0.58816259, 0.66666667],\n",
       "       [0.87968711, 0.5887984 , 0.66666667],\n",
       "       [0.88853896, 0.58941635, 0.66666667],\n",
       "       [0.89785669, 0.5900843 , 0.66666667],\n",
       "       [0.90819238, 0.5906701 , 0.66666667],\n",
       "       [0.92049878, 0.5913702 , 0.66666667],\n",
       "       [0.92916427, 0.59194171, 0.66666667],\n",
       "       [0.93964672, 0.59265609, 0.66666667],\n",
       "       [0.94817244, 0.5932276 , 0.66666667],\n",
       "       [0.95904391, 0.59387412, 0.66666667],\n",
       "       [0.96811472, 0.59443135, 0.66666667],\n",
       "       [0.9800717 , 0.59526718, 0.66666667],\n",
       "       [0.98884434, 0.5957994 , 0.66666667],\n",
       "       [0.99834843, 0.59637091, 0.66666667]])"
      ]
     },
     "execution_count": 81,
     "metadata": {},
     "output_type": "execute_result"
    }
   ],
   "source": [
    "flight = X_norm[0]\n",
    "flight"
   ]
  },
  {
   "cell_type": "code",
   "execution_count": 92,
   "metadata": {},
   "outputs": [
    {
     "name": "stdout",
     "output_type": "stream",
     "text": [
      "1/1 [==============================] - 0s 32ms/step\n"
     ]
    },
    {
     "data": {
      "text/plain": [
       "array([[-5.94833749e-04,  2.18290510e-03, -7.29250780e-04,\n",
       "        -3.49014212e-04, -5.53219928e-04, -1.75494724e-03,\n",
       "        -5.92566910e-04, -6.97277894e-04, -1.43785484e-03,\n",
       "        -2.50421977e-03,  1.68913184e-03, -6.14593155e-04,\n",
       "         1.38475327e-03,  1.15330622e-03,  4.44701349e-04,\n",
       "         5.68347226e-04, -8.27022945e-04,  9.56963864e-04,\n",
       "         9.38942540e-04,  8.30798002e-04,  6.92930655e-04,\n",
       "        -8.77820305e-04, -1.22959586e-03,  7.27375911e-04,\n",
       "         1.30962243e-03, -2.51902849e-04, -2.69175565e-04,\n",
       "        -1.53219653e-03, -6.46170229e-04, -2.26960168e-03,\n",
       "        -7.87536497e-04,  8.32755934e-04,  7.93049170e-04,\n",
       "         1.30994618e-03,  9.72002163e-04,  1.17898584e-04,\n",
       "         1.07937166e-03,  7.66088255e-04,  1.69732404e-04,\n",
       "         1.03906204e-03,  4.74554108e-05,  5.60283021e-04,\n",
       "        -1.19557162e-03,  8.12663406e-04,  1.43915764e-03,\n",
       "        -2.04384048e-03,  7.86685967e-04,  3.11117154e-04,\n",
       "        -5.74607984e-04,  1.90559868e-03,  7.39016104e-04,\n",
       "        -3.03241308e-04,  4.52194014e-04,  1.03680207e-03,\n",
       "        -3.76973621e-04, -2.82366091e-04,  7.24342681e-05,\n",
       "        -1.07336600e-04,  1.41931104e-03, -8.86616122e-04,\n",
       "        -1.06124801e-03,  7.44662364e-04, -1.25165377e-03,\n",
       "         4.27250954e-04]], dtype=float32)"
      ]
     },
     "execution_count": 92,
     "metadata": {},
     "output_type": "execute_result"
    }
   ],
   "source": [
    "enc = vae.encoder.predict(flight.reshape(1, 100, 3))\n",
    "enc[0]"
   ]
  },
  {
   "cell_type": "code",
   "execution_count": 93,
   "metadata": {},
   "outputs": [
    {
     "name": "stdout",
     "output_type": "stream",
     "text": [
      "1/1 [==============================] - 0s 29ms/step\n"
     ]
    },
    {
     "data": {
      "text/plain": [
       "array([[[0.6892302 , 0.54904354, 0.19475594],\n",
       "        [0.69607234, 0.5533517 , 0.19754434],\n",
       "        [0.695689  , 0.5563254 , 0.20038743],\n",
       "        [0.69744194, 0.5588974 , 0.20549928],\n",
       "        [0.69646275, 0.56053394, 0.20764148],\n",
       "        [0.6977079 , 0.56322026, 0.21370761],\n",
       "        [0.6966444 , 0.5651057 , 0.21830036],\n",
       "        [0.6968043 , 0.5675191 , 0.2249658 ],\n",
       "        [0.69646615, 0.56900406, 0.22786106],\n",
       "        [0.69774747, 0.5719139 , 0.2325519 ],\n",
       "        [0.69670725, 0.57219535, 0.23568642],\n",
       "        [0.69607025, 0.5755879 , 0.24150452],\n",
       "        [0.6960862 , 0.5766936 , 0.24302602],\n",
       "        [0.6972692 , 0.57985264, 0.24725203],\n",
       "        [0.6972171 , 0.58112186, 0.2527848 ],\n",
       "        [0.6984051 , 0.5854509 , 0.25698325],\n",
       "        [0.6987298 , 0.5859721 , 0.26265988],\n",
       "        [0.69844806, 0.5905035 , 0.26780972],\n",
       "        [0.69863653, 0.5914969 , 0.27254704],\n",
       "        [0.6982881 , 0.5940336 , 0.27468854],\n",
       "        [0.698382  , 0.59858173, 0.2837322 ],\n",
       "        [0.7000341 , 0.59987336, 0.28742397],\n",
       "        [0.6990812 , 0.6024366 , 0.28608885],\n",
       "        [0.6995092 , 0.605793  , 0.29795495],\n",
       "        [0.70129687, 0.6060524 , 0.29979315],\n",
       "        [0.69991636, 0.6091233 , 0.3022661 ],\n",
       "        [0.70208234, 0.6125577 , 0.3062056 ],\n",
       "        [0.70098156, 0.6145018 , 0.3127234 ],\n",
       "        [0.701352  , 0.6167357 , 0.31681043],\n",
       "        [0.7020994 , 0.6212355 , 0.31953496],\n",
       "        [0.7007413 , 0.6208617 , 0.32515204],\n",
       "        [0.70355415, 0.62626195, 0.32918644],\n",
       "        [0.7035281 , 0.62661964, 0.33398178],\n",
       "        [0.7042434 , 0.62958515, 0.33567098],\n",
       "        [0.70429456, 0.63387203, 0.34165   ],\n",
       "        [0.7033535 , 0.6311119 , 0.34416196],\n",
       "        [0.7022096 , 0.6336508 , 0.34913254],\n",
       "        [0.7049379 , 0.6387525 , 0.35130548],\n",
       "        [0.7051128 , 0.64048827, 0.3552582 ],\n",
       "        [0.70730954, 0.6447936 , 0.36260605],\n",
       "        [0.7065956 , 0.64615285, 0.36494216],\n",
       "        [0.70414025, 0.64731765, 0.3716197 ],\n",
       "        [0.7050557 , 0.6505887 , 0.37546903],\n",
       "        [0.70474935, 0.6513576 , 0.37916696],\n",
       "        [0.7066249 , 0.6557577 , 0.38361537],\n",
       "        [0.70504785, 0.6580799 , 0.38743997],\n",
       "        [0.7060858 , 0.6597339 , 0.39220926],\n",
       "        [0.7069187 , 0.66298133, 0.39389446],\n",
       "        [0.70896167, 0.6667988 , 0.39663473],\n",
       "        [0.7087271 , 0.66777617, 0.4031234 ],\n",
       "        [0.7092595 , 0.6709614 , 0.4059484 ],\n",
       "        [0.7104729 , 0.676655  , 0.41564438],\n",
       "        [0.7099533 , 0.6793481 , 0.41839102],\n",
       "        [0.709813  , 0.67996806, 0.4232169 ],\n",
       "        [0.7095161 , 0.68221587, 0.4266151 ],\n",
       "        [0.71067446, 0.6816332 , 0.425764  ],\n",
       "        [0.71210015, 0.6845514 , 0.43107122],\n",
       "        [0.7119671 , 0.68752074, 0.434395  ],\n",
       "        [0.7109841 , 0.69001186, 0.43771765],\n",
       "        [0.71316135, 0.6926952 , 0.44345835],\n",
       "        [0.7141112 , 0.69487464, 0.44589385],\n",
       "        [0.71440077, 0.69740283, 0.44933605],\n",
       "        [0.7140112 , 0.69913006, 0.45272946],\n",
       "        [0.71328586, 0.7020166 , 0.45736295],\n",
       "        [0.7143605 , 0.70633864, 0.46458578],\n",
       "        [0.7145395 , 0.70653284, 0.46798992],\n",
       "        [0.7166465 , 0.7109512 , 0.47309405],\n",
       "        [0.71596926, 0.71672463, 0.47827578],\n",
       "        [0.71716946, 0.7181902 , 0.4827673 ],\n",
       "        [0.71566623, 0.7180886 , 0.48560524],\n",
       "        [0.7153711 , 0.7193449 , 0.48825315],\n",
       "        [0.7168774 , 0.7242567 , 0.4917946 ],\n",
       "        [0.71830326, 0.7263865 , 0.49580467],\n",
       "        [0.71754956, 0.7290035 , 0.50297016],\n",
       "        [0.7157044 , 0.73069763, 0.50613505],\n",
       "        [0.7175374 , 0.7320299 , 0.506518  ],\n",
       "        [0.71693385, 0.7315482 , 0.5057018 ],\n",
       "        [0.7175173 , 0.7354972 , 0.51230335],\n",
       "        [0.7169412 , 0.7362136 , 0.5168326 ],\n",
       "        [0.7188855 , 0.73919517, 0.52055705],\n",
       "        [0.71779346, 0.7440838 , 0.5256671 ],\n",
       "        [0.7193045 , 0.74553835, 0.53072906],\n",
       "        [0.7221052 , 0.75152045, 0.5383374 ],\n",
       "        [0.72264946, 0.7510539 , 0.53917116],\n",
       "        [0.7215696 , 0.75157714, 0.5383635 ],\n",
       "        [0.72193533, 0.75875974, 0.5464274 ],\n",
       "        [0.7236574 , 0.7607137 , 0.5507611 ],\n",
       "        [0.72206074, 0.7615414 , 0.55412376],\n",
       "        [0.7234955 , 0.76336116, 0.5584205 ],\n",
       "        [0.7238793 , 0.7683069 , 0.56292516],\n",
       "        [0.72487146, 0.77084225, 0.5664875 ],\n",
       "        [0.7255459 , 0.7739668 , 0.5717099 ],\n",
       "        [0.7250949 , 0.77313495, 0.5718563 ],\n",
       "        [0.72667336, 0.7769584 , 0.5765045 ],\n",
       "        [0.7263204 , 0.7797176 , 0.58019435],\n",
       "        [0.7277097 , 0.7830498 , 0.58595693],\n",
       "        [0.7267218 , 0.7835248 , 0.5868733 ],\n",
       "        [0.72957623, 0.78809977, 0.5931013 ],\n",
       "        [0.72925365, 0.78968674, 0.5955401 ],\n",
       "        [0.7282065 , 0.7909615 , 0.5994824 ]]], dtype=float32)"
      ]
     },
     "execution_count": 93,
     "metadata": {},
     "output_type": "execute_result"
    }
   ],
   "source": [
    "vae.decoder.predict(enc[0])"
   ]
  }
 ],
 "metadata": {
  "kernelspec": {
   "display_name": ".venv",
   "language": "python",
   "name": "python3"
  },
  "language_info": {
   "codemirror_mode": {
    "name": "ipython",
    "version": 3
   },
   "file_extension": ".py",
   "mimetype": "text/x-python",
   "name": "python",
   "nbconvert_exporter": "python",
   "pygments_lexer": "ipython3",
   "version": "3.9.12"
  },
  "orig_nbformat": 4
 },
 "nbformat": 4,
 "nbformat_minor": 2
}
