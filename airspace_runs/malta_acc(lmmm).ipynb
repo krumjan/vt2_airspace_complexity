{
 "cells": [
  {
   "cell_type": "markdown",
   "metadata": {},
   "source": [
    "### Import libraries"
   ]
  },
  {
   "cell_type": "code",
   "execution_count": null,
   "metadata": {},
   "outputs": [],
   "source": [
    "# change of working directory to src\n",
    "import os\n",
    "os.chdir('/cluster/home/krum/github/VT2_airspace_complexity/src')\n",
    "\n",
    "import pandas as pd\n",
    "from traffic.core import Traffic\n",
    "from complexity.airspace import airspace\n",
    "from traffic.data import nm_airspaces\n",
    "from utils import viz as viz"
   ]
  },
  {
   "cell_type": "markdown",
   "metadata": {},
   "source": [
    "### Defining airspace"
   ]
  },
  {
   "cell_type": "code",
   "execution_count": null,
   "metadata": {},
   "outputs": [],
   "source": [
    "# Deinition of airspace\n",
    "lmmm = airspace(\n",
    "    id=\"LMMM\",\n",
    "    volume = nm_airspaces['LMMMALL']\n",
    ")\n",
    "lmmm.plot()"
   ]
  },
  {
   "cell_type": "markdown",
   "metadata": {},
   "source": [
    "### Processing ADS-B data"
   ]
  },
  {
   "cell_type": "code",
   "execution_count": null,
   "metadata": {},
   "outputs": [],
   "source": [
    "# Fetching of ADS-B data\n",
    "lmmm.data_fetch(\n",
    "    start_date=\"2019-01-01\",\n",
    "    end_date=\"2020-01-01\",\n",
    "    )"
   ]
  },
  {
   "cell_type": "code",
   "execution_count": null,
   "metadata": {},
   "outputs": [],
   "source": [
    "# Preprocessing ADS-B data\n",
    "lmmm.data_preprocess()\n",
    "# Visualisation of airspace and trajectories before pre-processing\n",
    "fig1 = lmmm.plot(traj_sample= True, traj_num=1000, reduced=False)\n",
    "fig1.show()\n",
    "# Visualisation of airspace and trajectories after pre-processing\n",
    "fig2 = lmmm.plot(traj_sample= True, traj_num=1000, reduced=True)\n",
    "fig2.show()"
   ]
  },
  {
   "cell_type": "markdown",
   "metadata": {},
   "source": [
    "### Determine hourly traffic load"
   ]
  },
  {
   "cell_type": "code",
   "execution_count": null,
   "metadata": {},
   "outputs": [],
   "source": [
    "# Generation of dataframe containing hourly entry counts\n",
    "lmmm.hourly_generate_df()\n",
    "# Plotting of heatmap of hourly count\n",
    "fig = lmmm.hourly_heatmap()\n",
    "fig.show()"
   ]
  },
  {
   "cell_type": "markdown",
   "metadata": {},
   "source": [
    "### Reduction to low traffic"
   ]
  },
  {
   "cell_type": "code",
   "execution_count": null,
   "metadata": {},
   "outputs": [],
   "source": [
    "# Generation of heatmap-like plot\n",
    "fig1 = lmmm.hourly_heatmap_low(reference_type='max_perc', reference_value=0.45)\n",
    "fig1.show()\n",
    "# Generation of multiple boxplots\n",
    "fig2 = lmmm.hourly_boxplots(reference_type='max_perc', reference_value=0.45)\n",
    "fig2.show()\n",
    "# Generation of Cumulative distribution function\n",
    "fig3 = lmmm.hourly_cdf(reference_type='max_perc', reference_value=0.45)\n",
    "fig3.show()"
   ]
  },
  {
   "cell_type": "markdown",
   "metadata": {},
   "source": [
    "### Simulation runs"
   ]
  },
  {
   "cell_type": "markdown",
   "metadata": {},
   "source": [
    "#### identical intervals"
   ]
  },
  {
   "cell_type": "code",
   "execution_count": null,
   "metadata": {},
   "outputs": [],
   "source": [
    "# 120 seconds intervals\n",
    "lmmm.simulation_monte_carlo_run(duration=24,\n",
    "                                interval=120,\n",
    "                                runs=10000,\n",
    "                                max_process=120,\n",
    "                                max_reads=80)\n",
    "fig = lmmm.simulation_monte_carlo_plot_histogram(duration=24, interval=120, ci=0.9)\n",
    "fig.show()"
   ]
  },
  {
   "cell_type": "code",
   "execution_count": null,
   "metadata": {},
   "outputs": [],
   "source": [
    "# 100 seconds intervals\n",
    "lmmm.simulation_monte_carlo_run(duration=24,\n",
    "                                interval=100,\n",
    "                                runs=10000,\n",
    "                                max_process=120,\n",
    "                                max_reads=80)\n",
    "fig = lmmm.simulation_monte_carlo_plot_histogram(duration=24, interval=100, ci=0.9)\n",
    "fig.show()"
   ]
  },
  {
   "cell_type": "code",
   "execution_count": null,
   "metadata": {},
   "outputs": [],
   "source": [
    "# 80 seconds intervals\n",
    "lmmm.simulation_monte_carlo_run(duration=24,\n",
    "                                interval=80,\n",
    "                                runs=10000,\n",
    "                                max_process=120,\n",
    "                                max_reads=80)\n",
    "fig = lmmm.simulation_monte_carlo_plot_histogram(duration=24, interval=80, ci=0.9)\n",
    "fig.show()"
   ]
  },
  {
   "cell_type": "code",
   "execution_count": null,
   "metadata": {},
   "outputs": [],
   "source": [
    "# 60 seconds intervals\n",
    "lmmm.simulation_monte_carlo_run(duration=24,\n",
    "                                interval=60,\n",
    "                                runs=10000, \n",
    "                                max_process=120,\n",
    "                                max_reads=80)\n",
    "fig = lmmm.simulation_monte_carlo_plot_histogram(duration=24, interval=60, ci=0.9)\n",
    "fig.show()"
   ]
  },
  {
   "cell_type": "code",
   "execution_count": null,
   "metadata": {},
   "outputs": [],
   "source": [
    "# 40 seconds intervals\n",
    "lmmm.simulation_monte_carlo_run(duration=24,\n",
    "                                interval=40,\n",
    "                                runs=10000,\n",
    "                                max_process=120,\n",
    "                                max_reads=80)\n",
    "fig = lmmm.simulation_monte_carlo_plot_histogram(duration=24, interval=40, ci=0.9)\n",
    "fig.show()"
   ]
  },
  {
   "cell_type": "code",
   "execution_count": null,
   "metadata": {},
   "outputs": [],
   "source": [
    "# 20 seconds intervals\n",
    "lmmm.simulation_monte_carlo_run(duration=24,\n",
    "                                interval=20,\n",
    "                                runs=10000,\n",
    "                                max_process=120,\n",
    "                                max_reads=80)\n",
    "fig = lmmm.simulation_monte_carlo_plot_histogram(duration=24, interval=20, ci=0.9)\n",
    "fig.show()"
   ]
  },
  {
   "cell_type": "markdown",
   "metadata": {},
   "source": [
    "#### Traffic volume dependant intervals"
   ]
  },
  {
   "cell_type": "code",
   "execution_count": null,
   "metadata": {},
   "outputs": [],
   "source": [
    "# determination of intervals corresponding to peak and average traffic\n",
    "hourly_df = pd.read_parquet(\"../data/LMMM/04_hourly/hourly_df.parquet\")\n",
    "all_traf = Traffic.from_file(\"../data/LMMM/03_preprocessed/preprocessed_all_red.parquet\")\n",
    "int_peak = (60*60)/hourly_df.ac_count.max()\n",
    "int_avg = (365*24*60*60)/len(all_traf)\n",
    "\n",
    "# average interval\n",
    "int_avg = round((365*24*60*60)/len(all_traf))\n",
    "print(int_avg)\n",
    "\n",
    "# peak interval\n",
    "int_peak = round((60*60)/hourly_df.ac_count.max())\n",
    "print(int_peak)"
   ]
  },
  {
   "cell_type": "code",
   "execution_count": null,
   "metadata": {},
   "outputs": [],
   "source": [
    "# average intervals\n",
    "lmmm.simulation_monte_carlo_run(duration=24,\n",
    "                                interval=int_avg,\n",
    "                                runs=10000,\n",
    "                                max_process=120,\n",
    "                                max_reads=80)\n",
    "fig = lmmm.simulation_monte_carlo_plot_histogram(duration=24, interval=262, ci=0.9)\n",
    "fig.show()"
   ]
  },
  {
   "cell_type": "code",
   "execution_count": null,
   "metadata": {},
   "outputs": [],
   "source": [
    "# peak intervals\n",
    "lmmm.simulation_monte_carlo_run(duration=24,\n",
    "                                interval=int_peak,\n",
    "                                runs=10000,\n",
    "                                max_process=120,\n",
    "                                max_reads=80)\n",
    "fig = lmmm.simulation_monte_carlo_plot_histogram(duration=24, interval=77, ci=0.9)\n",
    "fig.show()"
   ]
  },
  {
   "cell_type": "markdown",
   "metadata": {},
   "source": [
    "### Visualisation of complexity maps"
   ]
  },
  {
   "cell_type": "code",
   "execution_count": null,
   "metadata": {},
   "outputs": [],
   "source": [
    "import pickle\n",
    "\n",
    "with open('../data/LMMM/06_monte_carlo/24_20/cube_counts_aggregated.pkl', 'rb') as handle:\n",
    "    b = pickle.load(handle)\n",
    "\n",
    "result_dict = {}\n",
    "for key, values in b.items():\n",
    "    average = sum(values) / len(values)\n",
    "    result_dict[key] = average\n",
    "\n",
    "sorted_keys = sorted(result_dict, key=result_dict.get, reverse=True)\n",
    "\n",
    "for key in sorted_keys:\n",
    "    print(key, result_dict[key])"
   ]
  },
  {
   "cell_type": "code",
   "execution_count": null,
   "metadata": {},
   "outputs": [],
   "source": [
    "fig=lmmm.simulation_monte_carlo_plot_map(duration=24,\n",
    "                                         interval=120,\n",
    "                                         alt_low=36500,\n",
    "                                         zoom=5.7)\n",
    "fig.show()"
   ]
  },
  {
   "cell_type": "code",
   "execution_count": null,
   "metadata": {},
   "outputs": [],
   "source": [
    "fig=lmmm.simulation_monte_carlo_plot_map(duration=24,\n",
    "                                         interval=120,\n",
    "                                         alt_low=38500,\n",
    "                                         zoom=5.7)\n",
    "fig.show()"
   ]
  }
 ],
 "metadata": {
  "kernelspec": {
   "display_name": "Python 3 (ipykernel)",
   "language": "python",
   "name": "python3"
  },
  "language_info": {
   "codemirror_mode": {
    "name": "ipython",
    "version": 3
   },
   "file_extension": ".py",
   "mimetype": "text/x-python",
   "name": "python",
   "nbconvert_exporter": "python",
   "pygments_lexer": "ipython3",
   "version": "3.11.0"
  }
 },
 "nbformat": 4,
 "nbformat_minor": 2
}
