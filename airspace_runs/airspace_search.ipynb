{
 "cells": [
  {
   "cell_type": "markdown",
   "metadata": {},
   "source": [
    "### Import libraries"
   ]
  },
  {
   "cell_type": "code",
   "execution_count": null,
   "metadata": {},
   "outputs": [],
   "source": [
    "import pandas as pd\n",
    "from traffic.data import nm_airspaces\n",
    "from complexity.airspace import airspace"
   ]
  },
  {
   "cell_type": "markdown",
   "metadata": {},
   "source": [
    "### Print all CS airspaces starting with..."
   ]
  },
  {
   "cell_type": "code",
   "execution_count": null,
   "metadata": {},
   "outputs": [],
   "source": [
    "startwith = \"LDZO\"\n",
    "\n",
    "aspc = nm_airspaces.query(f'type == \"CS\" and designator.str.startswith(\"{startwith}\")')\n",
    "temp = pd.DataFrame(aspc.data)\n",
    "temp = temp[(temp.upper == float('inf')) & (temp.lower < 500)]\n",
    "temp.designator.unique()"
   ]
  },
  {
   "cell_type": "markdown",
   "metadata": {},
   "source": [
    "### Definition and visualisation of candidate airspaces"
   ]
  },
  {
   "cell_type": "code",
   "execution_count": null,
   "metadata": {},
   "outputs": [],
   "source": [
    "# Deinition and plot airspace\n",
    "test = airspace(\n",
    "    id=\"test\",\n",
    "    volume = nm_airspaces['LDZOACCX']\n",
    ")\n",
    "fig = test.plot(traj_sample= False, traj_num=10, reduced=False)\n",
    "fig.show()"
   ]
  }
 ],
 "metadata": {
  "kernelspec": {
   "display_name": ".venv",
   "language": "python",
   "name": "python3"
  },
  "language_info": {
   "codemirror_mode": {
    "name": "ipython",
    "version": 3
   },
   "file_extension": ".py",
   "mimetype": "text/x-python",
   "name": "python",
   "nbconvert_exporter": "python",
   "pygments_lexer": "ipython3",
   "version": "3.11.0"
  },
  "orig_nbformat": 4
 },
 "nbformat": 4,
 "nbformat_minor": 2
}
